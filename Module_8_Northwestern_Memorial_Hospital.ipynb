{
 "cells": [
  {
   "cell_type": "code",
   "execution_count": 1,
   "id": "c6aeca3f-5c8b-4422-951c-b394409f5e5f",
   "metadata": {},
   "outputs": [
    {
     "name": "stdout",
     "output_type": "stream",
     "text": [
      "Environment is ready!\n"
     ]
    }
   ],
   "source": [
    "import langchain\n",
    "import langgraph\n",
    "import openai\n",
    "\n",
    "print(\"Environment is ready!\")"
   ]
  },
  {
   "cell_type": "code",
   "execution_count": 21,
   "id": "cdf1f968-0057-42ec-83dc-4c76092c0fd9",
   "metadata": {},
   "outputs": [],
   "source": [
    "# Sample data for Primary Care Department\n",
    "primary_care_data = {\n",
    "    \"How can I schedule an appointment with my primary care physician?\": \"You can schedule online via the patient portal or call our front desk at (312) 555-1234.\",\n",
    "    \"Do I need a referral to see a specialist?\": \"Yes, in most cases your primary care provider must provide a referral.\",\n",
    "    \"Can my primary care doctor refill my prescription?\": \"Yes, prescription refills can be requested through the patient portal or by phone.\",\n",
    "    \"What conditions does primary care treat?\": \"Common conditions include colds, flu, diabetes, hypertension, and preventative care.\",\n",
    "    \"Are annual physicals covered by insurance?\": \"Most insurance plans cover annual physicals at no additional cost.\",\n",
    "    \"Can I get blood work done during my primary care visit?\": \"Yes, most clinics can collect blood samples during your visit.\",\n",
    "    \"What should I bring to my first primary care appointment?\": \"Please bring a photo ID, insurance card, and a list of current medications.\",\n",
    "    \"Can primary care doctors diagnose mental health issues?\": \"Yes, they can diagnose and offer initial treatment or refer to a specialist.\",\n",
    "    \"How do I transfer my medical records to this clinic?\": \"Contact your previous provider and ask them to fax or send records securely.\",\n",
    "    \"Do primary care doctors treat children?\": \"Some do, but we typically refer pediatric patients to the Pediatrics department.\"\n",
    "}"
   ]
  },
  {
   "cell_type": "code",
   "execution_count": 3,
   "id": "73b1d829-0ae0-4ddc-9bde-55a37c4dc8ed",
   "metadata": {},
   "outputs": [],
   "source": [
    "# Sample data for ER Department\n",
    "er_data = {\n",
    "    \"What are the visiting hours for the ER?\": \"The ER is open 24/7. Visitors may be limited based on patient condition and time of day.\",\n",
    "    \"Can I bring someone with me to the ER?\": \"Yes, one visitor is generally allowed, but check current hospital policy.\",\n",
    "    \"How long is the average ER wait time?\": \"Wait times vary by case urgency, but average is 30-60 minutes.\",\n",
    "    \"Do I need an appointment for the ER?\": \"No appointment is needed for emergency care.\",\n",
    "    \"What should I bring to the ER?\": \"Bring an ID, insurance card, and list of medications.\",\n",
    "    \"Are ER doctors available at night?\": \"Yes, ER staff and doctors are available 24/7.\",\n",
    "    \"Do ER visits need insurance?\": \"No, but having insurance may reduce your out-of-pocket cost.\",\n",
    "    \"Can I call ahead before going to the ER?\": \"You can, but it’s not required. In emergencies, call 911.\",\n",
    "    \"Will I be seen faster if I arrive by ambulance?\": \"Only if it’s a critical emergency. All patients are triaged.\",\n",
    "    \"Is the ER equipped to handle pediatric cases?\": \"Yes, the ER is staffed for adult and pediatric emergencies.\"\n",
    "}"
   ]
  },
  {
   "cell_type": "code",
   "execution_count": 5,
   "id": "092292ec-395a-4da6-af6f-fbb811eac6bf",
   "metadata": {},
   "outputs": [],
   "source": [
    "# Sample data for Radiology Department\n",
    "radiology_data = {\n",
    "    \"How should I prepare for a CT scan?\": \"Avoid eating for 4 hours prior. Wear loose clothing and inform us if you're pregnant.\",\n",
    "    \"Can I eat before an MRI?\": \"Yes, unless instructed otherwise. Certain contrast scans may require fasting.\",\n",
    "    \"Is an X-ray safe during pregnancy?\": \"Generally avoided unless medically necessary. Always inform the technician.\",\n",
    "    \"When will I receive my imaging results?\": \"Results are typically available within 24-48 hours through your physician.\",\n",
    "    \"Do I need a referral for an MRI?\": \"Yes, most insurance plans require a referral from a doctor.\",\n",
    "    \"What is the difference between a CT scan and an MRI?\": \"CT uses X-rays for detailed images; MRI uses magnets for soft tissues.\",\n",
    "    \"How long does an ultrasound take?\": \"Most ultrasound exams take between 30 to 60 minutes.\",\n",
    "    \"Will I need to remove jewelry for an X-ray?\": \"Yes, to avoid interference with the image.\",\n",
    "    \"Are radiology services covered by insurance?\": \"Most diagnostic imaging is covered but may require pre-authorization.\",\n",
    "    \"Can I get a copy of my scan?\": \"Yes, you can request digital or printed copies through the radiology department.\"\n",
    "}"
   ]
  },
  {
   "cell_type": "code",
   "execution_count": 7,
   "id": "2b5998db-4a44-49cb-a26d-95bae71a36ce",
   "metadata": {},
   "outputs": [],
   "source": [
    "# Sample data for Pediatrics Department\n",
    "pediatrics_data = {\n",
    "    \"What vaccines are required for a 2-year-old?\": \"DTaP, Hib, Polio, and MMR are commonly recommended.\",\n",
    "    \"My child has a fever; when should I worry?\": \"Call if it’s over 100.4°F for infants or lasts more than 3 days.\",\n",
    "    \"Is a cough normal after a cold?\": \"Yes, it may persist for 1-2 weeks, but monitor for wheezing.\",\n",
    "    \"Can teething cause diarrhea?\": \"Mild loose stools can occur, but persistent diarrhea warrants a visit.\",\n",
    "    \"What foods should I avoid introducing to a 6-month-old?\": \"Avoid honey and choking hazards like nuts.\",\n",
    "    \"How often should my child see a pediatrician?\": \"Regular checkups are recommended at key milestones, typically every few months in the first year.\",\n",
    "    \"Can I bring both my children to the same appointment?\": \"Yes, but please notify us in advance for scheduling purposes.\",\n",
    "    \"Are virtual visits available for children?\": \"Yes, virtual visits are available for certain non-emergency concerns.\",\n",
    "    \"What should I do if my child missed a vaccine?\": \"Call your pediatrician to create a catch-up immunization schedule.\",\n",
    "    \"Is my child too young for the flu shot?\": \"Children 6 months and older can receive the flu shot.\"\n",
    "}"
   ]
  },
  {
   "cell_type": "code",
   "execution_count": 9,
   "id": "079e8bc9-c91f-4e8d-8cda-0a4e4c5d7385",
   "metadata": {},
   "outputs": [],
   "source": [
    "# Sample data for Cardiology Department\n",
    "cardiology_data = {\n",
    "    \"How do I schedule a cardiology appointment?\": \"Call (312) 555-4567 or request an appointment through the patient portal.\",\n",
    "    \"What are signs I should see a cardiologist?\": \"Shortness of breath, chest pain, palpitations, or high blood pressure are key signs.\",\n",
    "    \"Can cardiologists perform EKGs during visits?\": \"Yes, EKGs are commonly done during routine cardiology appointments.\",\n",
    "    \"Do I need a referral to see a cardiologist?\": \"Most insurance plans require a referral from your primary care provider.\",\n",
    "    \"What should I bring to a cardiology appointment?\": \"Bring ID, insurance card, a list of medications, and previous test results if available.\",\n",
    "    \"How do I prepare for a stress test?\": \"Wear comfortable clothes and avoid caffeine or heavy meals beforehand.\",\n",
    "    \"Are virtual cardiology visits available?\": \"Yes, for follow-up appointments and consultations, virtual visits are offered.\",\n",
    "    \"What does a normal blood pressure reading look like?\": \"A typical healthy range is around 120/80 mmHg.\",\n",
    "    \"Can a cardiologist help with high cholesterol?\": \"Yes, they can assess your risks and create a treatment plan.\",\n",
    "    \"Are heart palpitations always serious?\": \"Not always, but they should be evaluated if persistent or accompanied by other symptoms.\"\n",
    "}"
   ]
  },
  {
   "cell_type": "code",
   "execution_count": 11,
   "id": "eb6a9262-4810-45e7-85fa-379ddefcc5ab",
   "metadata": {},
   "outputs": [],
   "source": [
    "# Sample data for Billing & Insurance Department\n",
    "billing_insurance_data = {\n",
    "    \"Can you explain my recent medical bill?\": \"Yes, please provide your billing account number and we’ll go over the charges.\",\n",
    "    \"Does Northwestern accept my insurance plan?\": \"We accept most major insurance plans. Check our website or call to verify your provider.\",\n",
    "    \"How can I pay my bill online?\": \"Visit the patient portal, log in, and go to the 'Billing' section to pay securely.\",\n",
    "    \"Why did I receive multiple bills for one visit?\": \"You may receive separate bills from the hospital and individual specialists.\",\n",
    "    \"Can I set up a payment plan?\": \"Yes, payment plans are available—contact billing services at (312) 555-7890.\",\n",
    "    \"What is an EOB and how is it different from a bill?\": \"An Explanation of Benefits (EOB) is not a bill. It shows what your insurance covered.\",\n",
    "    \"What if my insurance denied a claim?\": \"You can appeal with your insurance provider or contact our office for support.\",\n",
    "    \"Are telehealth visits covered by insurance?\": \"Many insurers cover telehealth, but check with your provider for details.\",\n",
    "    \"Do I need to pay a copay for every visit?\": \"Usually yes, but the amount depends on your insurance plan and visit type.\",\n",
    "    \"Can I get a detailed receipt for my HSA or FSA?\": \"Yes, detailed receipts are available upon request for reimbursement purposes.\"\n",
    "}"
   ]
  },
  {
   "cell_type": "code",
   "execution_count": 13,
   "id": "ce64a5a5-cfec-46d0-8f92-caef51661949",
   "metadata": {},
   "outputs": [
    {
     "name": "stdout",
     "output_type": "stream",
     "text": [
      "Answer: Visit the patient portal, log in, and go to the 'Billing' section to pay securely.\n"
     ]
    }
   ],
   "source": [
    "import difflib\n",
    "\n",
    "# === Generic retrieval function for department Q&A dictionaries ===\n",
    "def get_best_match_answer(user_question: str, qa_dict: dict) -> str:\n",
    "    \"\"\"\n",
    "    Given a user's question and a dictionary of Q&A pairs,\n",
    "    this function finds the closest matching question using fuzzy matching\n",
    "    and returns the corresponding answer.\n",
    "    \"\"\"\n",
    "    # Extract list of known questions\n",
    "    questions = list(qa_dict.keys())\n",
    "    \n",
    "    # Find the closest matching question using difflib\n",
    "    best_match = difflib.get_close_matches(user_question, questions, n=1, cutoff=0.4)\n",
    "\n",
    "    if best_match:\n",
    "        # Return the answer for the best-matching question\n",
    "        return qa_dict[best_match[0]]\n",
    "    else:\n",
    "        # Default response if no good match is found\n",
    "        return \"I'm sorry, I couldn’t find an exact answer to your question. Please contact the department directly.\"\n",
    "\n",
    "# === Example usage ===\n",
    "sample_question = \"How do I pay my bill online?\"\n",
    "answer = get_best_match_answer(sample_question, billing_insurance_data)\n",
    "print(\"Answer:\", answer)"
   ]
  },
  {
   "cell_type": "code",
   "execution_count": 15,
   "id": "a14cd47e-9f46-4d73-bb45-6f9753d96e73",
   "metadata": {},
   "outputs": [
    {
     "name": "stdout",
     "output_type": "stream",
     "text": [
      "OpenAI key loaded successfully.\n"
     ]
    }
   ],
   "source": [
    "import os\n",
    "from dotenv import load_dotenv\n",
    "import openai\n",
    "\n",
    "# Load environment variables from .env file\n",
    "load_dotenv()\n",
    "\n",
    "# Set the OpenAI key from environment\n",
    "openai.api_key = os.getenv(\"OPENAI_API_KEY\")\n",
    "\n",
    "# Confirm it's working\n",
    "if openai.api_key:\n",
    "    print(\"OpenAI key loaded successfully.\")\n",
    "else:\n",
    "    print(\"OpenAI key not found. Check your .env file.\")"
   ]
  },
  {
   "cell_type": "code",
   "execution_count": 23,
   "id": "fcfacb23-a28b-4a1b-adb0-9891994111ff",
   "metadata": {},
   "outputs": [],
   "source": [
    "# === Imports ===\n",
    "from langgraph.graph import StateGraph, END\n",
    "from langchain_core.runnables import RunnableLambda\n",
    "from langchain_core.messages import HumanMessage\n",
    "\n",
    "# === State passed between nodes ===\n",
    "class HospitalState(dict):\n",
    "    input: str\n",
    "    intents: list\n",
    "    response: str\n",
    "\n",
    "# === Operator node that classifies intent using OpenAI ===\n",
    "def operator_node(state: HospitalState) -> HospitalState:\n",
    "    message = state['input']\n",
    "    intents = classify_intent(message)  # already implemented earlier\n",
    "    return {**state, \"intents\": intents}\n",
    "\n",
    "operator_runnable = RunnableLambda(operator_node)\n",
    "\n",
    "# === Department responder generator ===\n",
    "def make_department_node(name, qa_dict):\n",
    "    def handler(state: HospitalState) -> HospitalState:\n",
    "        message = state['input']\n",
    "        answer = get_best_match_answer(message, qa_dict)  # already implemented earlier\n",
    "        return {**state, \"response\": answer}\n",
    "    return RunnableLambda(handler)\n",
    "\n",
    "# === All department agent nodes ===\n",
    "department_nodes = {\n",
    "    \"er\": make_department_node(\"er\", er_data),\n",
    "    \"primary_care\": make_department_node(\"primary_care\", primary_care_data),\n",
    "    \"radiology\": make_department_node(\"radiology\", radiology_data),\n",
    "    \"pediatrics\": make_department_node(\"pediatrics\", pediatrics_data),\n",
    "    \"cardiology\": make_department_node(\"cardiology\", cardiology_data),\n",
    "    \"billing_insurance\": make_department_node(\"billing_insurance\", billing_insurance_data),\n",
    "}"
   ]
  },
  {
   "cell_type": "code",
   "execution_count": 25,
   "id": "8a64921c-f550-439b-9324-f6708e8546ae",
   "metadata": {},
   "outputs": [],
   "source": [
    "# === Step 1: Build the graph ===\n",
    "builder = StateGraph(HospitalState)\n",
    "\n",
    "# Add the operator node (intent classification)\n",
    "builder.add_node(\"operator\", operator_runnable)\n",
    "\n",
    "# Add department nodes\n",
    "for dept, node in department_nodes.items():\n",
    "    builder.add_node(dept, node)\n",
    "\n",
    "# === Step 2: Define routing logic ===\n",
    "# This function chooses the next node based on the first detected intent\n",
    "def route_from_intent(state: HospitalState) -> str:\n",
    "    intents = state.get(\"intents\", [])\n",
    "    if not intents:\n",
    "        return END\n",
    "    intent = intents[0]  # Only use the first intent for now\n",
    "    return intent if intent in department_nodes else END\n",
    "\n",
    "# === Step 3: Define graph edges ===\n",
    "builder.set_entry_point(\"operator\")\n",
    "builder.add_conditional_edges(\"operator\", route_from_intent)\n",
    "for dept in department_nodes:\n",
    "    builder.add_edge(dept, END)\n",
    "\n",
    "# === Step 4: Compile the graph ===\n",
    "graph = builder.compile()"
   ]
  },
  {
   "cell_type": "code",
   "execution_count": 29,
   "id": "cdf71efa-dfc0-4268-a912-949bfa4a03b5",
   "metadata": {},
   "outputs": [],
   "source": [
    "# === Operator Agent: Classify Intent with OpenAI ===\n",
    "def classify_intent(message: str) -> list:\n",
    "    \"\"\"\n",
    "    Uses OpenAI to classify the user's intent from a list of possible departments.\n",
    "    Returns a list of relevant department names (as keys used in the routing logic).\n",
    "    \"\"\"\n",
    "    prompt = (\n",
    "        f\"Classify the user's intents based on the following input: '{message}'. \"\n",
    "        \"Possible intents include: ER, primary_care, radiology, pediatrics, cardiology, billing_insurance. \"\n",
    "        \"Return all relevant intents as a comma-separated list without any duplication. \"\n",
    "        \"Ensure that each intent is distinct and only included if it is clearly relevant to the input.\"\n",
    "    )\n",
    "\n",
    "    response = openai.ChatCompletion.create(\n",
    "        model=\"gpt-4o\",  # You may switch to gpt-3.5-turbo if needed\n",
    "        messages=[{\"role\": \"user\", \"content\": prompt}],\n",
    "        temperature=0\n",
    "    )\n",
    "\n",
    "    # Parse and clean the response\n",
    "    raw_intents = response['choices'][0]['message']['content']\n",
    "    intent_list = [intent.strip().lower() for intent in raw_intents.split(',') if intent.strip()]\n",
    "    return intent_list"
   ]
  },
  {
   "cell_type": "code",
   "execution_count": 33,
   "id": "d6adb18b-70e5-457f-9c17-54f1c1b74788",
   "metadata": {},
   "outputs": [],
   "source": [
    "from openai import OpenAI\n",
    "\n",
    "# Initialize OpenAI client using .env credentials\n",
    "client = OpenAI()\n",
    "\n",
    "# === Operator Agent: Classify Intent ===\n",
    "def classify_intent(message: str) -> list:\n",
    "    \"\"\"\n",
    "    Uses OpenAI's v1+ SDK to classify user intent for hospital departments.\n",
    "    Returns a list of relevant department keys (e.g., 'pediatrics').\n",
    "    \"\"\"\n",
    "    prompt = (\n",
    "        f\"Classify the user's intents based on the following input: '{message}'. \"\n",
    "        \"Possible intents include: ER, primary_care, radiology, pediatrics, cardiology, billing_insurance. \"\n",
    "        \"Return all relevant intents as a comma-separated list without any duplication. \"\n",
    "        \"Ensure that each intent is distinct and only included if it is clearly relevant to the input.\"\n",
    "    )\n",
    "\n",
    "    response = client.chat.completions.create(\n",
    "        model=\"gpt-4o\",  # You may switch to 'gpt-4o-mini' if needed\n",
    "        messages=[{\"role\": \"user\", \"content\": prompt}],\n",
    "        temperature=0\n",
    "    )\n",
    "\n",
    "    # Extract and clean intent list\n",
    "    content = response.choices[0].message.content\n",
    "    intents = [intent.strip().lower() for intent in content.split(\",\") if intent.strip()]\n",
    "    return intents"
   ]
  },
  {
   "cell_type": "code",
   "execution_count": 35,
   "id": "bb3dd76d-d5cf-49be-8608-184a3b841010",
   "metadata": {},
   "outputs": [
    {
     "name": "stdout",
     "output_type": "stream",
     "text": [
      "\n",
      "--- Test Case 1 ---\n",
      "User: How can I tell if my child has RSV (Respiratory Syncytial Virus)?\n",
      "AI: Regular checkups are recommended at key milestones, typically every few months in the first year.\n",
      "\n",
      "--- Test Case 2 ---\n",
      "User: Can I visit my friend in the ER, and are there any restrictions?\n",
      "AI: Yes, the ER is staffed for adult and pediatric emergencies.\n",
      "\n",
      "--- Test Case 3 ---\n",
      "User: How should I prepare for a CT scan, and are there any dietary restrictions?\n",
      "AI: Avoid eating for 4 hours prior. Wear loose clothing and inform us if you're pregnant.\n",
      "\n",
      "--- Test Case 4 ---\n",
      "User: I want to check if my recent test result has been reviewed by my primary care physician yet.\n",
      "AI: You can schedule online via the patient portal or call our front desk at (312) 555-1234.\n",
      "\n",
      "--- Test Case 5 ---\n",
      "User: Do you have any available appointments with a cardiologist next week?\n",
      "AI: Most insurance plans require a referral from your primary care provider.\n",
      "\n",
      "--- Test Case 6 ---\n",
      "User: Can you help me understand my recent medical bill and whether my insurance covered the costs?\n",
      "AI: Yes, please provide your billing account number and we’ll go over the charges.\n"
     ]
    }
   ],
   "source": [
    "# === 6 Test Inquiries from the assignment ===\n",
    "test_questions = [\n",
    "    \"How can I tell if my child has RSV (Respiratory Syncytial Virus)?\",\n",
    "    \"Can I visit my friend in the ER, and are there any restrictions?\",\n",
    "    \"How should I prepare for a CT scan, and are there any dietary restrictions?\",\n",
    "    \"I want to check if my recent test result has been reviewed by my primary care physician yet.\",\n",
    "    \"Do you have any available appointments with a cardiologist next week?\",\n",
    "    \"Can you help me understand my recent medical bill and whether my insurance covered the costs?\"\n",
    "]\n",
    "\n",
    "# === Run each question through the LangGraph ===\n",
    "for i, question in enumerate(test_questions, start=1):\n",
    "    print(f\"\\n--- Test Case {i} ---\")\n",
    "    print(\"User:\", question)\n",
    "\n",
    "    # Run the graph\n",
    "    result = graph.invoke({\"input\": question})\n",
    "\n",
    "    # Show the result\n",
    "    print(\"AI:\", result.get(\"response\"))"
   ]
  },
  {
   "cell_type": "code",
   "execution_count": null,
   "id": "57cb3fc0-eb07-43f5-b2ab-04266e26b61b",
   "metadata": {},
   "outputs": [],
   "source": []
  }
 ],
 "metadata": {
  "kernelspec": {
   "display_name": "Python [conda env:base] *",
   "language": "python",
   "name": "conda-base-py"
  },
  "language_info": {
   "codemirror_mode": {
    "name": "ipython",
    "version": 3
   },
   "file_extension": ".py",
   "mimetype": "text/x-python",
   "name": "python",
   "nbconvert_exporter": "python",
   "pygments_lexer": "ipython3",
   "version": "3.12.2"
  }
 },
 "nbformat": 4,
 "nbformat_minor": 5
}
