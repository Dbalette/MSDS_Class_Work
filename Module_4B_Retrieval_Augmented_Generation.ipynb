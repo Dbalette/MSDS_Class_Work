{
 "cells": [
  {
   "cell_type": "code",
   "execution_count": 5,
   "id": "8de8df73-a9fe-480a-acc6-9a6837bf48d0",
   "metadata": {},
   "outputs": [
    {
     "name": "stdin",
     "output_type": "stream",
     "text": [
      "Enter your LangSmith API key (optional):  ········\n",
      "Enter your Tavily API key (optional):  ········\n",
      "Enter your OpenAI API key:  ········\n"
     ]
    }
   ],
   "source": [
    "# --- Full Setup: LangSmith (optional), Tavily (optional), and OpenAI (required) ---\n",
    "\n",
    "import os\n",
    "import getpass\n",
    "from langchain_openai import ChatOpenAI  # OpenAI chat model integration\n",
    "\n",
    "# Optional: Enable LangSmith tracing for debugging chains (press Enter to skip)\n",
    "os.environ[\"LANGCHAIN_TRACING_V2\"] = \"true\"\n",
    "os.environ[\"LANGCHAIN_API_KEY\"] = getpass.getpass(\"Enter your LangSmith API key (optional): \")\n",
    "\n",
    "# Optional: Set Tavily API key for web search capabilities (press Enter to skip)\n",
    "os.environ[\"TAVILY_API_KEY\"] = getpass.getpass(\"Enter your Tavily API key (optional): \")\n",
    "\n",
    "# Required: Set OpenAI API key to access models like GPT-4o\n",
    "os.environ[\"OPENAI_API_KEY\"] = getpass.getpass(\"Enter your OpenAI API key: \")\n",
    "\n",
    "# Initialize the OpenAI LLM you'll use for RAG\n",
    "llm = ChatOpenAI(model=\"gpt-4o-mini\")  # You can change this to \"gpt-3.5-turbo\" or \"gpt-4\" if needed"
   ]
  },
  {
   "cell_type": "code",
   "execution_count": 7,
   "id": "a5b3d20f-9cf3-4a32-9946-07e2f47460aa",
   "metadata": {},
   "outputs": [],
   "source": [
    "# --- Initialize OpenAI's Embedding Model for text vectorization ---\n",
    "\n",
    "from langchain_openai import OpenAIEmbeddings  # Import OpenAI's embeddings class\n",
    "\n",
    "# Create an instance of the embedding model\n",
    "# This will convert text into vector representations for use in retrieval\n",
    "embeddings = OpenAIEmbeddings()"
   ]
  },
  {
   "cell_type": "code",
   "execution_count": 9,
   "id": "848ee4d8-cf4c-4236-865a-a1b168f00b4b",
   "metadata": {},
   "outputs": [],
   "source": [
    "# --- Create a simple in-memory vector store for storing and retrieving document vectors ---\n",
    "\n",
    "from langchain_core.vectorstores import InMemoryVectorStore  # Import in-memory store (no persistence)\n",
    "\n",
    "# Initialize the vector store using the embedding model\n",
    "# This is useful for small, temporary apps or testing purposes\n",
    "vector_store = InMemoryVectorStore(embeddings)"
   ]
  },
  {
   "cell_type": "code",
   "execution_count": 11,
   "id": "d5c8ca20-52f0-4083-a7e7-71073ae5278b",
   "metadata": {},
   "outputs": [
    {
     "name": "stderr",
     "output_type": "stream",
     "text": [
      "USER_AGENT environment variable not set, consider setting it to identify your requests.\n"
     ]
    },
    {
     "name": "stdout",
     "output_type": "stream",
     "text": [
      "Task decomposition is the process of breaking a complicated task into smaller, manageable steps. It utilizes techniques like Chain of Thought (CoT) and Tree of Thoughts to enhance model performance by prompting the model to think step by step. This approach allows for more efficient problem-solving and provides insight into the model's reasoning process.\n"
     ]
    }
   ],
   "source": [
    "# --- Imports ---\n",
    "import bs4  # Used by the WebBaseLoader to parse HTML content\n",
    "from langchain import hub  # For pulling shared prompt templates from LangChain Hub\n",
    "from langchain_community.document_loaders import WebBaseLoader  # Loads web pages as documents\n",
    "from langchain_core.documents import Document  # LangChain document format\n",
    "from langchain_text_splitters import RecursiveCharacterTextSplitter  # Splits text into chunks\n",
    "from langgraph.graph import START, StateGraph  # Used to define and run a LangGraph\n",
    "from typing_extensions import List, TypedDict  # Type hinting for LangGraph state\n",
    "\n",
    "# --- Load and Chunk Website Content ---\n",
    "# Create a loader to pull the blog post content, filtering only the post-related HTML sections\n",
    "loader = WebBaseLoader(\n",
    "    web_paths=(\"https://lilianweng.github.io/posts/2023-06-23-agent/\",),  # Target blog URL\n",
    "    bs_kwargs=dict(\n",
    "        parse_only=bs4.SoupStrainer(\n",
    "            class_=(\"post-content\", \"post-title\", \"post-header\")  # Only include relevant page sections\n",
    "        )\n",
    "    ),\n",
    ")\n",
    "docs = loader.load()  # Load the blog post as a list of Document objects\n",
    "\n",
    "# Split the blog post into manageable text chunks for vector search\n",
    "text_splitter = RecursiveCharacterTextSplitter(chunk_size=1000, chunk_overlap=200)\n",
    "all_splits = text_splitter.split_documents(docs)\n",
    "\n",
    "# --- Index the Chunks ---\n",
    "# Embed and store all the chunks into your vector store (e.g., Chroma or InMemoryVectorStore)\n",
    "_ = vector_store.add_documents(documents=all_splits)\n",
    "\n",
    "# --- Define Prompt for the Generator ---\n",
    "# Pull a reusable RAG prompt template from LangChain Hub\n",
    "prompt = hub.pull(\"rlm/rag-prompt\")\n",
    "\n",
    "# --- Define App State Structure ---\n",
    "# This defines the data that moves through the RAG chain: question in, context in, answer out\n",
    "class State(TypedDict):\n",
    "    question: str\n",
    "    context: List[Document]\n",
    "    answer: str\n",
    "\n",
    "# --- Define Retrieval Step ---\n",
    "# Takes the user question and retrieves the most relevant document chunks from the vector store\n",
    "def retrieve(state: State):\n",
    "    retrieved_docs = vector_store.similarity_search(state[\"question\"])\n",
    "    return {\"context\": retrieved_docs}\n",
    "\n",
    "# --- Define Generation Step ---\n",
    "# Uses the prompt and retrieved docs to generate an answer via the chat model\n",
    "def generate(state: State):\n",
    "    # Combine the retrieved chunks into one string for context\n",
    "    docs_content = \"\\n\\n\".join(doc.page_content for doc in state[\"context\"])\n",
    "    \n",
    "    # Fill in the prompt template with the question and the context\n",
    "    messages = prompt.invoke({\"question\": state[\"question\"], \"context\": docs_content})\n",
    "    \n",
    "    # Generate the final answer using the LLM\n",
    "    response = llm.invoke(messages)\n",
    "    return {\"answer\": response.content}\n",
    "\n",
    "# --- Compile LangGraph ---\n",
    "# Set up the graph of your RAG workflow with defined steps\n",
    "graph_builder = StateGraph(State).add_sequence([retrieve, generate])\n",
    "\n",
    "# Connect the starting point to the first step in the chain\n",
    "graph_builder.add_edge(START, \"retrieve\")\n",
    "\n",
    "# Compile the graph into an executable app\n",
    "graph = graph_builder.compile()\n",
    "\n",
    "# --- Run the RAG App with a Test Question ---\n",
    "response = graph.invoke({\"question\": \"What is Task Decomposition?\"})\n",
    "\n",
    "# Print the generated answer\n",
    "print(response[\"answer\"])"
   ]
  },
  {
   "cell_type": "code",
   "execution_count": 13,
   "id": "7bb689ca-990f-46fd-beac-5914c0573364",
   "metadata": {},
   "outputs": [
    {
     "name": "stdout",
     "output_type": "stream",
     "text": [
      "Total characters: 43130\n"
     ]
    }
   ],
   "source": [
    "import bs4  # BeautifulSoup for parsing HTML\n",
    "from langchain_community.document_loaders import WebBaseLoader  # Loads webpages as LangChain Documents\n",
    "\n",
    "# --- Define which HTML content to keep ---\n",
    "# This tells BeautifulSoup to only keep specific parts of the page (by class name)\n",
    "bs4_strainer = bs4.SoupStrainer(class_=(\"post-title\", \"post-header\", \"post-content\"))\n",
    "\n",
    "# --- Set up the web document loader ---\n",
    "loader = WebBaseLoader(\n",
    "    web_paths=(\"https://lilianweng.github.io/posts/2023-06-23-agent/\",),  # Target blog URL\n",
    "    bs_kwargs={\"parse_only\": bs4_strainer},  # Apply the strainer to filter out unnecessary HTML\n",
    ")\n",
    "\n",
    "# --- Load the blog post into a LangChain Document object ---\n",
    "docs = loader.load()  # Returns a list of one Document, since it's one blog post\n",
    "\n",
    "# --- Check and print the result ---\n",
    "assert len(docs) == 1  # Ensures we got exactly one document\n",
    "print(f\"Total characters: {len(docs[0].page_content)}\")  # Prints the total length of the raw page content"
   ]
  },
  {
   "cell_type": "code",
   "execution_count": 15,
   "id": "213f5905-a87e-4ebc-af87-07abb65214ec",
   "metadata": {},
   "outputs": [
    {
     "name": "stdout",
     "output_type": "stream",
     "text": [
      "\n",
      "\n",
      "      LLM Powered Autonomous Agents\n",
      "    \n",
      "Date: June 23, 2023  |  Estimated Reading Time: 31 min  |  Author: Lilian Weng\n",
      "\n",
      "\n",
      "Building agents with LLM (large language model) as its core controller is a cool concept. Several proof-of-concepts demos, such as AutoGPT, GPT-Engineer and BabyAGI, serve as inspiring examples. The potentiality of LLM extends beyond generating well-written copies, stories, essays and programs; it can be framed as a powerful general problem solver.\n",
      "Agent System Overview#\n",
      "In\n"
     ]
    }
   ],
   "source": [
    "print(docs[0].page_content[:500])"
   ]
  },
  {
   "cell_type": "code",
   "execution_count": 17,
   "id": "6749723d-d8a9-49d6-9420-b74d069a45d2",
   "metadata": {},
   "outputs": [
    {
     "name": "stdout",
     "output_type": "stream",
     "text": [
      "Split blog post into 66 sub-documents.\n"
     ]
    }
   ],
   "source": [
    "from langchain_text_splitters import RecursiveCharacterTextSplitter  # Recommended splitter for general use\n",
    "\n",
    "# --- Initialize the text splitter ---\n",
    "text_splitter = RecursiveCharacterTextSplitter(\n",
    "    chunk_size=1000,        # Max length of each chunk in characters\n",
    "    chunk_overlap=200,      # Overlap between chunks to preserve context at boundaries\n",
    "    add_start_index=True,   # Adds metadata indicating where each chunk starts in the original document\n",
    ")\n",
    "\n",
    "# --- Split the loaded document into smaller chunks ---\n",
    "all_splits = text_splitter.split_documents(docs)  # Returns a list of Document objects\n",
    "\n",
    "# --- Output the number of resulting chunks ---\n",
    "print(f\"Split blog post into {len(all_splits)} sub-documents.\")"
   ]
  },
  {
   "cell_type": "code",
   "execution_count": 19,
   "id": "8bf3a325-ec32-462b-a842-149c28e1b772",
   "metadata": {},
   "outputs": [
    {
     "name": "stdout",
     "output_type": "stream",
     "text": [
      "['21a85387-d16f-4cf8-b730-cc22ac99aa2d', 'bf4f2851-87c3-45a4-a8e9-4892da63bf5b', '4bec8aec-0f3e-4f0f-955f-445f9e77e914']\n"
     ]
    }
   ],
   "source": [
    "# --- Store the document chunks in the vector store by embedding and indexing them ---\n",
    "\n",
    "# Each chunk from `all_splits` is embedded and stored using the `vector_store` you initialized earlier\n",
    "# The method returns a list of unique document IDs assigned by the store\n",
    "document_ids = vector_store.add_documents(documents=all_splits)\n",
    "\n",
    "# Print the first few document IDs to confirm indexing worked\n",
    "print(document_ids[:3])"
   ]
  },
  {
   "cell_type": "code",
   "execution_count": 21,
   "id": "b870e5c0-33c3-4fe7-9366-39f3ed30f6c0",
   "metadata": {},
   "outputs": [
    {
     "name": "stdout",
     "output_type": "stream",
     "text": [
      "You are an assistant for question-answering tasks. Use the following pieces of retrieved context to answer the question. If you don't know the answer, just say that you don't know. Use three sentences maximum and keep the answer concise.\n",
      "Question: (question goes here) \n",
      "Context: (context goes here) \n",
      "Answer:\n"
     ]
    }
   ],
   "source": [
    "from langchain import hub  # LangChain Hub provides shared, versioned prompt templates\n",
    "\n",
    "# --- Pull a reusable RAG prompt template from LangChain Hub ---\n",
    "# This is a predefined prompt specifically designed for Retrieval-Augmented Generation (RAG)\n",
    "prompt = hub.pull(\"rlm/rag-prompt\")\n",
    "\n",
    "# --- Fill the prompt template with example values ---\n",
    "# We're just testing here — \"(context goes here)\" and \"(question goes here)\" are placeholders\n",
    "example_messages = prompt.invoke(\n",
    "    {\n",
    "        \"context\": \"(context goes here)\",   # This will eventually be the retrieved document content\n",
    "        \"question\": \"(question goes here)\"  # This will eventually be the user's question\n",
    "    }\n",
    ").to_messages()  # Converts the structured prompt into message format compatible with LLMs\n",
    "\n",
    "# --- Sanity check: Make sure one message was generated ---\n",
    "assert len(example_messages) == 1\n",
    "\n",
    "# --- Print the final message content that will be sent to the LLM ---\n",
    "print(example_messages[0].content)"
   ]
  },
  {
   "cell_type": "code",
   "execution_count": 23,
   "id": "a7d5dd80-19d9-4824-b74f-e93059e775cd",
   "metadata": {},
   "outputs": [],
   "source": [
    "from langchain_core.documents import Document  # LangChain's document format\n",
    "from typing_extensions import List, TypedDict  # Used to define structured state\n",
    "\n",
    "# --- Define the application state that moves through LangGraph ---\n",
    "# This tells LangGraph what fields to expect and pass between steps\n",
    "\n",
    "class State(TypedDict):\n",
    "    question: str            # The user's input question\n",
    "    context: List[Document]  # Retrieved document chunks (used as context for the model)\n",
    "    answer: str              # Final generated answer from the LLM"
   ]
  },
  {
   "cell_type": "code",
   "execution_count": 25,
   "id": "9d0a51df-f944-4fb6-8e43-2635277a7d57",
   "metadata": {},
   "outputs": [],
   "source": [
    "# --- Step 1: Retrieval Node ---\n",
    "def retrieve(state: State):\n",
    "    # Use the vector store to find documents similar to the question\n",
    "    retrieved_docs = vector_store.similarity_search(state[\"question\"])\n",
    "    return {\"context\": retrieved_docs}  # Adds 'context' to the state\n",
    "\n",
    "# --- Step 2: Generation Node ---\n",
    "def generate(state: State):\n",
    "    # Combine retrieved documents into a single string for prompt input\n",
    "    docs_content = \"\\n\\n\".join(doc.page_content for doc in state[\"context\"])\n",
    "    \n",
    "    # Fill the prompt with the question and context\n",
    "    messages = prompt.invoke({\n",
    "        \"question\": state[\"question\"],\n",
    "        \"context\": docs_content\n",
    "    })\n",
    "    \n",
    "    # Use the chat model to generate an answer\n",
    "    response = llm.invoke(messages)\n",
    "    \n",
    "    return {\"answer\": response.content}  # Adds 'answer' to the state"
   ]
  },
  {
   "cell_type": "code",
   "execution_count": 27,
   "id": "54a37d48-2d2c-42d1-9c70-bd766a07d3df",
   "metadata": {},
   "outputs": [],
   "source": [
    "from langgraph.graph import START, StateGraph  # Import tools for building LangGraph workflows\n",
    "\n",
    "# --- Build the graph ---\n",
    "# This uses your previously defined State structure and the retrieve/generate functions\n",
    "\n",
    "graph_builder = StateGraph(State).add_sequence([retrieve, generate])  # Define the order of steps\n",
    "\n",
    "graph_builder.add_edge(START, \"retrieve\")  # Connect the graph’s entry point to the first step\n",
    "\n",
    "graph = graph_builder.compile()  # Compile the workflow into a runnable object"
   ]
  },
  {
   "cell_type": "code",
   "execution_count": 29,
   "id": "27cbfc69-4dec-4410-949b-74b7badfabb5",
   "metadata": {},
   "outputs": [
    {
     "data": {
      "image/png": "[encoded data removed]",
      "text/plain": [
       "<IPython.core.display.Image object>"
      ]
     },
     "metadata": {},
     "output_type": "display_data"
    }
   ],
   "source": [
    "from IPython.display import Image, display  # Tools to display images in Jupyter\n",
    "\n",
    "# --- Display a flowchart-style diagram of your LangGraph ---\n",
    "display(Image(graph.get_graph().draw_mermaid_png()))"
   ]
  },
  {
   "cell_type": "code",
   "execution_count": 31,
   "id": "b515cb31-427f-4e61-911e-18748ccbba60",
   "metadata": {},
   "outputs": [
    {
     "name": "stdout",
     "output_type": "stream",
     "text": [
      "Context: [Document(id='66dbce2b-308a-4a1c-8ec4-aec1fac8f799', metadata={'source': 'https://lilianweng.github.io/posts/2023-06-23-agent/'}, page_content='Fig. 1. Overview of a LLM-powered autonomous agent system.\\nComponent One: Planning#\\nA complicated task usually involves many steps. An agent needs to know what they are and plan ahead.\\nTask Decomposition#\\nChain of thought (CoT; Wei et al. 2022) has become a standard prompting technique for enhancing model performance on complex tasks. The model is instructed to “think step by step” to utilize more test-time computation to decompose hard tasks into smaller and simpler steps. CoT transforms big tasks into multiple manageable tasks and shed lights into an interpretation of the model’s thinking process.'), Document(id='4bec8aec-0f3e-4f0f-955f-445f9e77e914', metadata={'source': 'https://lilianweng.github.io/posts/2023-06-23-agent/', 'start_index': 1585}, page_content='Fig. 1. Overview of a LLM-powered autonomous agent system.\\nComponent One: Planning#\\nA complicated task usually involves many steps. An agent needs to know what they are and plan ahead.\\nTask Decomposition#\\nChain of thought (CoT; Wei et al. 2022) has become a standard prompting technique for enhancing model performance on complex tasks. The model is instructed to “think step by step” to utilize more test-time computation to decompose hard tasks into smaller and simpler steps. CoT transforms big tasks into multiple manageable tasks and shed lights into an interpretation of the model’s thinking process.'), Document(id='35089b13-96db-40e5-944a-78f6353c2a44', metadata={'source': 'https://lilianweng.github.io/posts/2023-06-23-agent/', 'start_index': 2192}, page_content='Tree of Thoughts (Yao et al. 2023) extends CoT by exploring multiple reasoning possibilities at each step. It first decomposes the problem into multiple thought steps and generates multiple thoughts per step, creating a tree structure. The search process can be BFS (breadth-first search) or DFS (depth-first search) with each state evaluated by a classifier (via a prompt) or majority vote.\\nTask decomposition can be done (1) by LLM with simple prompting like \"Steps for XYZ.\\\\n1.\", \"What are the subgoals for achieving XYZ?\", (2) by using task-specific instructions; e.g. \"Write a story outline.\" for writing a novel, or (3) with human inputs.'), Document(id='67879c1d-83d6-4634-9949-df37714b1104', metadata={'source': 'https://lilianweng.github.io/posts/2023-06-23-agent/'}, page_content='Tree of Thoughts (Yao et al. 2023) extends CoT by exploring multiple reasoning possibilities at each step. It first decomposes the problem into multiple thought steps and generates multiple thoughts per step, creating a tree structure. The search process can be BFS (breadth-first search) or DFS (depth-first search) with each state evaluated by a classifier (via a prompt) or majority vote.\\nTask decomposition can be done (1) by LLM with simple prompting like \"Steps for XYZ.\\\\n1.\", \"What are the subgoals for achieving XYZ?\", (2) by using task-specific instructions; e.g. \"Write a story outline.\" for writing a novel, or (3) with human inputs.')]\n",
      "\n",
      "\n",
      "Answer: Task Decomposition is the process of breaking down a complicated task into smaller, manageable steps, often utilizing techniques like Chain of Thought (CoT) prompting. This approach allows models to think step by step, enhancing their performance on complex tasks. It can be achieved through simple prompting, task-specific instructions, or human inputs.\n"
     ]
    }
   ],
   "source": [
    "# --- Run the RAG pipeline with a test question ---\n",
    "result = graph.invoke({\"question\": \"What is Task Decomposition?\"})\n",
    "\n",
    "# --- Print the retrieved context (the text chunks from the document) ---\n",
    "print(f'Context: {result[\"context\"]}\\n\\n')\n",
    "\n",
    "# --- Print the final generated answer from the model ---\n",
    "print(f'Answer: {result[\"answer\"]}')"
   ]
  },
  {
   "cell_type": "code",
   "execution_count": 33,
   "id": "14e6e885-64dc-478f-921a-c952e7a55e99",
   "metadata": {},
   "outputs": [
    {
     "name": "stdout",
     "output_type": "stream",
     "text": [
      "{'retrieve': {'context': [Document(id='66dbce2b-308a-4a1c-8ec4-aec1fac8f799', metadata={'source': 'https://lilianweng.github.io/posts/2023-06-23-agent/'}, page_content='Fig. 1. Overview of a LLM-powered autonomous agent system.\\nComponent One: Planning#\\nA complicated task usually involves many steps. An agent needs to know what they are and plan ahead.\\nTask Decomposition#\\nChain of thought (CoT; Wei et al. 2022) has become a standard prompting technique for enhancing model performance on complex tasks. The model is instructed to “think step by step” to utilize more test-time computation to decompose hard tasks into smaller and simpler steps. CoT transforms big tasks into multiple manageable tasks and shed lights into an interpretation of the model’s thinking process.'), Document(id='4bec8aec-0f3e-4f0f-955f-445f9e77e914', metadata={'source': 'https://lilianweng.github.io/posts/2023-06-23-agent/', 'start_index': 1585}, page_content='Fig. 1. Overview of a LLM-powered autonomous agent system.\\nComponent One: Planning#\\nA complicated task usually involves many steps. An agent needs to know what they are and plan ahead.\\nTask Decomposition#\\nChain of thought (CoT; Wei et al. 2022) has become a standard prompting technique for enhancing model performance on complex tasks. The model is instructed to “think step by step” to utilize more test-time computation to decompose hard tasks into smaller and simpler steps. CoT transforms big tasks into multiple manageable tasks and shed lights into an interpretation of the model’s thinking process.'), Document(id='35089b13-96db-40e5-944a-78f6353c2a44', metadata={'source': 'https://lilianweng.github.io/posts/2023-06-23-agent/', 'start_index': 2192}, page_content='Tree of Thoughts (Yao et al. 2023) extends CoT by exploring multiple reasoning possibilities at each step. It first decomposes the problem into multiple thought steps and generates multiple thoughts per step, creating a tree structure. The search process can be BFS (breadth-first search) or DFS (depth-first search) with each state evaluated by a classifier (via a prompt) or majority vote.\\nTask decomposition can be done (1) by LLM with simple prompting like \"Steps for XYZ.\\\\n1.\", \"What are the subgoals for achieving XYZ?\", (2) by using task-specific instructions; e.g. \"Write a story outline.\" for writing a novel, or (3) with human inputs.'), Document(id='67879c1d-83d6-4634-9949-df37714b1104', metadata={'source': 'https://lilianweng.github.io/posts/2023-06-23-agent/'}, page_content='Tree of Thoughts (Yao et al. 2023) extends CoT by exploring multiple reasoning possibilities at each step. It first decomposes the problem into multiple thought steps and generates multiple thoughts per step, creating a tree structure. The search process can be BFS (breadth-first search) or DFS (depth-first search) with each state evaluated by a classifier (via a prompt) or majority vote.\\nTask decomposition can be done (1) by LLM with simple prompting like \"Steps for XYZ.\\\\n1.\", \"What are the subgoals for achieving XYZ?\", (2) by using task-specific instructions; e.g. \"Write a story outline.\" for writing a novel, or (3) with human inputs.')]}}\n",
      "\n",
      "----------------\n",
      "\n",
      "{'generate': {'answer': \"Task Decomposition is the process of breaking down complex tasks into smaller, more manageable steps to enhance problem-solving efficiency. It can involve techniques like Chain of Thought (CoT), where models are prompted to think step by step, or utilizing task-specific instructions. This method allows for clearer planning and interpretation of the model's reasoning process.\"}}\n",
      "\n",
      "----------------\n",
      "\n"
     ]
    }
   ],
   "source": [
    "# --- Stream execution of the RAG app step-by-step using LangGraph ---\n",
    "\n",
    "# This mode lets you see the intermediate results from each step in the graph,\n",
    "# such as the documents retrieved by the 'retrieve' node, followed by the generated answer.\n",
    "\n",
    "for step in graph.stream(\n",
    "    {\"question\": \"What is Task Decomposition?\"},  # Input question\n",
    "    stream_mode=\"updates\"  # Stream updates after each graph step (node)\n",
    "):\n",
    "    # Print each update from the graph (retrieval, then generation)\n",
    "    print(f\"{step}\\n\\n----------------\\n\")"
   ]
  },
  {
   "cell_type": "code",
   "execution_count": 35,
   "id": "7ba8cd64-5217-4cff-9fbf-141eb9539567",
   "metadata": {},
   "outputs": [
    {
     "name": "stdout",
     "output_type": "stream",
     "text": [
      "|Task| De|composition| is| the| process| of| breaking| down| a| complex| task| into| smaller|,| more| manageable| steps|.| This| can| be| achieved| through| techniques| like| Chain| of| Thought| (|Co|T|),| which| encourages| models| to| think| step| by| step|,| or| by| using| task|-specific| prompts|.| It| helps| enhance| model| performance| by| clar|ifying| the| reasoning| process| involved| in| tackling| hard| tasks|.||"
     ]
    }
   ],
   "source": [
    "# --- Stream token-level output from the final answer (LLM response) ---\n",
    "\n",
    "# This allows you to simulate real-time typing or streaming in chat-like UIs\n",
    "# Each `message.content` will contain part of the generated answer\n",
    "\n",
    "for message, metadata in graph.stream(\n",
    "    {\"question\": \"What is Task Decomposition?\"},  # The input question\n",
    "    stream_mode=\"messages\"  # Stream individual message chunks from the LLM\n",
    "):\n",
    "    print(message.content, end=\"|\")  # Print each token-like chunk, separated by \"|\""
   ]
  },
  {
   "cell_type": "code",
   "execution_count": 37,
   "id": "59f3bac5-626a-4c79-aec8-0d68e06e4d5b",
   "metadata": {},
   "outputs": [],
   "source": [
    "from langchain_core.prompts import PromptTemplate  # Import prompt utility\n",
    "\n",
    "# --- Define your custom RAG prompt ---\n",
    "# This version enforces:\n",
    "# - Conciseness\n",
    "# - No guessing\n",
    "# - A polite tone\n",
    "template = \"\"\"Use the following pieces of context to answer the question at the end.\n",
    "If you don't know the answer, just say that you don't know, don't try to make up an answer.\n",
    "Use three sentences maximum and keep the answer as concise as possible.\n",
    "Always say \"thanks for asking!\" at the end of the answer.\n",
    "\n",
    "{context}\n",
    "\n",
    "Question: {question}\n",
    "\n",
    "Helpful Answer:\"\"\"\n",
    "\n",
    "# --- Create a LangChain PromptTemplate object ---\n",
    "custom_rag_prompt = PromptTemplate.from_template(template)"
   ]
  },
  {
   "cell_type": "code",
   "execution_count": 39,
   "id": "688fb6f0-e51b-4dcd-843c-6f6350ca0da3",
   "metadata": {},
   "outputs": [
    {
     "data": {
      "text/plain": [
       "{'source': 'https://lilianweng.github.io/posts/2023-06-23-agent/',\n",
       " 'start_index': 8,\n",
       " 'section': 'beginning'}"
      ]
     },
     "execution_count": 39,
     "metadata": {},
     "output_type": "execute_result"
    }
   ],
   "source": [
    "# --- Simulate adding metadata to your document chunks ---\n",
    "# This divides your content into three sections so we can apply filters later\n",
    "\n",
    "total_documents = len(all_splits)      # Total number of document chunks\n",
    "third = total_documents // 3           # Divide into thirds for metadata assignment\n",
    "\n",
    "# Assign a \"section\" label to each document chunk based on its position\n",
    "for i, document in enumerate(all_splits):\n",
    "    if i < third:\n",
    "        document.metadata[\"section\"] = \"beginning\"\n",
    "    elif i < 2 * third:\n",
    "        document.metadata[\"section\"] = \"middle\"\n",
    "    else:\n",
    "        document.metadata[\"section\"] = \"end\"\n",
    "\n",
    "# --- Inspect metadata for the first chunk to verify it was applied correctly ---\n",
    "all_splits[0].metadata"
   ]
  },
  {
   "cell_type": "code",
   "execution_count": 41,
   "id": "c6f2ead9-0626-463a-a292-0e80ecf29229",
   "metadata": {},
   "outputs": [],
   "source": [
    "from langchain_core.vectorstores import InMemoryVectorStore  # Import the simple in-memory store\n",
    "\n",
    "# --- Reinitialize the vector store with metadata-enabled document chunks ---\n",
    "vector_store = InMemoryVectorStore(embeddings)  # Pass in your embedding model\n",
    "\n",
    "# --- Re-index all the document splits, now with section metadata ---\n",
    "_ = vector_store.add_documents(all_splits)  # Store new version of docs with metadata"
   ]
  },
  {
   "cell_type": "code",
   "execution_count": 43,
   "id": "3cb3a14f-5972-4b36-8658-b004359f2c49",
   "metadata": {},
   "outputs": [],
   "source": [
    "from typing import Literal  # Used to restrict a field to specific values\n",
    "from typing_extensions import Annotated  # Adds metadata (descriptions) to types\n",
    "\n",
    "# --- Define the structured schema for a search query ---\n",
    "# This will be used to extract structured data from an LLM output\n",
    "\n",
    "class Search(TypedDict):\n",
    "    \"\"\"Search query.\"\"\"\n",
    "\n",
    "    # The actual query we will use in similarity search\n",
    "    query: Annotated[str, ..., \"Search query to run.\"]\n",
    "\n",
    "    # Section of the document to filter on (metadata filter)\n",
    "    section: Annotated[\n",
    "        Literal[\"beginning\", \"middle\", \"end\"],  # Restrict valid values\n",
    "        ...,  # Required field\n",
    "        \"Section to query.\",\n",
    "    ]"
   ]
  },
  {
   "cell_type": "code",
   "execution_count": 45,
   "id": "5d2ab0bf-6fd9-4494-a008-1a727b1f3432",
   "metadata": {},
   "outputs": [],
   "source": [
    "from typing_extensions import TypedDict\n",
    "from langchain_core.documents import Document\n",
    "\n",
    "# --- Update your State to include the structured query object ---\n",
    "class State(TypedDict):\n",
    "    question: str                    # Raw user input\n",
    "    query: Search                    # Structured query (with filter)\n",
    "    context: List[Document]         # Retrieved chunks\n",
    "    answer: str                      # Final model output\n",
    "\n",
    "# --- New Step: Analyze the raw question to produce a structured query object ---\n",
    "def analyze_query(state: State):\n",
    "    structured_llm = llm.with_structured_output(Search)  # Tell the LLM to return a structured object\n",
    "    query = structured_llm.invoke(state[\"question\"])     # LLM analyzes the question and returns query + section\n",
    "    return {\"query\": query}                              # Inject this into the graph state\n",
    "\n",
    "# --- Modified Retrieval Step: Uses structured query + metadata filter ---\n",
    "def retrieve(state: State):\n",
    "    query = state[\"query\"]  # Extract structured query\n",
    "    retrieved_docs = vector_store.similarity_search(\n",
    "        query[\"query\"],  # Use the rewritten/cleaned query string\n",
    "        filter=lambda doc: doc.metadata.get(\"section\") == query[\"section\"]  # Filter by section metadata\n",
    "    )\n",
    "    return {\"context\": retrieved_docs}\n",
    "\n",
    "# --- Generation Step: Same as before ---\n",
    "def generate(state: State):\n",
    "    docs_content = \"\\n\\n\".join(doc.page_content for doc in state[\"context\"])\n",
    "    messages = prompt.invoke({\"question\": state[\"question\"], \"context\": docs_content})\n",
    "    response = llm.invoke(messages)\n",
    "    return {\"answer\": response.content}\n",
    "\n",
    "# --- Update the Graph ---\n",
    "# Add 'analyze_query' as the new first step before retrieval and generation\n",
    "graph_builder = StateGraph(State).add_sequence([analyze_query, retrieve, generate])\n",
    "graph_builder.add_edge(START, \"analyze_query\")  # Start the graph at the new step\n",
    "graph = graph_builder.compile()  # Compile into an executable workflow"
   ]
  },
  {
   "cell_type": "code",
   "execution_count": 47,
   "id": "da4c7523-63df-4927-86e2-c4906c284fff",
   "metadata": {},
   "outputs": [
    {
     "data": {
      "image/png": "[encoded data removed]",
      "text/plain": [
       "<IPython.core.display.Image object>"
      ]
     },
     "metadata": {},
     "output_type": "display_data"
    }
   ],
   "source": [
    "from IPython.display import Image, display  # Import tools to display images in Jupyter\n",
    "\n",
    "# --- Visualize your LangGraph as a Mermaid diagram ---\n",
    "# This helps you see the step-by-step flow of your application:\n",
    "# START -> analyze_query -> retrieve -> generate\n",
    "\n",
    "display(\n",
    "    Image(graph.get_graph().draw_mermaid_png())  # Render the graph as a PNG image using Mermaid\n",
    ")"
   ]
  },
  {
   "cell_type": "code",
   "execution_count": 49,
   "id": "7228a2ae-8e51-42ef-9c81-5b0c90efc73b",
   "metadata": {},
   "outputs": [
    {
     "name": "stdout",
     "output_type": "stream",
     "text": [
      "{'analyze_query': {'query': {'query': 'Task Decomposition', 'section': 'end'}}}\n",
      "\n",
      "----------------\n",
      "\n",
      "{'retrieve': {'context': [Document(id='73adfb4f-3203-499c-8268-ce4867880e7a', metadata={'source': 'https://lilianweng.github.io/posts/2023-06-23-agent/', 'start_index': 39220, 'section': 'end'}, page_content='Finite context length: The restricted context capacity limits the inclusion of historical information, detailed instructions, API call context, and responses. The design of the system has to work with this limited communication bandwidth, while mechanisms like self-reflection to learn from past mistakes would benefit a lot from long or infinite context windows. Although vector stores and retrieval can provide access to a larger knowledge pool, their representation power is not as powerful as full attention.\\n\\n\\nChallenges in long-term planning and task decomposition: Planning over a lengthy history and effectively exploring the solution space remain challenging. LLMs struggle to adjust plans when faced with unexpected errors, making them less robust compared to humans who learn from trial and error.'), Document(id='93031887-8846-464c-bf3f-3934bb1fa369', metadata={'source': 'https://lilianweng.github.io/posts/2023-06-23-agent/', 'start_index': 39085, 'section': 'end'}, page_content='}\\n]\\nChallenges#\\nAfter going through key ideas and demos of building LLM-centered agents, I start to see a couple common limitations:'), Document(id='8b0c285e-4d6a-49b2-a919-a423b22c1601', metadata={'source': 'https://lilianweng.github.io/posts/2023-06-23-agent/', 'start_index': 32941, 'section': 'end'}, page_content='}\\n]\\nThen after these clarification, the agent moved into the code writing mode with a different system message.\\nSystem message:'), Document(id='d324ff33-138a-49ff-8951-9158d4c4e5bc', metadata={'source': 'https://lilianweng.github.io/posts/2023-06-23-agent/', 'start_index': 35126, 'section': 'end'}, page_content='\"content\": \"You will get instructions for code to write.\\\\nYou will write a very long answer. Make sure that every detail of the architecture is, in the end, implemented as code.\\\\nMake sure that every detail of the architecture is, in the end, implemented as code.\\\\n\\\\nThink step by step and reason yourself to the right decisions to make sure we get it right.\\\\nYou will first lay out the names of the core classes, functions, methods that will be necessary, as well as a quick comment on their purpose.\\\\n\\\\nThen you will output the content of each file including ALL code.\\\\nEach file must strictly follow a markdown code block format, where the following tokens must be replaced such that\\\\nFILENAME is the lowercase file name including the file extension,\\\\nLANG is the markup code block language for the code\\'s language, and CODE is the code:\\\\n\\\\nFILENAME\\\\n```LANG\\\\nCODE\\\\n```\\\\n\\\\nYou will start with the \\\\\"entrypoint\\\\\" file, then go to the ones that are imported by that file, and so on.\\\\nPlease')]}}\n",
      "\n",
      "----------------\n",
      "\n",
      "{'generate': {'answer': 'The end of the post highlights that long-term planning and task decomposition continue to face challenges due to the limitations of LLMs. They struggle to adjust plans in response to unexpected errors, making them less adaptable than humans who can learn from trial and error. This points to a need for improved methods in handling complex tasks over extended contexts.'}}\n",
      "\n",
      "----------------\n",
      "\n"
     ]
    }
   ],
   "source": [
    "# --- Stream each step in your LangGraph RAG pipeline ---\n",
    "# This shows the intermediate state after each node runs:\n",
    "# - analyze_query: returns structured query with section\n",
    "# - retrieve: returns context chunks based on that section\n",
    "# - generate: returns final LLM-generated answer\n",
    "\n",
    "for step in graph.stream(\n",
    "    {\"question\": \"What does the end of the post say about Task Decomposition?\"},  # Input question\n",
    "    stream_mode=\"updates\",  # Stream state updates after each graph node\n",
    "):\n",
    "    print(f\"{step}\\n\\n----------------\\n\")  # Show each step's result, separated visually"
   ]
  },
  {
   "cell_type": "code",
   "execution_count": null,
   "id": "4f19ba80-1c3d-4202-9a78-92beb1a2b8a6",
   "metadata": {},
   "outputs": [],
   "source": []
  }
 ],
 "metadata": {
  "kernelspec": {
   "display_name": "Python [conda env:base] *",
   "language": "python",
   "name": "conda-base-py"
  },
  "language_info": {
   "codemirror_mode": {
    "name": "ipython",
    "version": 3
   },
   "file_extension": ".py",
   "mimetype": "text/x-python",
   "name": "python",
   "nbconvert_exporter": "python",
   "pygments_lexer": "ipython3",
   "version": "3.12.2"
  }
 },
 "nbformat": 4,
 "nbformat_minor": 5
}
