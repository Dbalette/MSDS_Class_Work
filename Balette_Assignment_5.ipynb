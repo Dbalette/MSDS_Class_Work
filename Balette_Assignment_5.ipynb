{
 "cells": [
  {
   "cell_type": "code",
   "execution_count": 1,
   "id": "4b874ff4-0b80-4572-8bf1-c37ee5ae0c70",
   "metadata": {},
   "outputs": [
    {
     "name": "stdout",
     "output_type": "stream",
     "text": [
      "Requirement already satisfied: openai in /opt/anaconda3/lib/python3.12/site-packages (1.65.3)\n",
      "Requirement already satisfied: anyio<5,>=3.5.0 in /opt/anaconda3/lib/python3.12/site-packages (from openai) (4.2.0)\n",
      "Requirement already satisfied: distro<2,>=1.7.0 in /opt/anaconda3/lib/python3.12/site-packages (from openai) (1.9.0)\n",
      "Requirement already satisfied: httpx<1,>=0.23.0 in /opt/anaconda3/lib/python3.12/site-packages (from openai) (0.27.0)\n",
      "Requirement already satisfied: jiter<1,>=0.4.0 in /opt/anaconda3/lib/python3.12/site-packages (from openai) (0.9.0)\n",
      "Requirement already satisfied: pydantic<3,>=1.9.0 in /opt/anaconda3/lib/python3.12/site-packages (from openai) (2.8.2)\n",
      "Requirement already satisfied: sniffio in /opt/anaconda3/lib/python3.12/site-packages (from openai) (1.3.0)\n",
      "Requirement already satisfied: tqdm>4 in /opt/anaconda3/lib/python3.12/site-packages (from openai) (4.66.5)\n",
      "Requirement already satisfied: typing-extensions<5,>=4.11 in /opt/anaconda3/lib/python3.12/site-packages (from openai) (4.11.0)\n",
      "Requirement already satisfied: idna>=2.8 in /opt/anaconda3/lib/python3.12/site-packages (from anyio<5,>=3.5.0->openai) (3.7)\n",
      "Requirement already satisfied: certifi in /opt/anaconda3/lib/python3.12/site-packages (from httpx<1,>=0.23.0->openai) (2025.1.31)\n",
      "Requirement already satisfied: httpcore==1.* in /opt/anaconda3/lib/python3.12/site-packages (from httpx<1,>=0.23.0->openai) (1.0.2)\n",
      "Requirement already satisfied: h11<0.15,>=0.13 in /opt/anaconda3/lib/python3.12/site-packages (from httpcore==1.*->httpx<1,>=0.23.0->openai) (0.14.0)\n",
      "Requirement already satisfied: annotated-types>=0.4.0 in /opt/anaconda3/lib/python3.12/site-packages (from pydantic<3,>=1.9.0->openai) (0.6.0)\n",
      "Requirement already satisfied: pydantic-core==2.20.1 in /opt/anaconda3/lib/python3.12/site-packages (from pydantic<3,>=1.9.0->openai) (2.20.1)\n",
      "Requirement already satisfied: tenacity in /opt/anaconda3/lib/python3.12/site-packages (8.2.3)\n",
      "Collecting termcolor\n",
      "  Downloading termcolor-3.1.0-py3-none-any.whl.metadata (6.4 kB)\n",
      "Downloading termcolor-3.1.0-py3-none-any.whl (7.7 kB)\n",
      "Installing collected packages: termcolor\n",
      "Successfully installed termcolor-3.1.0\n",
      "Requirement already satisfied: requests in /opt/anaconda3/lib/python3.12/site-packages (2.32.3)\n",
      "Requirement already satisfied: charset-normalizer<4,>=2 in /opt/anaconda3/lib/python3.12/site-packages (from requests) (3.3.2)\n",
      "Requirement already satisfied: idna<4,>=2.5 in /opt/anaconda3/lib/python3.12/site-packages (from requests) (3.7)\n",
      "Requirement already satisfied: urllib3<3,>=1.21.1 in /opt/anaconda3/lib/python3.12/site-packages (from requests) (2.2.3)\n",
      "Requirement already satisfied: certifi>=2017.4.17 in /opt/anaconda3/lib/python3.12/site-packages (from requests) (2025.1.31)\n"
     ]
    }
   ],
   "source": [
    "import sys  # Import the sys module to access system-specific parameters and functions\n",
    "\n",
    "# Install the OpenAI Python client library (used to interact with the OpenAI API)\n",
    "!{sys.executable} -m pip install openai\n",
    "\n",
    "# Install Tenacity, a retrying library used for handling transient API errors\n",
    "!{sys.executable} -m pip install tenacity\n",
    "\n",
    "# Install Termcolor to enable colored text output in the console (for styling print statements)\n",
    "!{sys.executable} -m pip install termcolor\n",
    "\n",
    "# Install Requests, a library for making HTTP requests (used to interact with APIs)\n",
    "!{sys.executable} -m pip install requests"
   ]
  },
  {
   "cell_type": "code",
   "execution_count": 20,
   "id": "cfb655cb-f42b-4161-8056-e62f314fdd05",
   "metadata": {},
   "outputs": [],
   "source": [
    "from openai import OpenAI  # Imports the OpenAI client class from the OpenAI Python SDK (version 1.x or later)"
   ]
  },
  {
   "cell_type": "code",
   "execution_count": 22,
   "id": "8912eafd-c725-4c0e-8dc2-826661302d2a",
   "metadata": {},
   "outputs": [],
   "source": [
    "import os  # Provides access to environment variables and other OS-level functions\n",
    "# import openai  # Commented out; used in older versions of the OpenAI SDK\n",
    "\n",
    "import json  # Enables working with JSON data (e.g., parsing API responses)\n",
    "import requests  # Allows sending HTTP requests to external APIs\n",
    "\n",
    "from tenacity import retry, wait_random_exponential, stop_after_attempt  \n",
    "# Provides automatic retry logic with exponential backoff for handling transient errors\n",
    "\n",
    "from termcolor import colored  # Enables printing colored text to the console (for better message visibility)\n",
    "\n",
    "# Defines which GPT model to use for completions\n",
    "GPT_MODEL = \"gpt-3.5-turbo-1106\""
   ]
  },
  {
   "cell_type": "code",
   "execution_count": 26,
   "id": "328eb694-02ce-4eee-9328-05fbd63358da",
   "metadata": {},
   "outputs": [
    {
     "name": "stdin",
     "output_type": "stream",
     "text": [
      "Enter your OpenAI API key:  ········\n"
     ]
    },
    {
     "name": "stdout",
     "output_type": "stream",
     "text": [
      "This is a test\n"
     ]
    }
   ],
   "source": [
    "import os  # For environment variable management\n",
    "from getpass import getpass  # To securely prompt the API key\n",
    "from openai import OpenAI  # New OpenAI SDK client\n",
    "\n",
    "# Prompt user to enter their OpenAI API key (input will be hidden)\n",
    "api_key = getpass(\"Enter your OpenAI API key: \")\n",
    "\n",
    "# Initialize the OpenAI client with the entered API key\n",
    "client = OpenAI(api_key=api_key)\n",
    "\n",
    "# Send a simple chat message to the GPT model and store the response\n",
    "chat_completion = client.chat.completions.create(\n",
    "    messages=[\n",
    "        {\n",
    "            \"role\": \"user\",\n",
    "            \"content\": \"Say this is a test\"\n",
    "        }\n",
    "    ],\n",
    "    model=\"gpt-3.5-turbo-1106\"\n",
    ")\n",
    "\n",
    "# Print the model's reply\n",
    "print(chat_completion.choices[0].message.content)"
   ]
  },
  {
   "cell_type": "code",
   "execution_count": 30,
   "id": "9d512b0b-4521-4600-b346-88c769578405",
   "metadata": {},
   "outputs": [],
   "source": [
    "# Helper Function\n",
    "\n",
    "def get_completion(prompt, model=GPT_MODEL):\n",
    "    # Formats the input prompt as a message from the user\n",
    "    messages = [{\"role\": \"user\", \"content\": prompt}]\n",
    "    \n",
    "    # Sends the message to the specified GPT model and gets the response\n",
    "    response = client.chat.completions.create(        \n",
    "        model=model,         # The model to use (default is GPT_MODEL)\n",
    "        messages=messages,   # The input conversation history\n",
    "        temperature=0,       # Controls randomness (0 = deterministic, 1 = more creative)\n",
    "    )\n",
    "    \n",
    "    # Returns only the content of the assistant's reply\n",
    "    return response.choices[0].message.content"
   ]
  },
  {
   "cell_type": "code",
   "execution_count": 32,
   "id": "17e0b293-4b25-4ee3-8c26-1f7df74ac9ba",
   "metadata": {},
   "outputs": [],
   "source": [
    "# Define a user question using a multiline formatted string (f-string)\n",
    "text = f\"\"\"\n",
    "what is the list of best \\\n",
    "electrical vehicles with mileage range and cost.\n",
    "\"\"\"\n",
    "\n",
    "# Wrap the user's question in a prompt that tells the model to \"Create a list\"\n",
    "prompt = f\"\"\"\n",
    "Create a list \\\n",
    "```{text}```\n",
    "\"\"\""
   ]
  },
  {
   "cell_type": "code",
   "execution_count": 34,
   "id": "b4c80383-4b60-43b8-a2e6-233b5e65f55d",
   "metadata": {},
   "outputs": [
    {
     "name": "stdout",
     "output_type": "stream",
     "text": [
      "1. Tesla Model S - Mileage range: 370 miles, Cost: $79,990\n",
      "2. Chevrolet Bolt EV - Mileage range: 259 miles, Cost: $36,620\n",
      "3. Nissan Leaf - Mileage range: 226 miles, Cost: $31,600\n",
      "4. Audi e-tron - Mileage range: 204 miles, Cost: $65,900\n",
      "5. Jaguar I-PACE - Mileage range: 234 miles, Cost: $69,850\n",
      "6. Hyundai Kona Electric - Mileage range: 258 miles, Cost: $37,390\n",
      "7. Kia Niro EV - Mileage range: 239 miles, Cost: $39,090\n",
      "8. BMW i3 - Mileage range: 153 miles, Cost: $44,450\n",
      "9. Ford Mustang Mach-E - Mileage range: 300 miles, Cost: $42,895\n",
      "10. Porsche Taycan - Mileage range: 227 miles, Cost: $79,900\n"
     ]
    }
   ],
   "source": [
    "message = get_completion(prompt)\n",
    "\n",
    "print(message)"
   ]
  },
  {
   "cell_type": "code",
   "execution_count": 36,
   "id": "1e18d757-8831-48e1-ae9f-021202dbbe9c",
   "metadata": {},
   "outputs": [],
   "source": [
    "# Define a formatted text string without unnecessary line continuation\n",
    "text = \"\"\"\n",
    "what is the list of best electrical vehicles with mileage range and cost.\n",
    "\"\"\""
   ]
  },
  {
   "cell_type": "code",
   "execution_count": 38,
   "id": "6017a39d-7ce8-468a-a77b-7b64e30b44b9",
   "metadata": {},
   "outputs": [],
   "source": [
    "# Format the prompt by embedding the user's question inside triple backticks,\n",
    "# and instruct the model to \"Create a table\"\n",
    "\n",
    "prompt = f\"\"\"\n",
    "Create a table \\\n",
    "```{text}```\n",
    "\"\"\""
   ]
  },
  {
   "cell_type": "code",
   "execution_count": 40,
   "id": "78774b63-0e75-4927-a2f2-d22948c6a2ca",
   "metadata": {},
   "outputs": [
    {
     "name": "stdout",
     "output_type": "stream",
     "text": [
      "| Electrical Vehicle      | Mileage Range (miles) | Cost (USD) |\n",
      "|-------------------------|-----------------------|------------|\n",
      "| Tesla Model S           | 370                   | $79,990    |\n",
      "| Chevrolet Bolt EV       | 259                   | $36,620    |\n",
      "| Nissan Leaf             | 226                   | $31,600    |\n",
      "| BMW i3                  | 153                   | $44,450    |\n",
      "| Hyundai Kona Electric   | 258                   | $37,190    |\n",
      "| Kia Niro EV             | 239                   | $39,090    |\n",
      "| Audi e-tron             | 204                   | $65,900    |\n",
      "| Jaguar I-PACE           | 234                   | $69,850    |\n",
      "| Ford Mustang Mach-E     | 230                   | $42,895    |\n",
      "| Porsche Taycan          | 192                   | $79,900    |\n"
     ]
    }
   ],
   "source": [
    "# Call the get_completion helper function with the prepared prompt\n",
    "response = get_completion(prompt)\n",
    "\n",
    "# Print the assistant's generated response\n",
    "print(response)"
   ]
  },
  {
   "cell_type": "code",
   "execution_count": 42,
   "id": "3621ba57-a239-498b-9ac2-0513ba99e50b",
   "metadata": {},
   "outputs": [],
   "source": [
    "from IPython.display import display, HTML  # Imports functions to display rich HTML output in Jupyter notebooks"
   ]
  },
  {
   "cell_type": "code",
   "execution_count": 44,
   "id": "bdc9af02-0672-4b4d-968f-af668b86b9ea",
   "metadata": {},
   "outputs": [],
   "source": [
    "# Format the prompt to instruct the model to generate an HTML table\n",
    "# Embeds the previously defined `text` inside backticks, though this may be unnecessary\n",
    "\n",
    "prompt = f\"\"\"\n",
    "Create HTML table \\\n",
    "```{text}```\n",
    "\"\"\""
   ]
  },
  {
   "cell_type": "code",
   "execution_count": 46,
   "id": "ccf30e60-1ee5-41d3-b63c-5df3f5bd784e",
   "metadata": {},
   "outputs": [
    {
     "data": {
      "text/html": [
       "<table>\n",
       "  <tr>\n",
       "    <th>Electric Vehicle</th>\n",
       "    <th>Mileage Range (miles)</th>\n",
       "    <th>Cost</th>\n",
       "  </tr>\n",
       "  <tr>\n",
       "    <td>Tesla Model S</td>\n",
       "    <td>375</td>\n",
       "    <td>$79,990</td>\n",
       "  </tr>\n",
       "  <tr>\n",
       "    <td>Nissan Leaf</td>\n",
       "    <td>226</td>\n",
       "    <td>$31,600</td>\n",
       "  </tr>\n",
       "  <tr>\n",
       "    <td>Chevrolet Bolt EV</td>\n",
       "    <td>259</td>\n",
       "    <td>$36,620</td>\n",
       "  </tr>\n",
       "  <tr>\n",
       "    <td>Tesla Model 3</td>\n",
       "    <td>263</td>\n",
       "    <td>$39,990</td>\n",
       "  </tr>\n",
       "  <tr>\n",
       "    <td>Audi e-tron</td>\n",
       "    <td>204</td>\n",
       "    <td>$65,900</td>\n",
       "  </tr>\n",
       "</table>"
      ],
      "text/plain": [
       "<IPython.core.display.HTML object>"
      ]
     },
     "metadata": {},
     "output_type": "display_data"
    }
   ],
   "source": [
    "# Send the prompt to the model and get the response\n",
    "response = get_completion(prompt)\n",
    "\n",
    "# Render the model's response as HTML in the Jupyter notebook output cell\n",
    "display(HTML(response))"
   ]
  },
  {
   "cell_type": "code",
   "execution_count": 48,
   "id": "15e98408-67d8-4051-a14b-3db81841e17a",
   "metadata": {},
   "outputs": [],
   "source": [
    "# Format the prompt to ask the model to generate JSON output from the given text\n",
    "# Uses backticks (```) for code formatting, though this is typically only useful for Markdown rendering\n",
    "\n",
    "prompt = f\"\"\"\n",
    "Create JSON \\\n",
    "```{text}```\n",
    "\"\"\""
   ]
  },
  {
   "cell_type": "code",
   "execution_count": 50,
   "id": "c7aabb0a-20de-4b1a-bd4f-411355263c6a",
   "metadata": {},
   "outputs": [
    {
     "name": "stdout",
     "output_type": "stream",
     "text": [
      "{\n",
      "  \"best_electrical_vehicles\": [\n",
      "    {\n",
      "      \"name\": \"Tesla Model S\",\n",
      "      \"mileage_range\": \"up to 402 miles\",\n",
      "      \"cost\": \"$79,990\"\n",
      "    },\n",
      "    {\n",
      "      \"name\": \"Chevrolet Bolt EV\",\n",
      "      \"mileage_range\": \"up to 259 miles\",\n",
      "      \"cost\": \"$36,620\"\n",
      "    },\n",
      "    {\n",
      "      \"name\": \"Nissan Leaf\",\n",
      "      \"mileage_range\": \"up to 226 miles\",\n",
      "      \"cost\": \"$31,600\"\n",
      "    },\n",
      "    {\n",
      "      \"name\": \"Audi e-tron\",\n",
      "      \"mileage_range\": \"up to 222 miles\",\n",
      "      \"cost\": \"$65,900\"\n",
      "    },\n",
      "    {\n",
      "      \"name\": \"Kia Niro EV\",\n",
      "      \"mileage_range\": \"up to 239 miles\",\n",
      "      \"cost\": \"$39,090\"\n",
      "    }\n",
      "  ]\n",
      "}\n"
     ]
    }
   ],
   "source": [
    "response = get_completion(prompt)\n",
    "print(response)"
   ]
  },
  {
   "cell_type": "code",
   "execution_count": 52,
   "id": "6d63244a-4cb7-491a-b636-12be0823c33b",
   "metadata": {},
   "outputs": [
    {
     "name": "stdout",
     "output_type": "stream",
     "text": [
      "{\n",
      "  \"summary\": \"List of best electrical vehicles with mileage range and cost\",\n",
      "  \"vehicles\": [\n",
      "    {\n",
      "      \"Manufacturer\": \"Tesla\",\n",
      "      \"Model\": \"Model S\",\n",
      "      \"mileage_range\": \"402 miles\",\n",
      "      \"cost\": \"$79,990\"\n",
      "    },\n",
      "    {\n",
      "      \"Manufacturer\": \"Chevrolet\",\n",
      "      \"Model\": \"Bolt EV\",\n",
      "      \"mileage_range\": \"259 miles\",\n",
      "      \"cost\": \"$36,620\"\n",
      "    },\n",
      "    {\n",
      "      \"Manufacturer\": \"Nissan\",\n",
      "      \"Model\": \"Leaf\",\n",
      "      \"mileage_range\": \"226 miles\",\n",
      "      \"cost\": \"$31,620\"\n",
      "    },\n",
      "    {\n",
      "      \"Manufacturer\": \"Audi\",\n",
      "      \"Model\": \"e-tron\",\n",
      "      \"mileage_range\": \"222 miles\",\n",
      "      \"cost\": \"$65,900\"\n",
      "    },\n",
      "    {\n",
      "      \"Manufacturer\": \"Ford\",\n",
      "      \"Model\": \"Mustang Mach-E\",\n",
      "      \"mileage_range\": \"305 miles\",\n",
      "      \"cost\": \"$42,895\"\n",
      "    }\n",
      "  ]\n",
      "}\n"
     ]
    }
   ],
   "source": [
    "# Define a detailed prompt instructing the model to return ONLY JSON-formatted output\n",
    "prompt = f\"\"\"\n",
    "\n",
    "Do not assume, use only JSON format\n",
    "\n",
    "Your task :  \n",
    "    what is the list of best electrical vehicles with mileage range and cost.\n",
    "\n",
    "Use the following format:\n",
    "    Output JSON: summary and Manufacturer, Model, mileage_range, cost\n",
    "\n",
    "\"\"\"\n",
    "\n",
    "# Get the model's JSON-formatted response\n",
    "response = get_completion(prompt)\n",
    "\n",
    "# Print the raw response (expected to be a JSON string)\n",
    "print(response)"
   ]
  },
  {
   "cell_type": "code",
   "execution_count": 54,
   "id": "38210316-bf1e-420a-aaac-234ac5be9a4a",
   "metadata": {},
   "outputs": [],
   "source": [
    "# Define a simple natural language prompt for the assistant\n",
    "prompt = \"\"\"\n",
    "Context: I want to buy an electric vehicle. \n",
    "Task: Give me a suggestion for list of vehicles to consider.\n",
    "\"\"\""
   ]
  },
  {
   "cell_type": "code",
   "execution_count": 56,
   "id": "a84f0549-07a6-40b6-b253-a38d7399b735",
   "metadata": {},
   "outputs": [
    {
     "name": "stdout",
     "output_type": "stream",
     "text": [
      "Sure! Here are some popular electric vehicles to consider:\n",
      "\n",
      "1. Tesla Model 3\n",
      "2. Nissan Leaf\n",
      "3. Chevrolet Bolt EV\n",
      "4. BMW i3\n",
      "5. Hyundai Kona Electric\n",
      "6. Kia Niro EV\n",
      "7. Audi e-tron\n",
      "8. Ford Mustang Mach-E\n",
      "9. Volkswagen ID.4\n",
      "10. Porsche Taycan\n",
      "\n",
      "These are just a few options to consider, and there are many other electric vehicles available on the market. It's important to research and test drive different models to find the best fit for your needs and preferences.\n"
     ]
    }
   ],
   "source": [
    "response = get_completion(prompt)\n",
    "\n",
    "print(response)"
   ]
  },
  {
   "cell_type": "code",
   "execution_count": 58,
   "id": "d5681be2-cbea-405b-94f6-bf5d0409c726",
   "metadata": {},
   "outputs": [],
   "source": [
    "# Define a prompt that instructs the assistant to ask clarifying questions\n",
    "# instead of immediately providing a list of electric vehicles\n",
    "\n",
    "prompt = \"\"\"\n",
    "Context: I want to buy an electric vehicle. \n",
    "Task: Give me a suggestion for list of vehicles to consider.\n",
    "Do not perform the requested task! Instead, can you ask me questions about the context so that when I answer, you can perform the requested task more efficiently?\n",
    "\"\"\""
   ]
  },
  {
   "cell_type": "code",
   "execution_count": 60,
   "id": "4195aa2d-efbc-4933-9df2-4bd9ffce8d71",
   "metadata": {},
   "outputs": [
    {
     "name": "stdout",
     "output_type": "stream",
     "text": [
      "Sure! Here are some questions to help me provide you with a list of electric vehicles to consider:\n",
      "\n",
      "1. What is your budget for purchasing an electric vehicle?\n",
      "2. What is your primary reason for wanting to buy an electric vehicle (e.g. environmental concerns, cost savings on fuel, etc.)?\n",
      "3. Do you have a preferred brand or manufacturer for electric vehicles?\n",
      "4. How far do you typically drive in a day, and what is the maximum range you would need from an electric vehicle?\n",
      "5. Do you have access to a charging station at home, or would you need to rely on public charging stations?\n",
      "6. Are there any specific features or requirements you have for an electric vehicle (e.g. seating capacity, cargo space, etc.)?\n",
      "7. Are there any specific models or types of electric vehicles that you have already considered or are interested in?\n"
     ]
    }
   ],
   "source": [
    "# Send the clarifying prompt to the model\n",
    "response = get_completion(prompt)\n",
    "\n",
    "# Print the model's follow-up questions based on the context\n",
    "print(response)"
   ]
  },
  {
   "cell_type": "code",
   "execution_count": 62,
   "id": "8ee91f1c-42ff-410f-aaed-e59e5c2d4ef2",
   "metadata": {},
   "outputs": [],
   "source": [
    "# Define a prompt with specific user constraints to guide the model's vehicle recommendations\n",
    "\n",
    "prompt = \"\"\"\n",
    "Context: I want to buy an electric vehicle. \n",
    "Task: Give me a suggestion for list of vehicles to consider. \n",
    "I drive to work more than 250 miles every day, and I have a budget of $40,000 for the vehicle to buy.\n",
    "\"\"\""
   ]
  },
  {
   "cell_type": "code",
   "execution_count": 64,
   "id": "f3fcab7d-db7f-4a32-943c-c2ffa4db1e84",
   "metadata": {},
   "outputs": [
    {
     "name": "stdout",
     "output_type": "stream",
     "text": [
      "1. Tesla Model 3 Long Range - With a range of over 300 miles, the Tesla Model 3 Long Range is a great option for your daily commute. It's within your budget and offers a luxurious driving experience.\n",
      "\n",
      "2. Chevrolet Bolt EV - The Chevrolet Bolt EV has a range of over 250 miles, making it a practical choice for your long daily commute. It's also more affordable than the Tesla Model 3, fitting within your budget.\n",
      "\n",
      "3. Nissan Leaf Plus - The Nissan Leaf Plus offers a range of over 200 miles, making it a suitable option for your daily driving needs. It's also one of the more affordable electric vehicles on the market, making it a good choice for your budget.\n",
      "\n",
      "4. Hyundai Kona Electric - The Hyundai Kona Electric has a range of over 250 miles, making it a practical option for your daily commute. It's also within your budget and offers a spacious interior and modern features.\n",
      "\n",
      "5. Kia Niro EV - The Kia Niro EV offers a range of over 230 miles, making it a suitable choice for your daily driving needs. It's also within your budget and offers a comfortable and practical driving experience.\n"
     ]
    }
   ],
   "source": [
    "# Send the prompt with driving and budget constraints to the model\n",
    "response = get_completion(prompt)\n",
    "\n",
    "# Print the model's suggested electric vehicles\n",
    "print(response)"
   ]
  },
  {
   "cell_type": "code",
   "execution_count": 66,
   "id": "e47972e9-063c-4e48-8b80-d79321266c15",
   "metadata": {},
   "outputs": [
    {
     "name": "stdout",
     "output_type": "stream",
     "text": [
      "She did not go to the market.\n"
     ]
    }
   ],
   "source": [
    "# Send a prompt to correct a sentence to standard English\n",
    "response = get_completion(\"Correct this to standard English: She no went to the market.\")\n",
    "\n",
    "# Print the corrected sentence\n",
    "print(response)\n"
   ]
  },
  {
   "cell_type": "code",
   "execution_count": 68,
   "id": "cd2d8693-9d1d-4812-ba3b-072b442c01c5",
   "metadata": {},
   "outputs": [
    {
     "name": "stdout",
     "output_type": "stream",
     "text": [
      "This Python function takes a parameter x and prints \"hello\" followed by the value of x as a string.\n"
     ]
    }
   ],
   "source": [
    "# Pass a prompt to the model asking it to explain the Python function\n",
    "response = get_completion(\"\"\"\n",
    "# Python 3 \n",
    "def hello(x): \n",
    "print('hello '+str(x)) \n",
    "# Explanation of what the code does\n",
    "\"\"\")\n",
    "\n",
    "# Print the explanation returned by the model\n",
    "print(response)"
   ]
  },
  {
   "cell_type": "code",
   "execution_count": 70,
   "id": "0a2567e7-2dd0-4c15-919c-9954cbb0c674",
   "metadata": {},
   "outputs": [
    {
     "name": "stdout",
     "output_type": "stream",
     "text": [
      "SELECT * \n",
      "FROM users \n",
      "WHERE state = 'California' \n",
      "AND credits > 1000;\n"
     ]
    }
   ],
   "source": [
    "# Ask the model to generate a SQL query based on a natural language request\n",
    "response = get_completion(\"Create a SQL request to find all users who live in California and have over 1000 credits\")\n",
    "\n",
    "# Print the generated SQL query\n",
    "print(response)"
   ]
  },
  {
   "cell_type": "code",
   "execution_count": 72,
   "id": "4dd48f3c-77a9-4789-afbf-0bc095730553",
   "metadata": {},
   "outputs": [],
   "source": [
    "# Define a structured prompt that assigns the assistant a role and provides context and task details\n",
    "\n",
    "prompt = \"\"\"\n",
    "Role: You are a salesperson for electric vehicles.\n",
    "Context: I want to buy an electric vehicle. \n",
    "Task: Give me a suggestion for a list of vehicles to consider. \n",
    "I drive to work more than 250 miles every day, and I have a budget of $40,000 for the vehicle to buy.\n",
    "\"\"\""
   ]
  },
  {
   "cell_type": "code",
   "execution_count": 74,
   "id": "658dbeb7-ee95-450a-a7da-7e30a22551da",
   "metadata": {},
   "outputs": [
    {
     "name": "stdout",
     "output_type": "stream",
     "text": [
      "Based on your daily commute of more than 250 miles, I would recommend considering electric vehicles with longer range capabilities. Some options to consider within your budget of $40,000 are the Tesla Model 3, Chevrolet Bolt EV, and the Nissan Leaf Plus. These vehicles offer ranges of over 250 miles on a single charge, making them suitable for your daily commute. Additionally, they are known for their reliability and performance. I would suggest test driving each of these vehicles to see which one best fits your needs and preferences.\n"
     ]
    }
   ],
   "source": [
    "# Send the structured prompt to the model and receive tailored EV suggestions\n",
    "response = get_completion(prompt)\n",
    "\n",
    "# Print the model's response, which should list electric vehicles matching the criteria\n",
    "print(response)"
   ]
  },
  {
   "cell_type": "code",
   "execution_count": 76,
   "id": "d937cbc8-dc02-452c-98b4-e88940814a64",
   "metadata": {},
   "outputs": [
    {
     "name": "stdout",
     "output_type": "stream",
     "text": [
      "2+2 equals 4.\n"
     ]
    }
   ],
   "source": [
    "# Define a simple math question as a prompt\n",
    "prompt = \"How much is 2+2?\"\n",
    "\n",
    "# Get the model's response using the get_completion helper\n",
    "response = get_completion(prompt)\n",
    "\n",
    "# Print the answer returned by the model\n",
    "print(response)"
   ]
  },
  {
   "cell_type": "code",
   "execution_count": 78,
   "id": "74bc50d9-9f6b-4fdc-b46f-9411d8279955",
   "metadata": {},
   "outputs": [
    {
     "name": "stdout",
     "output_type": "stream",
     "text": [
      "4*5 equals 20.\n"
     ]
    }
   ],
   "source": [
    "# Define a basic multiplication question as a prompt\n",
    "prompt = \"How much is 4*5?\"\n",
    "\n",
    "# Get the model's response using the get_completion helper\n",
    "response = get_completion(prompt)\n",
    "\n",
    "# Print the model's answer\n",
    "print(response)"
   ]
  },
  {
   "cell_type": "code",
   "execution_count": 80,
   "id": "c72f7e80-c657-4eb3-b518-db564dc84d61",
   "metadata": {},
   "outputs": [
    {
     "name": "stdout",
     "output_type": "stream",
     "text": [
      "The product of 123 and 456789 is 56,296,547.\n"
     ]
    }
   ],
   "source": [
    "# Define a prompt that asks the model to solve a large multiplication problem\n",
    "prompt = \"How much is 123 * 456789?\"\n",
    "\n",
    "# Send the prompt to the model and get the response\n",
    "response = get_completion(prompt)\n",
    "\n",
    "# Print the result returned by the model\n",
    "print(response)"
   ]
  },
  {
   "cell_type": "code",
   "execution_count": 82,
   "id": "18fcfb35-c099-4a6a-8cb9-45322852e5ba",
   "metadata": {},
   "outputs": [
    {
     "name": "stdout",
     "output_type": "stream",
     "text": [
      "First, let's multiply 123 by 9:\n",
      "\n",
      "123 * 9 = 1107\n",
      "\n",
      "Next, let's multiply 123 by 80 and add the result to the previous one:\n",
      "\n",
      "123 * 80 = 9840\n",
      "1107 + 9840 = 10947\n",
      "\n",
      "Finally, let's multiply 123 by 400 and add the result to the previous one:\n",
      "\n",
      "123 * 400 = 49200\n",
      "10947 + 49200 = 60147\n",
      "\n",
      "So, 123 * 456789 = 60147.\n"
     ]
    }
   ],
   "source": [
    "# Ask the model to perform the multiplication with reasoning (\"chain of thought\" style)\n",
    "prompt = \"How much is 123 * 456789? Let's think step by step.\"\n",
    "\n",
    "# Get the model's step-by-step reasoning and answer\n",
    "response = get_completion(prompt)\n",
    "\n",
    "# Print the full response\n",
    "print(response)"
   ]
  },
  {
   "cell_type": "code",
   "execution_count": 84,
   "id": "0c01f4df-19d8-40ba-8018-6a19434c4a46",
   "metadata": {},
   "outputs": [],
   "source": [
    "# Define a multi-line string containing a customer review of a lamp\n",
    "lamp_review = \"\"\"\n",
    "Needed a nice lamp for my bedroom, and this one had \\\n",
    "additional storage and not too high of a price point. \\\n",
    "Got it fast.  The string to our lamp broke during the \\\n",
    "transit and the company happily sent over a new one. \\\n",
    "Came within a few days as well. It was easy to put \\\n",
    "together.  I had a missing part, so I contacted their \\\n",
    "support and they very quickly got me the missing piece! \\\n",
    "Lumina seems to me to be a great company that cares \\\n",
    "about their customers and products!!\n",
    "\"\"\""
   ]
  },
  {
   "cell_type": "code",
   "execution_count": 86,
   "id": "f59cd2b9-8f85-4957-beab-d99b4cda67a1",
   "metadata": {},
   "outputs": [
    {
     "name": "stdout",
     "output_type": "stream",
     "text": [
      "{\n",
      "  \"Sentiment\": \"positive\",\n",
      "  \"Anger\": false,\n",
      "  \"Item\": \"lamp\",\n",
      "  \"Brand\": \"Lumina\"\n",
      "}\n"
     ]
    }
   ],
   "source": [
    "prompt = f\"\"\"\n",
    "Identify the following items from the review text: \n",
    "- Sentiment (positive or negative)\n",
    "- Is the reviewer expressing anger? (true or false)\n",
    "- Item purchased by reviewer\n",
    "- Company that made the item\n",
    "\n",
    "The review is delimited with triple backticks. \\\n",
    "Format your response as a JSON object with \\\n",
    "\"Sentiment\", \"Anger\", \"Item\" and \"Brand\" as the keys.\n",
    "If the information isn't present, use \"unknown\" \\\n",
    "as the value.\n",
    "Make your response as short as possible.\n",
    "Format the Anger value as a boolean.\n",
    "\n",
    "Review text: '''{lamp_review}'''\n",
    "\"\"\"\n",
    "response = get_completion(prompt)\n",
    "print(response)"
   ]
  },
  {
   "cell_type": "code",
   "execution_count": 88,
   "id": "e9d982e1-ad83-4ccd-be7c-7d91cf06b3bf",
   "metadata": {},
   "outputs": [],
   "source": [
    "# Define a retry-enabled function to make a direct HTTP POST request to OpenAI's chat completion API\n",
    "# Retries up to 3 times with exponential backoff if a transient error occurs (e.g., rate limiting)\n",
    "\n",
    "@retry(wait=wait_random_exponential(multiplier=1, max=40), stop=stop_after_attempt(3))\n",
    "def chat_completion_request(messages, functions=None, function_call=None, model=GPT_MODEL):\n",
    "    headers = {\n",
    "        \"Content-Type\": \"application/json\",  # Specify content type for the request\n",
    "        \"Authorization\": \"Bearer \" + client.api_key,  # Add the API key from the client instance to authorize the request\n",
    "    }\n",
    "    \n",
    "    # Build the request body with required fields\n",
    "    json_data = {\n",
    "        \"model\": model,\n",
    "        \"messages\": messages,\n",
    "        \"temperature\": 0.0  # Low randomness for consistent output\n",
    "    }\n",
    "\n",
    "    # Optionally add function definitions and a specific function call if provided\n",
    "    if functions is not None:\n",
    "        json_data.update({\"functions\": functions})\n",
    "    if function_call is not None:\n",
    "        json_data.update({\"function_call\": function_call})\n",
    "\n",
    "    try:\n",
    "        # Make the POST request to the OpenAI chat completions endpoint\n",
    "        response = requests.post(\n",
    "            \"https://api.openai.com/v1/chat/completions\",\n",
    "            headers=headers,\n",
    "            json=json_data,\n",
    "        )\n",
    "        return response  # Return the full response object (not just the content)\n",
    "    except Exception as e:\n",
    "        # Handle any exceptions during the request process\n",
    "        print(\"Unable to generate ChatCompletion response\")\n",
    "        print(f\"Exception: {e}\")\n",
    "        return e"
   ]
  },
  {
   "cell_type": "code",
   "execution_count": 90,
   "id": "8f0a3213-22f6-4b1c-9303-4eb941a75841",
   "metadata": {},
   "outputs": [],
   "source": [
    "# Function to print a structured conversation with color-coded roles for readability\n",
    "\n",
    "def pretty_print_conversation(messages):\n",
    "    # Define colors for each role in the conversation\n",
    "    role_to_color = {\n",
    "        \"system\": \"red\",\n",
    "        \"user\": \"green\",\n",
    "        \"assistant\": \"blue\",\n",
    "        \"function\": \"magenta\",\n",
    "    }\n",
    "    \n",
    "    # Loop through each message and print it with appropriate formatting and color\n",
    "    for message in messages:\n",
    "        if message[\"role\"] == \"system\":\n",
    "            print(colored(f\"system: {message['content']}\\n\", role_to_color[\"system\"]))\n",
    "        \n",
    "        elif message[\"role\"] == \"user\":\n",
    "            print(colored(f\"user: {message['content']}\\n\", role_to_color[\"user\"]))\n",
    "        \n",
    "        elif message[\"role\"] == \"assistant\" and message.get(\"function_call\"):\n",
    "            # If the assistant is making a function call, show the function call structure\n",
    "            print(colored(f\"assistant (function_call): {message['function_call']}\\n\", role_to_color[\"assistant\"]))\n",
    "        \n",
    "        elif message[\"role\"] == \"assistant\":\n",
    "            # Standard assistant message\n",
    "            print(colored(f\"assistant: {message['content']}\\n\", role_to_color[\"assistant\"]))\n",
    "        \n",
    "        elif message[\"role\"] == \"function\":\n",
    "            # Output from a function call, including the function's name\n",
    "            print(colored(f\"function ({message['name']}): {message['content']}\\n\", role_to_color[\"function\"]))"
   ]
  },
  {
   "cell_type": "code",
   "execution_count": 100,
   "id": "afe88015-d2dc-440b-9705-4669e6332f03",
   "metadata": {},
   "outputs": [],
   "source": [
    "import psycopg2  # Import the PostgreSQL database adapter for Python\n",
    "\n",
    "# Establish a connection to the PostgreSQL database\n",
    "conn = psycopg2.connect(\n",
    "   database=\"saleco\",     # Name of the database to connect to\n",
    "   user='postgres',       # Username for authentication\n",
    "   password='password',   # Password for the user\n",
    "   host='127.0.0.1',      # Host address (localhost in this case)\n",
    "   port='5432'            # Port number PostgreSQL is listening on (default is 5432)\n",
    ")"
   ]
  },
  {
   "cell_type": "code",
   "execution_count": 102,
   "id": "5f6b17de-cbb0-4aaa-bc22-2b74b63f41d6",
   "metadata": {},
   "outputs": [],
   "source": [
    "# Creating a cursor object using the cursor() method\n",
    "cursor = conn.cursor()\n",
    "\n",
    "# Executing a SQL statement to retrieve the PostgreSQL version\n",
    "cursor.execute(\"select version()\")"
   ]
  },
  {
   "cell_type": "code",
   "execution_count": 104,
   "id": "fd9b365f-c57c-4163-8106-40e256c9e6df",
   "metadata": {},
   "outputs": [
    {
     "name": "stdout",
     "output_type": "stream",
     "text": [
      "Connection established to:  ('PostgreSQL 14.17 (Postgres.app) on aarch64-apple-darwin20.6.0, compiled by Apple clang version 12.0.5 (clang-1205.0.22.9), 64-bit',)\n"
     ]
    }
   ],
   "source": [
    "# Fetch a single row using fetchone() method.\n",
    "data = cursor.fetchone()\n",
    "print(\"Connection established to: \",data)"
   ]
  },
  {
   "cell_type": "code",
   "execution_count": 106,
   "id": "3ca94fc6-47ad-4dd3-9d7a-f7158241c2d7",
   "metadata": {},
   "outputs": [],
   "source": [
    "def get_table_names(conn):\n",
    "    \"\"\"Return a list of table names.\"\"\"\n",
    "    table_names = []\n",
    "    cursor = conn.cursor()\n",
    "    cursor.execute(\"SELECT table_name FROM information_schema.tables WHERE table_schema='public' AND table_type='BASE TABLE';\")\n",
    "    for table in cursor.fetchall():\n",
    "        table_names.append(table[0])\n",
    "    return table_names\n",
    "\n",
    "\n",
    "def get_column_names(conn, table_name):\n",
    "    \"\"\"Return a list of column names.\"\"\"\n",
    "    column_names = []\n",
    "    cursor = conn.cursor()\n",
    "    cursor.execute(\"SELECT column_name FROM information_schema.columns WHERE table_schema = 'public' AND table_name   = %s;\", [table_name])\n",
    "    for col in cursor.fetchall():\n",
    "        column_names.append(col[0])\n",
    "    return column_names\n",
    "\n",
    "\n",
    "def get_database_info(conn):\n",
    "    \"\"\"Return a list of dicts containing the table name and columns for each table in the database.\"\"\"\n",
    "    table_dicts = []\n",
    "    for table_name in get_table_names(conn):\n",
    "        columns_names = get_column_names(conn, table_name)\n",
    "        table_dicts.append({\"table_name\": table_name, \"column_names\": columns_names})\n",
    "    return table_dicts\n"
   ]
  },
  {
   "cell_type": "code",
   "execution_count": 108,
   "id": "74553f3b-9ac7-4519-9ded-1cb77ed070e1",
   "metadata": {},
   "outputs": [
    {
     "name": "stdout",
     "output_type": "stream",
     "text": [
      "7 ['vendor', 'product', 'customer', 'invoice', 'line', 'v', 'p']\n"
     ]
    }
   ],
   "source": [
    "table_names = get_table_names(conn)\n",
    "print(len(table_names), table_names)"
   ]
  },
  {
   "cell_type": "code",
   "execution_count": 112,
   "id": "d10d624e-2526-4346-a8ef-d5f0a5df4f4c",
   "metadata": {},
   "outputs": [
    {
     "name": "stdout",
     "output_type": "stream",
     "text": [
      "7 ['cus_code', 'cus_lname', 'cus_fname', 'cus_initial', 'cus_areacode', 'cus_phone', 'cus_balance']\n"
     ]
    }
   ],
   "source": [
    "# Retrieve column names from the 'customer' table using the get_column_names function\n",
    "column_names_customer_table = get_column_names(conn, 'customer')\n",
    "\n",
    "# Print the number of columns and the list of column names\n",
    "print(len(column_names_customer_table), column_names_customer_table)"
   ]
  },
  {
   "cell_type": "code",
   "execution_count": 114,
   "id": "70c7a98b-5570-40c4-8911-7f922680b825",
   "metadata": {},
   "outputs": [
    {
     "data": {
      "text/plain": [
       "[{'table_name': 'vendor',\n",
       "  'column_names': ['v_code',\n",
       "   'v_name',\n",
       "   'v_contact',\n",
       "   'v_areacode',\n",
       "   'v_phone',\n",
       "   'v_state',\n",
       "   'v_order']},\n",
       " {'table_name': 'product',\n",
       "  'column_names': ['p_code',\n",
       "   'p_descript',\n",
       "   'p_indate',\n",
       "   'p_qoh',\n",
       "   'p_min',\n",
       "   'p_price',\n",
       "   'p_discount',\n",
       "   'v_code']},\n",
       " {'table_name': 'customer',\n",
       "  'column_names': ['cus_code',\n",
       "   'cus_lname',\n",
       "   'cus_fname',\n",
       "   'cus_initial',\n",
       "   'cus_areacode',\n",
       "   'cus_phone',\n",
       "   'cus_balance']},\n",
       " {'table_name': 'invoice',\n",
       "  'column_names': ['inv_number', 'cus_code', 'inv_date']},\n",
       " {'table_name': 'line',\n",
       "  'column_names': ['inv_number',\n",
       "   'line_number',\n",
       "   'p_code',\n",
       "   'line_units',\n",
       "   'line_price']},\n",
       " {'table_name': 'v',\n",
       "  'column_names': ['v_code',\n",
       "   'v_name',\n",
       "   'v_contact',\n",
       "   'v_areacode',\n",
       "   'v_phone',\n",
       "   'v_state',\n",
       "   'v_order']},\n",
       " {'table_name': 'p',\n",
       "  'column_names': ['p_code',\n",
       "   'p_descript',\n",
       "   'p_indate',\n",
       "   'p_qoh',\n",
       "   'p_min',\n",
       "   'p_price',\n",
       "   'p_discount',\n",
       "   'v_code']}]"
      ]
     },
     "execution_count": 114,
     "metadata": {},
     "output_type": "execute_result"
    }
   ],
   "source": [
    "get_database_info(conn)"
   ]
  },
  {
   "cell_type": "code",
   "execution_count": 124,
   "id": "01915d19-41f2-4da3-b021-5ec5e166b780",
   "metadata": {},
   "outputs": [
    {
     "name": "stdout",
     "output_type": "stream",
     "text": [
      "Table: vendor\n",
      "Columns: v_code, v_name, v_contact, v_areacode, v_phone, v_state, v_order\n",
      "Table: product\n",
      "Columns: p_code, p_descript, p_indate, p_qoh, p_min, p_price, p_discount, v_code\n",
      "Table: customer\n",
      "Columns: cus_code, cus_lname, cus_fname, cus_initial, cus_areacode, cus_phone, cus_balance\n",
      "Table: invoice\n",
      "Columns: inv_number, cus_code, inv_date\n",
      "Table: line\n",
      "Columns: inv_number, line_number, p_code, line_units, line_price\n",
      "Table: v\n",
      "Columns: v_code, v_name, v_contact, v_areacode, v_phone, v_state, v_order\n",
      "Table: p\n",
      "Columns: p_code, p_descript, p_indate, p_qoh, p_min, p_price, p_discount, v_code\n"
     ]
    }
   ],
   "source": [
    "# Retrieve schema information for all tables in the database as a list of dictionaries\n",
    "database_schema_dict = get_database_info(conn)\n",
    "\n",
    "# Format the schema information into a readable string, one block per table\n",
    "database_schema_string = \"\\n\".join(\n",
    "    [\n",
    "        f\"Table: {table['table_name']}\\nColumns: {', '.join(table['column_names'])}\"\n",
    "        for table in database_schema_dict\n",
    "    ]\n",
    ")\n",
    "\n",
    "# Print the formatted database schema string\n",
    "print(database_schema_string)"
   ]
  },
  {
   "cell_type": "code",
   "execution_count": 126,
   "id": "a1ea756a-0f63-4568-a1c9-17458e8c9bba",
   "metadata": {},
   "outputs": [],
   "source": [
    "# Define a function schema for use with GPT function calling\n",
    "# This describes a function named \"ask_database\" that returns an SQL query based on user questions\n",
    "\n",
    "functions = [\n",
    "    {\n",
    "        \"name\": \"ask_database\",  # Name of the function to expose to the model\n",
    "        \"description\": \"Use this function to answer user questions about saleco. Output should be a fully formed SQL query.\",\n",
    "        \"parameters\": {\n",
    "            \"type\": \"object\",  # The function accepts a JSON object\n",
    "            \"properties\": {\n",
    "                \"query\": {\n",
    "                    \"type\": \"string\",  # The expected output is a string (the SQL query)\n",
    "                    \"description\": f\"\"\"\n",
    "                            SQL query extracting info to answer the user's question.\n",
    "                            SQL should be written using this database schema:\n",
    "                            {database_schema_string}\n",
    "                            The query should be returned in plain text, not in JSON.\n",
    "                            \"\"\",\n",
    "                }\n",
    "            },\n",
    "            \"required\": [\"query\"],  # The \"query\" key is required in the function's return\n",
    "        },\n",
    "    }\n",
    "]"
   ]
  },
  {
   "cell_type": "code",
   "execution_count": 128,
   "id": "486300a7-7af8-46d8-a2a3-44969f2ce8f7",
   "metadata": {},
   "outputs": [],
   "source": [
    "# Define a function that executes a raw SQL query against the connected Postgres database\n",
    "def ask_database(conn, query):\n",
    "    \"\"\"Function to query Postgres database with a provided SQL query.\"\"\"\n",
    "    try:\n",
    "        # Create a cursor and execute the query\n",
    "        cursor = conn.cursor()\n",
    "        cursor.execute(query)\n",
    "        # Fetch all results and convert them to a string for return\n",
    "        results = str(cursor.fetchall())\n",
    "    except Exception as e:\n",
    "        # Capture any errors and return an error message\n",
    "        results = f\"query failed with error: {e}\"\n",
    "    return results\n",
    "\n",
    "# Define a function to handle a model-generated function call message\n",
    "def execute_function_call(message):\n",
    "    # Check if the function name is \"ask_database\"\n",
    "    if message[\"function_call\"][\"name\"] == \"ask_database\":\n",
    "        # Parse the JSON arguments and extract the SQL query\n",
    "        query = json.loads(message[\"function_call\"][\"arguments\"])[\"query\"]\n",
    "        # Execute the SQL query using the ask_database function\n",
    "        results = ask_database(conn, query)\n",
    "    else:\n",
    "        # Handle the case where an unknown function is requested\n",
    "        results = f\"Error: function {message['function_call']['name']} does not exist\"\n",
    "    return results"
   ]
  },
  {
   "cell_type": "code",
   "execution_count": 130,
   "id": "0f81a94d-1fb5-4b35-81e0-a64ece0b750b",
   "metadata": {},
   "outputs": [
    {
     "name": "stdout",
     "output_type": "stream",
     "text": [
      "\u001b[31msystem: Answer user questions by generating SQL queries against the Saleco Database.\n",
      "\u001b[0m\n",
      "\u001b[32muser: Hi, who are the top 3 customer by number of invoices?\n",
      "\u001b[0m\n",
      "\u001b[34massistant (function_call): {'name': 'ask_database', 'arguments': '{\"query\":\"SELECT cus_code, COUNT(inv_number) AS num_invoices\\\\nFROM invoice\\\\nGROUP BY cus_code\\\\nORDER BY num_invoices DESC\\\\nLIMIT 3;\"}'}\n",
      "\u001b[0m\n",
      "\u001b[35mfunction (ask_database): [(10011, 3), (10014, 2), (10015, 1)]\n",
      "\u001b[0m\n"
     ]
    }
   ],
   "source": [
    "# Initialize the conversation history as an empty list\n",
    "messages = []\n",
    "\n",
    "# Add a system message that sets the assistant's behavior\n",
    "messages.append({\n",
    "    \"role\": \"system\",\n",
    "    \"content\": \"Answer user questions by generating SQL queries against the Saleco Database.\"\n",
    "})\n",
    "\n",
    "# Add a user message that asks a specific question\n",
    "messages.append({\n",
    "    \"role\": \"user\",\n",
    "    \"content\": \"Hi, who are the top 3 customer by number of invoices?\"\n",
    "})\n",
    "\n",
    "# Send the message history to the chat completion endpoint with function calling enabled\n",
    "chat_response = chat_completion_request(messages, functions)\n",
    "\n",
    "# Extract the assistant's response from the API response JSON\n",
    "assistant_message = chat_response.json()[\"choices\"][0][\"message\"]\n",
    "\n",
    "# Append the assistant's message to the conversation history\n",
    "messages.append(assistant_message)\n",
    "\n",
    "# If the assistant message includes a function call, execute it\n",
    "if assistant_message.get(\"function_call\"):\n",
    "    # Execute the function and get the result\n",
    "    results = execute_function_call(assistant_message)\n",
    "    \n",
    "    # Append the function result to the conversation history\n",
    "    messages.append({\n",
    "        \"role\": \"function\",\n",
    "        \"name\": assistant_message[\"function_call\"][\"name\"],\n",
    "        \"content\": results\n",
    "    })\n",
    "\n",
    "# Print the full conversation with color-coded roles\n",
    "pretty_print_conversation(messages)"
   ]
  },
  {
   "cell_type": "code",
   "execution_count": 132,
   "id": "56ba2750-f47f-461e-bf94-48c2e1c340b3",
   "metadata": {},
   "outputs": [],
   "source": [
    "# conn.commit()  # Commits any pending transactions to the database (useful after INSERT, UPDATE, DELETE operations)"
   ]
  },
  {
   "cell_type": "code",
   "execution_count": 134,
   "id": "00d8df36-3afe-4e0c-b1c7-bb3129cc9ed6",
   "metadata": {},
   "outputs": [
    {
     "name": "stdout",
     "output_type": "stream",
     "text": [
      "\u001b[31msystem: Answer user questions by generating SQL queries against the Saleco Database.\n",
      "\u001b[0m\n",
      "\u001b[32muser: Hi, who are the top 3 customer by number of invoices?\n",
      "\u001b[0m\n",
      "\u001b[34massistant (function_call): {'name': 'ask_database', 'arguments': '{\"query\":\"SELECT cus_code, COUNT(inv_number) AS num_invoices\\\\nFROM invoice\\\\nGROUP BY cus_code\\\\nORDER BY num_invoices DESC\\\\nLIMIT 3;\"}'}\n",
      "\u001b[0m\n",
      "\u001b[35mfunction (ask_database): [(10011, 3), (10014, 2), (10015, 1)]\n",
      "\u001b[0m\n",
      "\u001b[32muser: What is the name of the vendor with the most products?\n",
      "\u001b[0m\n",
      "\u001b[34massistant (function_call): {'name': 'ask_database', 'arguments': '{\"query\":\"SELECT v_name, COUNT(p_code) AS num_products\\\\nFROM product\\\\nJOIN vendor ON product.v_code = vendor.v_code\\\\nGROUP BY vendor.v_code, v_name\\\\nORDER BY num_products DESC\\\\nLIMIT 1;\"}'}\n",
      "\u001b[0m\n",
      "\u001b[35mfunction (ask_database): [('Bryson, Inc.', 4)]\n",
      "\u001b[0m\n"
     ]
    }
   ],
   "source": [
    "# Append a new user question to the conversation history\n",
    "messages.append({\n",
    "    \"role\": \"user\",\n",
    "    \"content\": \"What is the name of the vendor with the most products?\"\n",
    "})\n",
    "\n",
    "# Send the updated conversation to the model, including function definitions\n",
    "chat_response = chat_completion_request(messages, functions)\n",
    "\n",
    "# Extract the assistant's response from the JSON output\n",
    "assistant_message = chat_response.json()[\"choices\"][0][\"message\"]\n",
    "\n",
    "# Append the assistant's message to the message list\n",
    "messages.append(assistant_message)\n",
    "\n",
    "# If the assistant message includes a function call, handle it\n",
    "if assistant_message.get(\"function_call\"):\n",
    "    # Execute the function based on the assistant's function call\n",
    "    results = execute_function_call(assistant_message)\n",
    "    \n",
    "    # Append the result of the function execution to the conversation\n",
    "    messages.append({\n",
    "        \"role\": \"function\",\n",
    "        \"content\": results,\n",
    "        \"name\": assistant_message[\"function_call\"][\"name\"]\n",
    "    })\n",
    "\n",
    "# Print the conversation with colored formatting for clarity\n",
    "pretty_print_conversation(messages)"
   ]
  },
  {
   "cell_type": "code",
   "execution_count": 136,
   "id": "e3b07261-b25d-4d55-af01-34db9a1bf6f6",
   "metadata": {},
   "outputs": [
    {
     "name": "stdout",
     "output_type": "stream",
     "text": [
      "\u001b[31msystem: Answer user questions by generating SQL queries against the Saleco Database.\n",
      "\u001b[0m\n",
      "\u001b[32muser: Hi, who are the top 3 customer by number of invoices?\n",
      "\u001b[0m\n",
      "\u001b[34massistant (function_call): {'name': 'ask_database', 'arguments': '{\"query\":\"SELECT cus_code, COUNT(inv_number) AS num_invoices\\\\nFROM invoice\\\\nGROUP BY cus_code\\\\nORDER BY num_invoices DESC\\\\nLIMIT 3;\"}'}\n",
      "\u001b[0m\n",
      "\u001b[35mfunction (ask_database): [(10011, 3), (10014, 2), (10015, 1)]\n",
      "\u001b[0m\n",
      "\u001b[32muser: What is the name of the vendor with the most products?\n",
      "\u001b[0m\n",
      "\u001b[34massistant (function_call): {'name': 'ask_database', 'arguments': '{\"query\":\"SELECT v_name, COUNT(p_code) AS num_products\\\\nFROM product\\\\nJOIN vendor ON product.v_code = vendor.v_code\\\\nGROUP BY vendor.v_code, v_name\\\\nORDER BY num_products DESC\\\\nLIMIT 1;\"}'}\n",
      "\u001b[0m\n",
      "\u001b[35mfunction (ask_database): [('Bryson, Inc.', 4)]\n",
      "\u001b[0m\n",
      "\u001b[32muser: List the product names of the vendor with the most products?\n",
      "\u001b[0m\n",
      "\u001b[34massistant (function_call): {'name': 'ask_database', 'arguments': '{\"query\":\"SELECT p_descript\\\\nFROM product\\\\nWHERE v_code = (SELECT v_code\\\\n                  FROM product\\\\n                  GROUP BY v_code\\\\n                  ORDER BY COUNT(p_code) DESC\\\\n                  LIMIT 1);\"}'}\n",
      "\u001b[0m\n",
      "\u001b[35mfunction (ask_database): [('Power painter, 15 psi., 3-nozzle',), ('7.25-in. pwr. saw blade',), ('Claw hammer',), ('1.25-in. metal screw, 25',)]\n",
      "\u001b[0m\n"
     ]
    }
   ],
   "source": [
    "# Add a user message requesting the product names for the vendor with the most products\n",
    "messages.append({\n",
    "    \"role\": \"user\",\n",
    "    \"content\": \"List the product names of the vendor with the most products?\"\n",
    "})\n",
    "\n",
    "# Send the full conversation with function definitions to the model\n",
    "chat_response = chat_completion_request(messages, functions)\n",
    "\n",
    "# Extract the assistant's response from the API's JSON payload\n",
    "assistant_message = chat_response.json()[\"choices\"][0][\"message\"]\n",
    "\n",
    "# Append the assistant's response to the message history\n",
    "messages.append(assistant_message)\n",
    "\n",
    "# If the assistant is invoking a function, process the function call\n",
    "if assistant_message.get(\"function_call\"):\n",
    "    # Execute the function and capture the result\n",
    "    results = execute_function_call(assistant_message)\n",
    "\n",
    "    # Append the function's result to the conversation\n",
    "    messages.append({\n",
    "        \"role\": \"function\",\n",
    "        \"content\": results,\n",
    "        \"name\": assistant_message[\"function_call\"][\"name\"]\n",
    "    })\n",
    "\n",
    "# Display the entire conversation in a color-coded, readable format\n",
    "pretty_print_conversation(messages)"
   ]
  },
  {
   "cell_type": "code",
   "execution_count": null,
   "id": "56a50c79-c153-48b6-b5be-8f42e1cf5568",
   "metadata": {},
   "outputs": [],
   "source": []
  }
 ],
 "metadata": {
  "kernelspec": {
   "display_name": "Python [conda env:base] *",
   "language": "python",
   "name": "conda-base-py"
  },
  "language_info": {
   "codemirror_mode": {
    "name": "ipython",
    "version": 3
   },
   "file_extension": ".py",
   "mimetype": "text/x-python",
   "name": "python",
   "nbconvert_exporter": "python",
   "pygments_lexer": "ipython3",
   "version": "3.12.2"
  }
 },
 "nbformat": 4,
 "nbformat_minor": 5
}
