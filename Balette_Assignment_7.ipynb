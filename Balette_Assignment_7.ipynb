{
 "cells": [
  {
   "cell_type": "code",
   "execution_count": 17,
   "id": "b9194d17-202f-48ca-b8e6-7820a78845c7",
   "metadata": {},
   "outputs": [],
   "source": [
    "# Install these if not already done\n",
    "# !pip install openai pymilvus==2.3.4 tiktoken\n",
    "\n",
    "from pymilvus import connections, Collection, FieldSchema, CollectionSchema, DataType, list_collections\n",
    "import openai\n",
    "import pandas as pd\n",
    "import numpy as np\n",
    "from typing import List\n",
    "from tqdm import tqdm\n",
    "import os"
   ]
  },
  {
   "cell_type": "code",
   "execution_count": 19,
   "id": "db83b0d1-b115-45d6-8783-fe0f42f375e0",
   "metadata": {},
   "outputs": [
    {
     "name": "stdout",
     "output_type": "stream",
     "text": [
      "Connected to Milvus.\n"
     ]
    }
   ],
   "source": [
    "from pymilvus import connections\n",
    "connections.connect(\"default\", host=\"localhost\", port=\"19530\")\n",
    "print(\"Connected to Milvus.\")"
   ]
  },
  {
   "cell_type": "code",
   "execution_count": 21,
   "id": "bedfb3b9-73b9-4a87-843c-69759caae1c1",
   "metadata": {},
   "outputs": [
    {
     "name": "stdout",
     "output_type": "stream",
     "text": [
      "Collection 'github_issues' created.\n"
     ]
    }
   ],
   "source": [
    "# Drop old collection if it already exists (optional for re-runs)\n",
    "if \"github_issues\" in list_collections():\n",
    "    Collection(\"github_issues\").drop()\n",
    "\n",
    "# Define fields\n",
    "issue_id_field = FieldSchema(name=\"issue_id\", dtype=DataType.INT64, is_primary=True, auto_id=False)\n",
    "text_field = FieldSchema(name=\"text\", dtype=DataType.VARCHAR, max_length=1000)\n",
    "embedding_field = FieldSchema(name=\"embedding\", dtype=DataType.FLOAT_VECTOR, dim=1536)\n",
    "\n",
    "# Define schema\n",
    "schema = CollectionSchema(\n",
    "    fields=[issue_id_field, text_field, embedding_field],\n",
    "    description=\"GitHub issue triage schema\"\n",
    ")\n",
    "\n",
    "# Create collection\n",
    "collection = Collection(name=\"github_issues\", schema=schema)\n",
    "print(\"Collection 'github_issues' created.\")"
   ]
  },
  {
   "cell_type": "code",
   "execution_count": 25,
   "id": "adef1266-b9cb-4421-8f8e-dcc6ca93f206",
   "metadata": {},
   "outputs": [
    {
     "name": "stdout",
     "output_type": "stream",
     "text": [
      "OpenAI API key loaded.\n"
     ]
    }
   ],
   "source": [
    "from dotenv import load_dotenv\n",
    "\n",
    "# Load environment variables from .env file\n",
    "load_dotenv()\n",
    "\n",
    "# Set OpenAI API key from environment\n",
    "openai.api_key = os.getenv(\"OPENAI_API_KEY\")\n",
    "\n",
    "# Confirm it's loaded (optional debug)\n",
    "if openai.api_key:\n",
    "    print(\"OpenAI API key loaded.\")\n",
    "else:\n",
    "    print(\"OpenAI API key NOT found. Check your .env file.\")"
   ]
  },
  {
   "cell_type": "code",
   "execution_count": 35,
   "id": "c8d3db62-239c-4240-b5d7-392eb3f63ad5",
   "metadata": {},
   "outputs": [
    {
     "name": "stderr",
     "output_type": "stream",
     "text": [
      "Embedding issues: 100%|███████████████████████████| 7/7 [00:05<00:00,  1.35it/s]\n"
     ]
    },
    {
     "name": "stdout",
     "output_type": "stream",
     "text": [
      "Inserted sample issues into Milvus.\n"
     ]
    }
   ],
   "source": [
    "from openai import OpenAI\n",
    "\n",
    "# Create OpenAI client\n",
    "client = OpenAI()\n",
    "\n",
    "# Sample GitHub issues\n",
    "sample_issues = [\n",
    "    \"Bug: App crashes when clicking the login button\",\n",
    "    \"Feature request: Add dark mode\",\n",
    "    \"Question: How do I set up the development environment?\",\n",
    "    \"Bug: Typo in README file\",\n",
    "    \"General: This project is really cool!\",\n",
    "    \"Discussion: Should we move to TypeScript?\",\n",
    "    \"Bug: API returns 500 error on GET /users\"\n",
    "]\n",
    "\n",
    "# Assign issue IDs\n",
    "issue_ids = list(range(1, len(sample_issues) + 1))\n",
    "\n",
    "# Define reusable embedding function\n",
    "def get_embedding(text: str) -> List[float]:\n",
    "    response = client.embeddings.create(\n",
    "        model=\"text-embedding-3-small\",\n",
    "        input=[text]\n",
    "    )\n",
    "    return response.data[0].embedding\n",
    "\n",
    "# Embed and collect\n",
    "embedded_issues = []\n",
    "for text in tqdm(sample_issues, desc=\"Embedding issues\"):\n",
    "    embedded_issues.append(get_embedding(text))\n",
    "\n",
    "# Insert into Milvus\n",
    "collection.insert([issue_ids, sample_issues, embedded_issues])\n",
    "collection.flush()\n",
    "\n",
    "print(\"Inserted sample issues into Milvus.\")"
   ]
  },
  {
   "cell_type": "code",
   "execution_count": 43,
   "id": "bbf571cf-2495-493a-a455-0f7574fa2bc1",
   "metadata": {},
   "outputs": [],
   "source": [
    "def search_similar_issues(query: str, top_k: int = 3):\n",
    "    # Ensure index exists (required before loading and searching)\n",
    "    if not collection.has_index():\n",
    "        collection.create_index(\n",
    "            field_name=\"embedding\",\n",
    "            index_params={\n",
    "                \"index_type\": \"IVF_FLAT\",\n",
    "                \"metric_type\": \"COSINE\",\n",
    "                \"params\": {\"nlist\": 128}\n",
    "            }\n",
    "        )\n",
    "\n",
    "    # Load collection into memory\n",
    "    collection.load()\n",
    "\n",
    "    # Embed the query\n",
    "    response = client.embeddings.create(\n",
    "        model=\"text-embedding-3-small\",\n",
    "        input=[query]\n",
    "    )\n",
    "    query_embedding = response.data[0].embedding\n",
    "\n",
    "    # Search the collection\n",
    "    results = collection.search(\n",
    "        data=[query_embedding],\n",
    "        anns_field=\"embedding\",\n",
    "        param={\"metric_type\": \"COSINE\", \"params\": {\"nprobe\": 10}},\n",
    "        limit=top_k,\n",
    "        output_fields=[\"issue_id\", \"text\"]\n",
    "    )\n",
    "\n",
    "    return results[0]"
   ]
  },
  {
   "cell_type": "code",
   "execution_count": 45,
   "id": "7df86717-d10e-4dec-af02-68b0ab92d7c2",
   "metadata": {},
   "outputs": [
    {
     "name": "stdout",
     "output_type": "stream",
     "text": [
      "Issue ID: 1\n",
      "Text: Bug: App crashes when clicking the login button\n",
      "Similarity Score: 0.7664\n",
      "---\n",
      "Issue ID: 7\n",
      "Text: Bug: API returns 500 error on GET /users\n",
      "Similarity Score: 0.3433\n",
      "---\n",
      "Issue ID: 4\n",
      "Text: Bug: Typo in README file\n",
      "Similarity Score: 0.2541\n",
      "---\n"
     ]
    }
   ],
   "source": [
    "# Define search query\n",
    "query = \"App crashes on login\"\n",
    "matches = search_similar_issues(query)\n",
    "\n",
    "# Display results\n",
    "for match in matches:\n",
    "    issue_id = match.entity.get(\"issue_id\")\n",
    "    text = match.entity.get(\"text\")\n",
    "    score = match.distance\n",
    "\n",
    "    print(f\"Issue ID: {issue_id}\")\n",
    "    print(f\"Text: {text}\")\n",
    "    print(f\"Similarity Score: {score:.4f}\")\n",
    "    print(\"---\")"
   ]
  },
  {
   "cell_type": "code",
   "execution_count": 53,
   "id": "adea8b16-2cea-4351-aad9-2272d0f4df0a",
   "metadata": {},
   "outputs": [],
   "source": [
    "def classify_issue_text(text: str) -> str:\n",
    "    response = client.chat.completions.create(\n",
    "        model=\"gpt-4o\",\n",
    "        messages=[\n",
    "            {\"role\": \"system\", \"content\": \"You are a GitHub issue triage assistant.\"},\n",
    "            {\"role\": \"user\", \"content\": f\"Classify this GitHub issue with only one word: bug, feature request, question, general comment, or discussion.\\n\\nIssue: {text}\"}\n",
    "        ],\n",
    "        temperature=0\n",
    "    )\n",
    "\n",
    "    # Normalize and clean output\n",
    "    label = response.choices[0].message.content.strip().lower()\n",
    "    label = label.replace(\"category:\", \"\").replace(\"this github issue should be classified as\", \"\").strip()\n",
    "    label = label.strip('\"').strip(\"'\").strip(\".\").strip()\n",
    "    \n",
    "    return label"
   ]
  },
  {
   "cell_type": "code",
   "execution_count": 55,
   "id": "12a3bcd0-0d58-43ea-bde4-06a59210af24",
   "metadata": {},
   "outputs": [
    {
     "name": "stdout",
     "output_type": "stream",
     "text": [
      "Issue: Bug: App crashes when clicking the login button\n",
      " → Label: bug\n",
      "\n",
      "Issue: Feature request: Add dark mode\n",
      " → Label: feature request\n",
      "\n",
      "Issue: Question: How do I set up the development environment?\n",
      " → Label: question\n",
      "\n",
      "Issue: Bug: Typo in README file\n",
      " → Label: bug\n",
      "\n",
      "Issue: General: This project is really cool!\n",
      " → Label: general comment\n",
      "\n",
      "Issue: Discussion: Should we move to TypeScript?\n",
      " → Label: discussion\n",
      "\n",
      "Issue: Bug: API returns 500 error on GET /users\n",
      " → Label: bug\n",
      "\n"
     ]
    }
   ],
   "source": [
    "# Classify and label each sample issue\n",
    "for issue in sample_issues:\n",
    "    label = classify_issue_text(issue)\n",
    "    print(f\"Issue: {issue}\\n → Label: {label}\\n\")"
   ]
  },
  {
   "cell_type": "code",
   "execution_count": 61,
   "id": "b1cb9f27-0c70-464f-a49e-b789a5800652",
   "metadata": {},
   "outputs": [
    {
     "name": "stderr",
     "output_type": "stream",
     "text": [
      "Embedding: 100%|██████████████████████████████████| 7/7 [00:05<00:00,  1.36it/s]\n"
     ]
    }
   ],
   "source": [
    "from pymilvus import connections, Collection, FieldSchema, CollectionSchema, DataType, list_collections\n",
    "from openai import OpenAI\n",
    "from dotenv import load_dotenv\n",
    "from tqdm import tqdm\n",
    "from typing import List\n",
    "import os\n",
    "\n",
    "# === Setup ===\n",
    "load_dotenv()\n",
    "client = OpenAI()\n",
    "connections.connect(\"default\", host=\"localhost\", port=\"19530\")\n",
    "\n",
    "# === Drop existing collection ===\n",
    "if \"github_issues\" in list_collections():\n",
    "    Collection(\"github_issues\").drop()\n",
    "\n",
    "# === Define schema with label ===\n",
    "issue_id_field = FieldSchema(name=\"issue_id\", dtype=DataType.INT64, is_primary=True, auto_id=False)\n",
    "text_field = FieldSchema(name=\"text\", dtype=DataType.VARCHAR, max_length=1000)\n",
    "label_field = FieldSchema(name=\"label\", dtype=DataType.VARCHAR, max_length=100)\n",
    "embedding_field = FieldSchema(name=\"embedding\", dtype=DataType.FLOAT_VECTOR, dim=1536)\n",
    "\n",
    "schema = CollectionSchema(\n",
    "    fields=[issue_id_field, text_field, label_field, embedding_field],\n",
    "    description=\"GitHub issue triage schema with label\"\n",
    ")\n",
    "\n",
    "collection = Collection(name=\"github_issues\", schema=schema)\n",
    "\n",
    "# === Sample issues ===\n",
    "sample_issues = [\n",
    "    \"Bug: App crashes when clicking the login button\",\n",
    "    \"Feature request: Add dark mode\",\n",
    "    \"Question: How do I set up the development environment?\",\n",
    "    \"Bug: Typo in README file\",\n",
    "    \"General: This project is really cool!\",\n",
    "    \"Discussion: Should we move to TypeScript?\",\n",
    "    \"Bug: API returns 500 error on GET /users\"\n",
    "]\n",
    "\n",
    "issue_ids = list(range(1, len(sample_issues) + 1))\n",
    "\n",
    "# === Helper functions ===\n",
    "def get_embedding(text: str) -> List[float]:\n",
    "    response = client.embeddings.create(\n",
    "        model=\"text-embedding-3-small\",\n",
    "        input=[text]\n",
    "    )\n",
    "    return response.data[0].embedding\n",
    "\n",
    "def classify_issue_text(text: str) -> str:\n",
    "    response = client.chat.completions.create(\n",
    "        model=\"gpt-4o\",\n",
    "        messages=[\n",
    "            {\"role\": \"system\", \"content\": \"You are a GitHub issue triage assistant.\"},\n",
    "            {\"role\": \"user\", \"content\": f\"Classify this GitHub issue with only one word: bug, feature request, question, general comment, or discussion.\\n\\nIssue: {text}\"}\n",
    "        ],\n",
    "        temperature=0\n",
    "    )\n",
    "    label = response.choices[0].message.content.strip().lower()\n",
    "    label = label.replace(\"category:\", \"\").replace(\"this github issue should be classified as\", \"\").strip()\n",
    "    label = label.strip('\"').strip(\"'\").strip(\".\").strip()\n",
    "    return label\n",
    "\n",
    "# === Generate embeddings and labels ===\n",
    "embedded_issues = [get_embedding(text) for text in tqdm(sample_issues, desc=\"Embedding\")]\n",
    "labels = [classify_issue_text(text) for text in sample_issues]\n",
    "\n",
    "# === Insert into Milvus ===\n",
    "collection.insert([issue_ids, sample_issues, labels, embedded_issues])\n",
    "collection.flush()\n",
    "\n",
    "# === Create index ===\n",
    "collection.create_index(\n",
    "    field_name=\"embedding\",\n",
    "    index_params={\n",
    "        \"index_type\": \"IVF_FLAT\",\n",
    "        \"metric_type\": \"COSINE\",\n",
    "        \"params\": {\"nlist\": 128}\n",
    "    }\n",
    ")\n",
    "\n",
    "# === Search with optional label filter ===\n",
    "def search_similar_issues(query: str, top_k: int = 3, label_filter: str = None):\n",
    "    if not collection.has_index():\n",
    "        collection.create_index(\n",
    "            field_name=\"embedding\",\n",
    "            index_params={\n",
    "                \"index_type\": \"IVF_FLAT\",\n",
    "                \"metric_type\": \"COSINE\",\n",
    "                \"params\": {\"nlist\": 128}\n",
    "            }\n",
    "        )\n",
    "    collection.load()\n",
    "    response = client.embeddings.create(\n",
    "        model=\"text-embedding-3-small\",\n",
    "        input=[query]\n",
    "    )\n",
    "    query_embedding = response.data[0].embedding\n",
    "    expr = f'label == \"{label_filter}\"' if label_filter else None\n",
    "    results = collection.search(\n",
    "        data=[query_embedding],\n",
    "        anns_field=\"embedding\",\n",
    "        param={\"metric_type\": \"COSINE\", \"params\": {\"nprobe\": 10}},\n",
    "        limit=top_k,\n",
    "        output_fields=[\"issue_id\", \"text\", \"label\"],\n",
    "        expr=expr\n",
    "    )\n",
    "    return results[0]"
   ]
  },
  {
   "cell_type": "code",
   "execution_count": 63,
   "id": "17010273-860a-4173-b746-dfc760bf4896",
   "metadata": {},
   "outputs": [
    {
     "name": "stdout",
     "output_type": "stream",
     "text": [
      "Issue ID: 1\n",
      "Label: bug\n",
      "Text: Bug: App crashes when clicking the login button\n",
      "Score: 0.7663\n",
      "---\n",
      "Issue ID: 7\n",
      "Label: bug\n",
      "Text: Bug: API returns 500 error on GET /users\n",
      "Score: 0.3433\n",
      "---\n",
      "Issue ID: 4\n",
      "Label: bug\n",
      "Text: Bug: Typo in README file\n",
      "Score: 0.2541\n",
      "---\n"
     ]
    }
   ],
   "source": [
    "query = \"App crashes on login\"\n",
    "matches = search_similar_issues(query, label_filter=\"bug\")\n",
    "for match in matches:\n",
    "    print(f\"Issue ID: {match.entity.get('issue_id')}\")\n",
    "    print(f\"Label: {match.entity.get('label')}\")\n",
    "    print(f\"Text: {match.entity.get('text')}\")\n",
    "    print(f\"Score: {match.distance:.4f}\")\n",
    "    print(\"---\")"
   ]
  },
  {
   "cell_type": "code",
   "execution_count": null,
   "id": "d6eb2010-f587-4e2a-b0d6-33946b425c64",
   "metadata": {},
   "outputs": [],
   "source": []
  }
 ],
 "metadata": {
  "kernelspec": {
   "display_name": "Python [conda env:base] *",
   "language": "python",
   "name": "conda-base-py"
  },
  "language_info": {
   "codemirror_mode": {
    "name": "ipython",
    "version": 3
   },
   "file_extension": ".py",
   "mimetype": "text/x-python",
   "name": "python",
   "nbconvert_exporter": "python",
   "pygments_lexer": "ipython3",
   "version": "3.12.2"
  }
 },
 "nbformat": 4,
 "nbformat_minor": 5
}
