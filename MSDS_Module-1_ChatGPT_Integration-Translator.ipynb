{
 "cells": [
  {
   "cell_type": "markdown",
   "id": "8bfdddc5-ccc5-47dc-9978-88fe6973abba",
   "metadata": {},
   "source": [
    "# Environment Setup for API Keys\n",
    "In this section, I am setting up my API keys securely using Python's `os` and `getpass` modules.\n",
    "\n",
    "- **OPENAI_API_KEY:** Used to authenticate requests to the OpenAI API.\n",
    "- **LANGCHAIN_API_KEY:** Required for logging/tracing with LangChain and LangSmith.\n",
    "- **LANGCHAIN_TRACING_V2:** Set to \"True\" to enable advanced tracing.\n",
    "- **TAVILY_API_KEY:** API key for Tavily services.\n",
    "\n",
    "The keys are entered securely and stored in environment variables to keep them hidden during code execution."
   ]
  },
  {
   "cell_type": "code",
   "execution_count": 5,
   "id": "01f90634-8851-4cea-b36c-c49debee9ddc",
   "metadata": {},
   "outputs": [
    {
     "name": "stdin",
     "output_type": "stream",
     "text": [
      "Enter your OpenAI API key:  ········\n",
      "Enter your LangChain API key:  ········\n",
      "Enter your Tavily API key:  ········\n"
     ]
    },
    {
     "name": "stdout",
     "output_type": "stream",
     "text": [
      "Environment variables set successfully!\n"
     ]
    }
   ],
   "source": [
    "import os\n",
    "import getpass\n",
    "\n",
    "# Securely prompt for API keys\n",
    "os.environ[\"OPENAI_API_KEY\"] = getpass.getpass(\"Enter your OpenAI API key: \")\n",
    "os.environ[\"LANGCHAIN_API_KEY\"] = getpass.getpass(\"Enter your LangChain API key: \")\n",
    "os.environ[\"LANGCHAIN_TRACING_V2\"] = \"True\"\n",
    "os.environ[\"TAVILY_API_KEY\"] = getpass.getpass(\"Enter your Tavily API key: \")\n",
    "\n",
    "print(\"Environment variables set successfully!\")"
   ]
  },
  {
   "cell_type": "code",
   "execution_count": 6,
   "id": "4d013d0c-f266-43c7-b413-8fc612aaf326",
   "metadata": {},
   "outputs": [],
   "source": [
    "from langchain_openai import ChatOpenAI\n",
    "\n",
    "model = ChatOpenAI(model=\"gpt-4o-mini\")"
   ]
  },
  {
   "cell_type": "code",
   "execution_count": 8,
   "id": "9d59d2ff-1c07-44d9-b9b5-812e6041b951",
   "metadata": {},
   "outputs": [
    {
     "name": "stdout",
     "output_type": "stream",
     "text": [
      "¡Hola Mundo!\n"
     ]
    }
   ],
   "source": [
    "from langchain_core.messages import HumanMessage, SystemMessage\n",
    "\n",
    "messages = [\n",
    "    SystemMessage(\"Translate the following from English into Spanish\"),\n",
    "    HumanMessage(\"Hello World!\"),\n",
    "]\n",
    "\n",
    "response = model.invoke(messages)\n",
    "print(response.content)"
   ]
  },
  {
   "cell_type": "code",
   "execution_count": 9,
   "id": "29276223-dc2b-4fd7-bb28-780f76236d4c",
   "metadata": {},
   "outputs": [
    {
     "name": "stdout",
     "output_type": "stream",
     "text": [
      "|¡|Hola| Mundo|!||"
     ]
    }
   ],
   "source": [
    "for token in model.stream(messages):\n",
    "    print(token.content, end=\"|\")"
   ]
  },
  {
   "cell_type": "code",
   "execution_count": 12,
   "id": "20333cbe-6f83-4f08-92d4-d72c2b89b56a",
   "metadata": {},
   "outputs": [],
   "source": [
    "from langchain_core.prompts import ChatPromptTemplate\n",
    "\n",
    "system_template = \"Translate the following from English into {language}\"\n",
    "\n",
    "prompt_template = ChatPromptTemplate.from_messages(\n",
    "    [(\"system\", system_template), (\"user\", \"{text}\")]\n",
    ")"
   ]
  },
  {
   "cell_type": "code",
   "execution_count": 24,
   "id": "bace6484-872e-4cf7-884f-53c6c9b39be3",
   "metadata": {},
   "outputs": [
    {
     "name": "stdout",
     "output_type": "stream",
     "text": [
      "Hola, ¿cómo estás?\n"
     ]
    }
   ],
   "source": [
    "prompt = prompt_template.invoke({\"language\": \"Spanish\", \"text\": \"hi, how are you?\"})\n",
    "\n",
    "prompt\n",
    "\n",
    "prompt.to_messages()\n",
    "\n",
    "response = model.invoke(prompt)\n",
    "print(response.content)"
   ]
  },
  {
   "cell_type": "code",
   "execution_count": null,
   "id": "3b11b8c1-790a-4377-9326-22fd380aa0c6",
   "metadata": {},
   "outputs": [],
   "source": []
  },
  {
   "cell_type": "code",
   "execution_count": null,
   "id": "280929fc-5b6e-45fd-9f2c-4c7faccc4c7b",
   "metadata": {},
   "outputs": [],
   "source": []
  }
 ],
 "metadata": {
  "kernelspec": {
   "display_name": "Python 3 (ipykernel)",
   "language": "python",
   "name": "python3"
  },
  "language_info": {
   "codemirror_mode": {
    "name": "ipython",
    "version": 3
   },
   "file_extension": ".py",
   "mimetype": "text/x-python",
   "name": "python",
   "nbconvert_exporter": "python",
   "pygments_lexer": "ipython3",
   "version": "3.12.2"
  }
 },
 "nbformat": 4,
 "nbformat_minor": 5
}
