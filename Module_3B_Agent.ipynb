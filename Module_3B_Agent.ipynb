{
 "cells": [
  {
   "cell_type": "code",
   "execution_count": 3,
   "id": "2625996b-05a3-4f30-9b35-c7f035321d47",
   "metadata": {},
   "outputs": [
    {
     "name": "stdout",
     "output_type": "stream",
     "text": [
      "Collecting langchain-community\n",
      "  Downloading langchain_community-0.3.21-py3-none-any.whl.metadata (2.4 kB)\n",
      "Requirement already satisfied: langgraph in /opt/anaconda3/lib/python3.12/site-packages (0.3.30)\n",
      "Requirement already satisfied: langchain-openai in /opt/anaconda3/lib/python3.12/site-packages (0.3.12)\n",
      "Collecting langchain-openai\n",
      "  Downloading langchain_openai-0.3.13-py3-none-any.whl.metadata (2.3 kB)\n",
      "Collecting tavily-python\n",
      "  Downloading tavily_python-0.5.4-py3-none-any.whl.metadata (91 kB)\n",
      "Collecting langgraph-checkpoint-sqlite\n",
      "  Downloading langgraph_checkpoint_sqlite-2.0.6-py3-none-any.whl.metadata (3.0 kB)\n",
      "Collecting langchain-core<1.0.0,>=0.3.51 (from langchain-community)\n",
      "  Downloading langchain_core-0.3.52-py3-none-any.whl.metadata (5.9 kB)\n",
      "Collecting langchain<1.0.0,>=0.3.23 (from langchain-community)\n",
      "  Using cached langchain-0.3.23-py3-none-any.whl.metadata (7.8 kB)\n",
      "Requirement already satisfied: SQLAlchemy<3,>=1.4 in /opt/anaconda3/lib/python3.12/site-packages (from langchain-community) (2.0.34)\n",
      "Requirement already satisfied: requests<3,>=2 in /opt/anaconda3/lib/python3.12/site-packages (from langchain-community) (2.32.3)\n",
      "Requirement already satisfied: PyYAML>=5.3 in /opt/anaconda3/lib/python3.12/site-packages (from langchain-community) (6.0.1)\n",
      "Requirement already satisfied: aiohttp<4.0.0,>=3.8.3 in /opt/anaconda3/lib/python3.12/site-packages (from langchain-community) (3.10.5)\n",
      "Requirement already satisfied: tenacity!=8.4.0,<10,>=8.1.0 in /opt/anaconda3/lib/python3.12/site-packages (from langchain-community) (8.2.3)\n",
      "Collecting dataclasses-json<0.7,>=0.5.7 (from langchain-community)\n",
      "  Downloading dataclasses_json-0.6.7-py3-none-any.whl.metadata (25 kB)\n",
      "Requirement already satisfied: pydantic-settings<3.0.0,>=2.4.0 in /opt/anaconda3/lib/python3.12/site-packages (from langchain-community) (2.6.1)\n",
      "Requirement already satisfied: langsmith<0.4,>=0.1.125 in /opt/anaconda3/lib/python3.12/site-packages (from langchain-community) (0.2.11)\n",
      "Collecting httpx-sse<1.0.0,>=0.4.0 (from langchain-community)\n",
      "  Downloading httpx_sse-0.4.0-py3-none-any.whl.metadata (9.0 kB)\n",
      "Requirement already satisfied: numpy<3,>=1.26.2 in /opt/anaconda3/lib/python3.12/site-packages (from langchain-community) (1.26.4)\n",
      "Requirement already satisfied: langgraph-checkpoint<3.0.0,>=2.0.10 in /opt/anaconda3/lib/python3.12/site-packages (from langgraph) (2.0.24)\n",
      "Requirement already satisfied: langgraph-prebuilt<0.2,>=0.1.1 in /opt/anaconda3/lib/python3.12/site-packages (from langgraph) (0.1.8)\n",
      "Requirement already satisfied: langgraph-sdk<0.2.0,>=0.1.42 in /opt/anaconda3/lib/python3.12/site-packages (from langgraph) (0.1.61)\n",
      "Requirement already satisfied: xxhash<4.0.0,>=3.5.0 in /opt/anaconda3/lib/python3.12/site-packages (from langgraph) (3.5.0)\n",
      "Requirement already satisfied: openai<2.0.0,>=1.68.2 in /opt/anaconda3/lib/python3.12/site-packages (from langchain-openai) (1.71.0)\n",
      "Requirement already satisfied: tiktoken<1,>=0.7 in /opt/anaconda3/lib/python3.12/site-packages (from langchain-openai) (0.9.0)\n",
      "Requirement already satisfied: httpx in /opt/anaconda3/lib/python3.12/site-packages (from tavily-python) (0.27.0)\n",
      "Collecting aiosqlite<0.22,>=0.20 (from langgraph-checkpoint-sqlite)\n",
      "  Downloading aiosqlite-0.21.0-py3-none-any.whl.metadata (4.3 kB)\n",
      "Requirement already satisfied: aiohappyeyeballs>=2.3.0 in /opt/anaconda3/lib/python3.12/site-packages (from aiohttp<4.0.0,>=3.8.3->langchain-community) (2.4.0)\n",
      "Requirement already satisfied: aiosignal>=1.1.2 in /opt/anaconda3/lib/python3.12/site-packages (from aiohttp<4.0.0,>=3.8.3->langchain-community) (1.2.0)\n",
      "Requirement already satisfied: attrs>=17.3.0 in /opt/anaconda3/lib/python3.12/site-packages (from aiohttp<4.0.0,>=3.8.3->langchain-community) (25.1.0)\n",
      "Requirement already satisfied: frozenlist>=1.1.1 in /opt/anaconda3/lib/python3.12/site-packages (from aiohttp<4.0.0,>=3.8.3->langchain-community) (1.4.0)\n",
      "Requirement already satisfied: multidict<7.0,>=4.5 in /opt/anaconda3/lib/python3.12/site-packages (from aiohttp<4.0.0,>=3.8.3->langchain-community) (6.0.4)\n",
      "Requirement already satisfied: yarl<2.0,>=1.0 in /opt/anaconda3/lib/python3.12/site-packages (from aiohttp<4.0.0,>=3.8.3->langchain-community) (1.11.0)\n",
      "Requirement already satisfied: typing_extensions>=4.0 in /opt/anaconda3/lib/python3.12/site-packages (from aiosqlite<0.22,>=0.20->langgraph-checkpoint-sqlite) (4.11.0)\n",
      "Collecting marshmallow<4.0.0,>=3.18.0 (from dataclasses-json<0.7,>=0.5.7->langchain-community)\n",
      "  Downloading marshmallow-3.26.1-py3-none-any.whl.metadata (7.3 kB)\n",
      "Collecting typing-inspect<1,>=0.4.0 (from dataclasses-json<0.7,>=0.5.7->langchain-community)\n",
      "  Downloading typing_inspect-0.9.0-py3-none-any.whl.metadata (1.5 kB)\n",
      "Collecting langchain-text-splitters<1.0.0,>=0.3.8 (from langchain<1.0.0,>=0.3.23->langchain-community)\n",
      "  Using cached langchain_text_splitters-0.3.8-py3-none-any.whl.metadata (1.9 kB)\n",
      "Requirement already satisfied: pydantic<3.0.0,>=2.7.4 in /opt/anaconda3/lib/python3.12/site-packages (from langchain<1.0.0,>=0.3.23->langchain-community) (2.8.2)\n",
      "Requirement already satisfied: jsonpatch<2.0,>=1.33 in /opt/anaconda3/lib/python3.12/site-packages (from langchain-core<1.0.0,>=0.3.51->langchain-community) (1.33)\n",
      "Requirement already satisfied: packaging<25,>=23.2 in /opt/anaconda3/lib/python3.12/site-packages (from langchain-core<1.0.0,>=0.3.51->langchain-community) (24.1)\n",
      "Requirement already satisfied: ormsgpack<2.0.0,>=1.8.0 in /opt/anaconda3/lib/python3.12/site-packages (from langgraph-checkpoint<3.0.0,>=2.0.10->langgraph) (1.9.1)\n",
      "Requirement already satisfied: orjson>=3.10.1 in /opt/anaconda3/lib/python3.12/site-packages (from langgraph-sdk<0.2.0,>=0.1.42->langgraph) (3.10.16)\n",
      "Requirement already satisfied: anyio in /opt/anaconda3/lib/python3.12/site-packages (from httpx->tavily-python) (4.2.0)\n",
      "Requirement already satisfied: certifi in /opt/anaconda3/lib/python3.12/site-packages (from httpx->tavily-python) (2025.1.31)\n",
      "Requirement already satisfied: httpcore==1.* in /opt/anaconda3/lib/python3.12/site-packages (from httpx->tavily-python) (1.0.2)\n",
      "Requirement already satisfied: idna in /opt/anaconda3/lib/python3.12/site-packages (from httpx->tavily-python) (3.7)\n",
      "Requirement already satisfied: sniffio in /opt/anaconda3/lib/python3.12/site-packages (from httpx->tavily-python) (1.3.0)\n",
      "Requirement already satisfied: h11<0.15,>=0.13 in /opt/anaconda3/lib/python3.12/site-packages (from httpcore==1.*->httpx->tavily-python) (0.14.0)\n",
      "Requirement already satisfied: requests-toolbelt<2.0.0,>=1.0.0 in /opt/anaconda3/lib/python3.12/site-packages (from langsmith<0.4,>=0.1.125->langchain-community) (1.0.0)\n",
      "Requirement already satisfied: distro<2,>=1.7.0 in /opt/anaconda3/lib/python3.12/site-packages (from openai<2.0.0,>=1.68.2->langchain-openai) (1.9.0)\n",
      "Requirement already satisfied: jiter<1,>=0.4.0 in /opt/anaconda3/lib/python3.12/site-packages (from openai<2.0.0,>=1.68.2->langchain-openai) (0.9.0)\n",
      "Requirement already satisfied: tqdm>4 in /opt/anaconda3/lib/python3.12/site-packages (from openai<2.0.0,>=1.68.2->langchain-openai) (4.66.5)\n",
      "Requirement already satisfied: python-dotenv>=0.21.0 in /opt/anaconda3/lib/python3.12/site-packages (from pydantic-settings<3.0.0,>=2.4.0->langchain-community) (0.21.0)\n",
      "Requirement already satisfied: charset-normalizer<4,>=2 in /opt/anaconda3/lib/python3.12/site-packages (from requests<3,>=2->langchain-community) (3.3.2)\n",
      "Requirement already satisfied: urllib3<3,>=1.21.1 in /opt/anaconda3/lib/python3.12/site-packages (from requests<3,>=2->langchain-community) (2.2.3)\n",
      "Requirement already satisfied: regex>=2022.1.18 in /opt/anaconda3/lib/python3.12/site-packages (from tiktoken<1,>=0.7->langchain-openai) (2024.9.11)\n",
      "Requirement already satisfied: jsonpointer>=1.9 in /opt/anaconda3/lib/python3.12/site-packages (from jsonpatch<2.0,>=1.33->langchain-core<1.0.0,>=0.3.51->langchain-community) (2.1)\n",
      "Requirement already satisfied: annotated-types>=0.4.0 in /opt/anaconda3/lib/python3.12/site-packages (from pydantic<3.0.0,>=2.7.4->langchain<1.0.0,>=0.3.23->langchain-community) (0.6.0)\n",
      "Requirement already satisfied: pydantic-core==2.20.1 in /opt/anaconda3/lib/python3.12/site-packages (from pydantic<3.0.0,>=2.7.4->langchain<1.0.0,>=0.3.23->langchain-community) (2.20.1)\n",
      "Requirement already satisfied: mypy-extensions>=0.3.0 in /opt/anaconda3/lib/python3.12/site-packages (from typing-inspect<1,>=0.4.0->dataclasses-json<0.7,>=0.5.7->langchain-community) (1.0.0)\n",
      "Downloading langchain_community-0.3.21-py3-none-any.whl (2.5 MB)\n",
      "\u001b[2K   \u001b[90m━━━━━━━━━━━━━━━━━━━━━━━━━━━━━━━━━━━━━━━━\u001b[0m \u001b[32m2.5/2.5 MB\u001b[0m \u001b[31m4.4 MB/s\u001b[0m eta \u001b[36m0:00:00\u001b[0ma \u001b[36m0:00:01\u001b[0m\n",
      "\u001b[?25hDownloading langchain_openai-0.3.13-py3-none-any.whl (61 kB)\n",
      "Downloading tavily_python-0.5.4-py3-none-any.whl (44 kB)\n",
      "Downloading langgraph_checkpoint_sqlite-2.0.6-py3-none-any.whl (12 kB)\n",
      "Downloading aiosqlite-0.21.0-py3-none-any.whl (15 kB)\n",
      "Downloading dataclasses_json-0.6.7-py3-none-any.whl (28 kB)\n",
      "Downloading httpx_sse-0.4.0-py3-none-any.whl (7.8 kB)\n",
      "Using cached langchain-0.3.23-py3-none-any.whl (1.0 MB)\n",
      "Downloading langchain_core-0.3.52-py3-none-any.whl (433 kB)\n",
      "Using cached langchain_text_splitters-0.3.8-py3-none-any.whl (32 kB)\n",
      "Downloading marshmallow-3.26.1-py3-none-any.whl (50 kB)\n",
      "Downloading typing_inspect-0.9.0-py3-none-any.whl (8.8 kB)\n",
      "Installing collected packages: typing-inspect, marshmallow, httpx-sse, aiosqlite, dataclasses-json, tavily-python, langchain-core, langchain-text-splitters, langchain-openai, langgraph-checkpoint-sqlite, langchain, langchain-community\n",
      "  Attempting uninstall: langchain-core\n",
      "    Found existing installation: langchain-core 0.3.49\n",
      "    Uninstalling langchain-core-0.3.49:\n",
      "      Successfully uninstalled langchain-core-0.3.49\n",
      "  Attempting uninstall: langchain-text-splitters\n",
      "    Found existing installation: langchain-text-splitters 0.3.7\n",
      "    Uninstalling langchain-text-splitters-0.3.7:\n",
      "      Successfully uninstalled langchain-text-splitters-0.3.7\n",
      "  Attempting uninstall: langchain-openai\n",
      "    Found existing installation: langchain-openai 0.3.12\n",
      "    Uninstalling langchain-openai-0.3.12:\n",
      "      Successfully uninstalled langchain-openai-0.3.12\n",
      "  Attempting uninstall: langchain\n",
      "    Found existing installation: langchain 0.3.22\n",
      "    Uninstalling langchain-0.3.22:\n",
      "      Successfully uninstalled langchain-0.3.22\n",
      "Successfully installed aiosqlite-0.21.0 dataclasses-json-0.6.7 httpx-sse-0.4.0 langchain-0.3.23 langchain-community-0.3.21 langchain-core-0.3.52 langchain-openai-0.3.13 langchain-text-splitters-0.3.8 langgraph-checkpoint-sqlite-2.0.6 marshmallow-3.26.1 tavily-python-0.5.4 typing-inspect-0.9.0\n",
      "Note: you may need to restart the kernel to use updated packages.\n"
     ]
    }
   ],
   "source": [
    "%pip install -U langchain-community langgraph langchain-openai tavily-python langgraph-checkpoint-sqlite"
   ]
  },
  {
   "cell_type": "code",
   "execution_count": 17,
   "id": "f9b41c2a-c287-412b-92f5-5104733528a8",
   "metadata": {},
   "outputs": [
    {
     "name": "stdin",
     "output_type": "stream",
     "text": [
      "Enter your LangSmith API Key:  ········\n",
      "Enter your Tavily API Key:  ········\n"
     ]
    }
   ],
   "source": [
    "import os\n",
    "import getpass\n",
    "\n",
    "# Enable LangSmith tracing\n",
    "os.environ[\"LANGCHAIN_TRACING_V2\"] = \"true\"\n",
    "os.environ[\"LANGCHAIN_API_KEY\"] = getpass.getpass(\"Enter your LangSmith API Key: \")\n",
    "\n",
    "# Set Tavily API key\n",
    "os.environ[\"TAVILY_API_KEY\"] = getpass.getpass(\"Enter your Tavily API Key: \")"
   ]
  },
  {
   "cell_type": "code",
   "execution_count": 19,
   "id": "1e86c9a5-0ccd-42ea-89e9-1d4b7aaa7496",
   "metadata": {},
   "outputs": [
    {
     "name": "stdout",
     "output_type": "stream",
     "text": [
      "[{'title': 'Wednesday, April 16, 2025. San Francisco, CA - Weather Forecast', 'url': 'https://weathershogun.com/weather/usa/ca/san-francisco/480/april/2025-04-16', 'content': 'San Francisco, California Weather: Wednesday, April 16, 2025. Cloudy weather, overcast skies with clouds. Day 66. Night 54.', 'score': 0.933969}, {'title': 'Weather in San Francisco in April 2025 (California)', 'url': 'https://world-weather.info/forecast/usa/san_francisco/april-2025/', 'content': \"Weather in San Francisco in April 2025\\n\\nSan Francisco Weather Forecast for April 2025 is based on long term prognosis and previous years' statistical data.\\n\\nApril\\n\\n+50°\\n\\n+46°\\n\\n+46°\\n\\n+46°\\n\\n+50°\\n\\n+50°\\n\\n+54°\\n\\n+54°\\n\\n+52°\\n\\n+52°\\n\\n+55°\\n\\n+50°\\n\\n+48°\\n\\n+52°\\n\\n+52°\\n\\n+54°\\n\\n+54°\\n\\n+52°\\n\\n+50°\\n\\n+52°\\n\\n+50°\\n\\n+50°\\n\\n+52°\\n\\n+52°\\n\\n+52°\\n\\n+52°\\n\\n+55°\\n\\n+52°\\n\\n+52°\\n\\n+54°\\n\\nExtended weather forecast in San Francisco\\n\\nWeather in large and nearby cities\\n\\nWeather in Washington, D.C.+59°\\n\\nSacramento+66°\\n\\nPleasanton+63° [...] Redwood City+64°\\n\\nSan Leandro+61°\\n\\nSan Mateo+63°\\n\\nSan Rafael+61°\\n\\nSan Ramon+61°\\n\\nSouth San Francisco+61°\\n\\nVallejo+59°\\n\\nPalo Alto+66°\\n\\nPacifica+57°\\n\\nBerkeley+61°\\n\\nCastro Valley+61°\\n\\nConcord+63°\\n\\nDaly City+59°\\n\\nRoblar+57°\\n\\nSchool Tree+63°\", 'score': 0.90692574}]\n"
     ]
    }
   ],
   "source": [
    "from langchain_community.tools.tavily_search import TavilySearchResults\n",
    "# Imports the built-in Tavily search tool from LangChain's community toolset\n",
    "\n",
    "# Create a search tool instance\n",
    "search = TavilySearchResults(max_results=2)\n",
    "# This limits the number of search results returned by Tavily (in this case, 2)\n",
    "\n",
    "# Test it out directly (outside of the agent)\n",
    "search_results = search.invoke(\"what is the weather in SF\")\n",
    "print(search_results)\n",
    "# Should print real-time search results about the weather in San Francisco\n",
    "\n",
    "# Add the search tool to a list — this is what we'll give to the agent later\n",
    "tools = [search]"
   ]
  },
  {
   "cell_type": "code",
   "execution_count": 13,
   "id": "2b5a8ce6-a61a-491e-9eae-87fe24d5d2a2",
   "metadata": {},
   "outputs": [
    {
     "name": "stdout",
     "output_type": "stream",
     "text": [
      "Requirement already satisfied: langchain in /opt/anaconda3/lib/python3.12/site-packages (0.3.23)\n",
      "Requirement already satisfied: langchain-core in /opt/anaconda3/lib/python3.12/site-packages (0.3.52)\n",
      "Requirement already satisfied: langchain-openai in /opt/anaconda3/lib/python3.12/site-packages (0.3.13)\n",
      "Requirement already satisfied: langchain-text-splitters<1.0.0,>=0.3.8 in /opt/anaconda3/lib/python3.12/site-packages (from langchain) (0.3.8)\n",
      "Requirement already satisfied: langsmith<0.4,>=0.1.17 in /opt/anaconda3/lib/python3.12/site-packages (from langchain) (0.2.11)\n",
      "Requirement already satisfied: pydantic<3.0.0,>=2.7.4 in /opt/anaconda3/lib/python3.12/site-packages (from langchain) (2.8.2)\n",
      "Requirement already satisfied: SQLAlchemy<3,>=1.4 in /opt/anaconda3/lib/python3.12/site-packages (from langchain) (2.0.34)\n",
      "Requirement already satisfied: requests<3,>=2 in /opt/anaconda3/lib/python3.12/site-packages (from langchain) (2.32.3)\n",
      "Requirement already satisfied: PyYAML>=5.3 in /opt/anaconda3/lib/python3.12/site-packages (from langchain) (6.0.1)\n",
      "Requirement already satisfied: tenacity!=8.4.0,<10.0.0,>=8.1.0 in /opt/anaconda3/lib/python3.12/site-packages (from langchain-core) (8.2.3)\n",
      "Requirement already satisfied: jsonpatch<2.0,>=1.33 in /opt/anaconda3/lib/python3.12/site-packages (from langchain-core) (1.33)\n",
      "Requirement already satisfied: packaging<25,>=23.2 in /opt/anaconda3/lib/python3.12/site-packages (from langchain-core) (24.1)\n",
      "Requirement already satisfied: typing-extensions>=4.7 in /opt/anaconda3/lib/python3.12/site-packages (from langchain-core) (4.11.0)\n",
      "Requirement already satisfied: openai<2.0.0,>=1.68.2 in /opt/anaconda3/lib/python3.12/site-packages (from langchain-openai) (1.71.0)\n",
      "Requirement already satisfied: tiktoken<1,>=0.7 in /opt/anaconda3/lib/python3.12/site-packages (from langchain-openai) (0.9.0)\n",
      "Requirement already satisfied: jsonpointer>=1.9 in /opt/anaconda3/lib/python3.12/site-packages (from jsonpatch<2.0,>=1.33->langchain-core) (2.1)\n",
      "Requirement already satisfied: httpx<1,>=0.23.0 in /opt/anaconda3/lib/python3.12/site-packages (from langsmith<0.4,>=0.1.17->langchain) (0.27.0)\n",
      "Requirement already satisfied: orjson<4.0.0,>=3.9.14 in /opt/anaconda3/lib/python3.12/site-packages (from langsmith<0.4,>=0.1.17->langchain) (3.10.16)\n",
      "Requirement already satisfied: requests-toolbelt<2.0.0,>=1.0.0 in /opt/anaconda3/lib/python3.12/site-packages (from langsmith<0.4,>=0.1.17->langchain) (1.0.0)\n",
      "Requirement already satisfied: anyio<5,>=3.5.0 in /opt/anaconda3/lib/python3.12/site-packages (from openai<2.0.0,>=1.68.2->langchain-openai) (4.2.0)\n",
      "Requirement already satisfied: distro<2,>=1.7.0 in /opt/anaconda3/lib/python3.12/site-packages (from openai<2.0.0,>=1.68.2->langchain-openai) (1.9.0)\n",
      "Requirement already satisfied: jiter<1,>=0.4.0 in /opt/anaconda3/lib/python3.12/site-packages (from openai<2.0.0,>=1.68.2->langchain-openai) (0.9.0)\n",
      "Requirement already satisfied: sniffio in /opt/anaconda3/lib/python3.12/site-packages (from openai<2.0.0,>=1.68.2->langchain-openai) (1.3.0)\n",
      "Requirement already satisfied: tqdm>4 in /opt/anaconda3/lib/python3.12/site-packages (from openai<2.0.0,>=1.68.2->langchain-openai) (4.66.5)\n",
      "Requirement already satisfied: annotated-types>=0.4.0 in /opt/anaconda3/lib/python3.12/site-packages (from pydantic<3.0.0,>=2.7.4->langchain) (0.6.0)\n",
      "Requirement already satisfied: pydantic-core==2.20.1 in /opt/anaconda3/lib/python3.12/site-packages (from pydantic<3.0.0,>=2.7.4->langchain) (2.20.1)\n",
      "Requirement already satisfied: charset-normalizer<4,>=2 in /opt/anaconda3/lib/python3.12/site-packages (from requests<3,>=2->langchain) (3.3.2)\n",
      "Requirement already satisfied: idna<4,>=2.5 in /opt/anaconda3/lib/python3.12/site-packages (from requests<3,>=2->langchain) (3.7)\n",
      "Requirement already satisfied: urllib3<3,>=1.21.1 in /opt/anaconda3/lib/python3.12/site-packages (from requests<3,>=2->langchain) (2.2.3)\n",
      "Requirement already satisfied: certifi>=2017.4.17 in /opt/anaconda3/lib/python3.12/site-packages (from requests<3,>=2->langchain) (2025.1.31)\n",
      "Requirement already satisfied: regex>=2022.1.18 in /opt/anaconda3/lib/python3.12/site-packages (from tiktoken<1,>=0.7->langchain-openai) (2024.9.11)\n",
      "Requirement already satisfied: httpcore==1.* in /opt/anaconda3/lib/python3.12/site-packages (from httpx<1,>=0.23.0->langsmith<0.4,>=0.1.17->langchain) (1.0.2)\n",
      "Requirement already satisfied: h11<0.15,>=0.13 in /opt/anaconda3/lib/python3.12/site-packages (from httpcore==1.*->httpx<1,>=0.23.0->langsmith<0.4,>=0.1.17->langchain) (0.14.0)\n",
      "Note: you may need to restart the kernel to use updated packages.\n"
     ]
    }
   ],
   "source": [
    "%pip install -U langchain langchain-core langchain-openai"
   ]
  },
  {
   "cell_type": "code",
   "execution_count": 21,
   "id": "a3ef604b-e07d-44e8-bbbe-ab15e7436f86",
   "metadata": {},
   "outputs": [
    {
     "name": "stdin",
     "output_type": "stream",
     "text": [
      "Enter your OpenAI API key:  ········\n"
     ]
    }
   ],
   "source": [
    "# ========================\n",
    "# ✅ Step 1: Set API Key\n",
    "# ========================\n",
    "\n",
    "import os          # Allows setting environment variables\n",
    "import getpass     # Securely collects sensitive input like API keys\n",
    "\n",
    "# Prompt the user to enter their OpenAI API key (input will be hidden)\n",
    "# This key is required to use OpenAI's language models through LangChain\n",
    "os.environ[\"OPENAI_API_KEY\"] = getpass.getpass(\"Enter your OpenAI API key: \")\n",
    "\n",
    "# ========================\n",
    "# ✅ Step 2: Load Language Model\n",
    "# ========================\n",
    "\n",
    "from langchain_openai import ChatOpenAI  # Import LangChain’s wrapper for OpenAI chat models\n",
    "\n",
    "# Initialize the language model\n",
    "# \"gpt-4o-mini\" is a smaller, faster GPT-4 model (good for prototyping and saving cost)\n",
    "model = ChatOpenAI(model=\"gpt-4o-mini\")\n",
    "\n",
    "# ========================\n",
    "# ✅ Ready to Use!\n",
    "# ========================\n",
    "# Now you can use `model.invoke(...)` to:\n",
    "# - Have conversations\n",
    "# - Run logic through agents or workflows\n",
    "# - Stream responses\n",
    "# - Or power tool-using agents in LangGraph"
   ]
  },
  {
   "cell_type": "code",
   "execution_count": 23,
   "id": "1d38f30c-2b56-4a56-970c-870bd90a1d40",
   "metadata": {},
   "outputs": [
    {
     "data": {
      "text/plain": [
       "'Hello! How can I assist you today?'"
      ]
     },
     "execution_count": 23,
     "metadata": {},
     "output_type": "execute_result"
    }
   ],
   "source": [
    "from langchain_core.messages import HumanMessage\n",
    "# HumanMessage is a standardized message format used by LangChain to represent user input\n",
    "\n",
    "# Send a simple greeting to the model\n",
    "response = model.invoke([HumanMessage(content=\"hi!\")])\n",
    "# .invoke() runs the model on the given input and returns a response object\n",
    "\n",
    "# Display just the content of the response (not metadata or other fields)\n",
    "response.content"
   ]
  },
  {
   "cell_type": "code",
   "execution_count": 25,
   "id": "25285789-5b2e-4093-b20e-362fd5cf1cf8",
   "metadata": {},
   "outputs": [],
   "source": [
    "# Bind the available tools to the model using LangChain's `.bind_tools()` method.\n",
    "# This allows the LLM to:\n",
    "# - See the names/descriptions of available tools\n",
    "# - Choose which tool to use (if any) during reasoning\n",
    "# - Automatically call the tool with the right inputs when needed\n",
    "model_with_tools = model.bind_tools(tools)"
   ]
  },
  {
   "cell_type": "code",
   "execution_count": 27,
   "id": "e5d6dcd2-813f-413f-a93f-af68fff64a2c",
   "metadata": {},
   "outputs": [
    {
     "name": "stdout",
     "output_type": "stream",
     "text": [
      "ContentString: Hello! How can I assist you today?\n",
      "ToolCalls: []\n"
     ]
    }
   ],
   "source": [
    "from langchain_core.messages import HumanMessage\n",
    "# Import the HumanMessage class to format the input in a structure the model expects.\n",
    "\n",
    "# Call the model (now bound with tools) using a basic greeting.\n",
    "# This helps test:\n",
    "# - If the model responds normally\n",
    "# - Whether it tries to call any tools (it shouldn't for just \"Hi!\")\n",
    "response = model_with_tools.invoke([\n",
    "    HumanMessage(content=\"Hi!\")\n",
    "])\n",
    "\n",
    "# Display the model's text response.\n",
    "print(f\"ContentString: {response.content}\")     # The assistant's reply to \"Hi!\"\n",
    "\n",
    "# Check if the model attempted to call a tool (it probably won't in this case).\n",
    "print(f\"ToolCalls: {response.tool_calls}\")       # If the model wanted to use a tool, you'd see it listed here"
   ]
  },
  {
   "cell_type": "code",
   "execution_count": 29,
   "id": "51e814d9-980e-4501-a10f-6532b65be6f4",
   "metadata": {},
   "outputs": [
    {
     "data": {
      "text/plain": [
       "[HumanMessage(content='hi!', additional_kwargs={}, response_metadata={}, id='8175d47b-757f-4f24-b6cc-e718f4d26d37'),\n",
       " AIMessage(content='Hello! How can I assist you today?', additional_kwargs={'refusal': None}, response_metadata={'token_usage': {'completion_tokens': 11, 'prompt_tokens': 81, 'total_tokens': 92, 'completion_tokens_details': {'accepted_prediction_tokens': 0, 'audio_tokens': 0, 'reasoning_tokens': 0, 'rejected_prediction_tokens': 0}, 'prompt_tokens_details': {'audio_tokens': 0, 'cached_tokens': 0}}, 'model_name': 'gpt-4o-mini-2024-07-18', 'system_fingerprint': 'fp_44added55e', 'id': 'chatcmpl-BN3qWvo4Psxcabwm7oXUp5yyfjoz7', 'finish_reason': 'stop', 'logprobs': None}, id='run-59b856d5-51bd-4727-b8b1-dc6dafbc7856-0', usage_metadata={'input_tokens': 81, 'output_tokens': 11, 'total_tokens': 92, 'input_token_details': {'audio': 0, 'cache_read': 0}, 'output_token_details': {'audio': 0, 'reasoning': 0}})]"
      ]
     },
     "execution_count": 29,
     "metadata": {},
     "output_type": "execute_result"
    }
   ],
   "source": [
    "#Import the prebuilt ReAct agent constructor from LangGraph\n",
    "from langgraph.prebuilt import create_react_agent\n",
    "\n",
    "#Create the agent executor by combining:\n",
    "# - Your base LLM (`model`, NOT `model_with_tools`)\n",
    "# - Your list of tools (in this case, just TavilySearchResults)\n",
    "# `create_react_agent` automatically binds tools and handles reasoning logic\n",
    "agent_executor = create_react_agent(model, tools)\n",
    "\n",
    "#Now let's test the agent with a simple input that does NOT require tool use\n",
    "#This allows us to verify that the base reasoning works without triggering tool calls\n",
    "response = agent_executor.invoke({\n",
    "    \"messages\": [HumanMessage(content=\"hi!\")]\n",
    "})\n",
    "\n",
    "#`response[\"messages\"]` will return the full message history including the AI's reply\n",
    "response[\"messages\"]"
   ]
  },
  {
   "cell_type": "code",
   "execution_count": 33,
   "id": "22d7bdd2-28f6-466d-bfa6-c6ef1271b41c",
   "metadata": {},
   "outputs": [
    {
     "data": {
      "text/plain": [
       "[HumanMessage(content='whats the weather in Minneapolis?', additional_kwargs={}, response_metadata={}, id='86b119c7-685e-4e48-813c-b55f859491ea'),\n",
       " AIMessage(content='', additional_kwargs={'tool_calls': [{'id': 'call_GG7MOTsVWZB12E0exNRpX9Ck', 'function': {'arguments': '{\"query\":\"current weather in Minneapolis\"}', 'name': 'tavily_search_results_json'}, 'type': 'function'}], 'refusal': None}, response_metadata={'token_usage': {'completion_tokens': 22, 'prompt_tokens': 86, 'total_tokens': 108, 'completion_tokens_details': {'accepted_prediction_tokens': 0, 'audio_tokens': 0, 'reasoning_tokens': 0, 'rejected_prediction_tokens': 0}, 'prompt_tokens_details': {'audio_tokens': 0, 'cached_tokens': 0}}, 'model_name': 'gpt-4o-mini-2024-07-18', 'system_fingerprint': 'fp_44added55e', 'id': 'chatcmpl-BN3uOF6guYbuJPfhemS0KGWA5EUjp', 'finish_reason': 'tool_calls', 'logprobs': None}, id='run-ff231abc-c6bd-499b-aac5-dd9e60b8b87f-0', tool_calls=[{'name': 'tavily_search_results_json', 'args': {'query': 'current weather in Minneapolis'}, 'id': 'call_GG7MOTsVWZB12E0exNRpX9Ck', 'type': 'tool_call'}], usage_metadata={'input_tokens': 86, 'output_tokens': 22, 'total_tokens': 108, 'input_token_details': {'audio': 0, 'cache_read': 0}, 'output_token_details': {'audio': 0, 'reasoning': 0}}),\n",
       " ToolMessage(content='[{\"title\": \"Weather in Minneapolis\", \"url\": \"https://www.weatherapi.com/\", \"content\": \"{\\'location\\': {\\'name\\': \\'Minneapolis\\', \\'region\\': \\'Minnesota\\', \\'country\\': \\'United States of America\\', \\'lat\\': 44.98, \\'lon\\': -93.2636, \\'tz_id\\': \\'America/Chicago\\', \\'localtime_epoch\\': 1744836265, \\'localtime\\': \\'2025-04-16 15:44\\'}, \\'current\\': {\\'last_updated_epoch\\': 1744835400, \\'last_updated\\': \\'2025-04-16 15:30\\', \\'temp_c\\': 14.4, \\'temp_f\\': 57.9, \\'is_day\\': 1, \\'condition\\': {\\'text\\': \\'Partly cloudy\\', \\'icon\\': \\'//cdn.weatherapi.com/weather/64x64/day/116.png\\', \\'code\\': 1003}, \\'wind_mph\\': 11.2, \\'wind_kph\\': 18.0, \\'wind_degree\\': 141, \\'wind_dir\\': \\'SE\\', \\'pressure_mb\\': 1014.0, \\'pressure_in\\': 29.93, \\'precip_mm\\': 0.0, \\'precip_in\\': 0.0, \\'humidity\\': 30, \\'cloud\\': 75, \\'feelslike_c\\': 13.1, \\'feelslike_f\\': 55.5, \\'windchill_c\\': 9.2, \\'windchill_f\\': 48.6, \\'heatindex_c\\': 11.6, \\'heatindex_f\\': 52.9, \\'dewpoint_c\\': -0.1, \\'dewpoint_f\\': 31.8, \\'vis_km\\': 16.0, \\'vis_miles\\': 9.0, \\'uv\\': 4.3, \\'gust_mph\\': 12.9, \\'gust_kph\\': 20.7}}\", \"score\": 0.9808345}, {\"title\": \"Wednesday, April 16, 2025. Minneapolis, MN - Weather Forecast\", \"url\": \"https://weathershogun.com/weather/usa/mn/minneapolis/2358/april/2025-04-16\", \"content\": \"Minneapolis, Minnesota Weather: Wednesday, April 16, 2025. Cloudy weather, overcast skies with clouds. Day 64. Night 43. Precipitation 2 %.\", \"score\": 0.9379027}]', name='tavily_search_results_json', id='a9afc58f-110e-4f11-b341-4dc759db48d7', tool_call_id='call_GG7MOTsVWZB12E0exNRpX9Ck', artifact={'query': 'current weather in Minneapolis', 'follow_up_questions': None, 'answer': None, 'images': [], 'results': [{'title': 'Weather in Minneapolis', 'url': 'https://www.weatherapi.com/', 'content': \"{'location': {'name': 'Minneapolis', 'region': 'Minnesota', 'country': 'United States of America', 'lat': 44.98, 'lon': -93.2636, 'tz_id': 'America/Chicago', 'localtime_epoch': 1744836265, 'localtime': '2025-04-16 15:44'}, 'current': {'last_updated_epoch': 1744835400, 'last_updated': '2025-04-16 15:30', 'temp_c': 14.4, 'temp_f': 57.9, 'is_day': 1, 'condition': {'text': 'Partly cloudy', 'icon': '//cdn.weatherapi.com/weather/64x64/day/116.png', 'code': 1003}, 'wind_mph': 11.2, 'wind_kph': 18.0, 'wind_degree': 141, 'wind_dir': 'SE', 'pressure_mb': 1014.0, 'pressure_in': 29.93, 'precip_mm': 0.0, 'precip_in': 0.0, 'humidity': 30, 'cloud': 75, 'feelslike_c': 13.1, 'feelslike_f': 55.5, 'windchill_c': 9.2, 'windchill_f': 48.6, 'heatindex_c': 11.6, 'heatindex_f': 52.9, 'dewpoint_c': -0.1, 'dewpoint_f': 31.8, 'vis_km': 16.0, 'vis_miles': 9.0, 'uv': 4.3, 'gust_mph': 12.9, 'gust_kph': 20.7}}\", 'score': 0.9808345, 'raw_content': None}, {'url': 'https://weathershogun.com/weather/usa/mn/minneapolis/2358/april/2025-04-16', 'title': 'Wednesday, April 16, 2025. Minneapolis, MN - Weather Forecast', 'content': 'Minneapolis, Minnesota Weather: Wednesday, April 16, 2025. Cloudy weather, overcast skies with clouds. Day 64. Night 43. Precipitation 2 %.', 'score': 0.9379027, 'raw_content': None}], 'response_time': 3.67}),\n",
       " AIMessage(content='The current weather in Minneapolis is as follows:\\n\\n- **Temperature**: 14.4°C (57.9°F)\\n- **Condition**: Partly cloudy\\n- **Humidity**: 30%\\n- **Wind**: 11.2 mph (18.0 kph) from the Southeast\\n- **Pressure**: 1014 mb (29.93 in)\\n- **Visibility**: 16 km (9 miles)\\n\\nYou can find more details at the following links: [Weather API](https://www.weatherapi.com/) and [Weather Shogun](https://weathershogun.com/weather/usa/mn/minneapolis/2358/april/2025-04-16).', additional_kwargs={'refusal': None}, response_metadata={'token_usage': {'completion_tokens': 147, 'prompt_tokens': 648, 'total_tokens': 795, 'completion_tokens_details': {'accepted_prediction_tokens': 0, 'audio_tokens': 0, 'reasoning_tokens': 0, 'rejected_prediction_tokens': 0}, 'prompt_tokens_details': {'audio_tokens': 0, 'cached_tokens': 0}}, 'model_name': 'gpt-4o-mini-2024-07-18', 'system_fingerprint': 'fp_44added55e', 'id': 'chatcmpl-BN3uS8xRIctRsXHnsP6XiqtmfQqYk', 'finish_reason': 'stop', 'logprobs': None}, id='run-72a27296-e749-4e6a-81c6-f551e496d20b-0', usage_metadata={'input_tokens': 648, 'output_tokens': 147, 'total_tokens': 795, 'input_token_details': {'audio': 0, 'cache_read': 0}, 'output_token_details': {'audio': 0, 'reasoning': 0}})]"
      ]
     },
     "execution_count": 33,
     "metadata": {},
     "output_type": "execute_result"
    }
   ],
   "source": [
    "# Test the agent with a query that SHOULD trigger tool use (Tavily search)\n",
    "# This message asks for external information — weather in Minneapolis — which the LLM doesn’t know natively.\n",
    "\n",
    "response = agent_executor.invoke({\n",
    "    \"messages\": [HumanMessage(content=\"whats the weather in Minneapolis?\")]\n",
    "})\n",
    "\n",
    "# This returns the full message history, including:\n",
    "# - the user's message\n",
    "# - the agent's thoughts/actions\n",
    "# - the final answer (after tool use)\n",
    "response[\"messages\"]"
   ]
  },
  {
   "cell_type": "code",
   "execution_count": 35,
   "id": "b48edb41-550a-489d-9f1d-d05fdfd1ca6f",
   "metadata": {},
   "outputs": [
    {
     "name": "stdout",
     "output_type": "stream",
     "text": [
      "{'agent': {'messages': [AIMessage(content='', additional_kwargs={'tool_calls': [{'id': 'call_RXmXkHBLX1eJAeL8SopO1382', 'function': {'arguments': '{\"query\":\"current weather in Minneapolis\"}', 'name': 'tavily_search_results_json'}, 'type': 'function'}], 'refusal': None}, response_metadata={'token_usage': {'completion_tokens': 22, 'prompt_tokens': 86, 'total_tokens': 108, 'completion_tokens_details': {'accepted_prediction_tokens': 0, 'audio_tokens': 0, 'reasoning_tokens': 0, 'rejected_prediction_tokens': 0}, 'prompt_tokens_details': {'audio_tokens': 0, 'cached_tokens': 0}}, 'model_name': 'gpt-4o-mini-2024-07-18', 'system_fingerprint': 'fp_44added55e', 'id': 'chatcmpl-BN3wIbqp8alh0CU0Fc91tWRgEi0wt', 'finish_reason': 'tool_calls', 'logprobs': None}, id='run-1911f39f-9e18-4b19-be8e-69ff3acb0191-0', tool_calls=[{'name': 'tavily_search_results_json', 'args': {'query': 'current weather in Minneapolis'}, 'id': 'call_RXmXkHBLX1eJAeL8SopO1382', 'type': 'tool_call'}], usage_metadata={'input_tokens': 86, 'output_tokens': 22, 'total_tokens': 108, 'input_token_details': {'audio': 0, 'cache_read': 0}, 'output_token_details': {'audio': 0, 'reasoning': 0}})]}}\n",
      "----\n",
      "{'tools': {'messages': [ToolMessage(content='[{\"title\": \"Weather in Minneapolis\", \"url\": \"https://www.weatherapi.com/\", \"content\": \"{\\'location\\': {\\'name\\': \\'Minneapolis\\', \\'region\\': \\'Minnesota\\', \\'country\\': \\'United States of America\\', \\'lat\\': 44.98, \\'lon\\': -93.2636, \\'tz_id\\': \\'America/Chicago\\', \\'localtime_epoch\\': 1744836265, \\'localtime\\': \\'2025-04-16 15:44\\'}, \\'current\\': {\\'last_updated_epoch\\': 1744835400, \\'last_updated\\': \\'2025-04-16 15:30\\', \\'temp_c\\': 14.4, \\'temp_f\\': 57.9, \\'is_day\\': 1, \\'condition\\': {\\'text\\': \\'Partly cloudy\\', \\'icon\\': \\'//cdn.weatherapi.com/weather/64x64/day/116.png\\', \\'code\\': 1003}, \\'wind_mph\\': 11.2, \\'wind_kph\\': 18.0, \\'wind_degree\\': 141, \\'wind_dir\\': \\'SE\\', \\'pressure_mb\\': 1014.0, \\'pressure_in\\': 29.93, \\'precip_mm\\': 0.0, \\'precip_in\\': 0.0, \\'humidity\\': 30, \\'cloud\\': 75, \\'feelslike_c\\': 13.1, \\'feelslike_f\\': 55.5, \\'windchill_c\\': 9.2, \\'windchill_f\\': 48.6, \\'heatindex_c\\': 11.6, \\'heatindex_f\\': 52.9, \\'dewpoint_c\\': -0.1, \\'dewpoint_f\\': 31.8, \\'vis_km\\': 16.0, \\'vis_miles\\': 9.0, \\'uv\\': 4.3, \\'gust_mph\\': 12.9, \\'gust_kph\\': 20.7}}\", \"score\": 0.9808345}, {\"title\": \"Wednesday, April 16, 2025. Minneapolis, MN - Weather Forecast\", \"url\": \"https://weathershogun.com/weather/usa/mn/minneapolis/2358/april/2025-04-16\", \"content\": \"Minneapolis, Minnesota Weather: Wednesday, April 16, 2025. Cloudy weather, overcast skies with clouds. Day 64. Night 43. Precipitation 2 %.\", \"score\": 0.9379027}]', name='tavily_search_results_json', id='92e0f741-32f2-4453-a2dd-fd0db26be657', tool_call_id='call_RXmXkHBLX1eJAeL8SopO1382', artifact={'query': 'current weather in Minneapolis', 'follow_up_questions': None, 'answer': None, 'images': [], 'results': [{'title': 'Weather in Minneapolis', 'url': 'https://www.weatherapi.com/', 'content': \"{'location': {'name': 'Minneapolis', 'region': 'Minnesota', 'country': 'United States of America', 'lat': 44.98, 'lon': -93.2636, 'tz_id': 'America/Chicago', 'localtime_epoch': 1744836265, 'localtime': '2025-04-16 15:44'}, 'current': {'last_updated_epoch': 1744835400, 'last_updated': '2025-04-16 15:30', 'temp_c': 14.4, 'temp_f': 57.9, 'is_day': 1, 'condition': {'text': 'Partly cloudy', 'icon': '//cdn.weatherapi.com/weather/64x64/day/116.png', 'code': 1003}, 'wind_mph': 11.2, 'wind_kph': 18.0, 'wind_degree': 141, 'wind_dir': 'SE', 'pressure_mb': 1014.0, 'pressure_in': 29.93, 'precip_mm': 0.0, 'precip_in': 0.0, 'humidity': 30, 'cloud': 75, 'feelslike_c': 13.1, 'feelslike_f': 55.5, 'windchill_c': 9.2, 'windchill_f': 48.6, 'heatindex_c': 11.6, 'heatindex_f': 52.9, 'dewpoint_c': -0.1, 'dewpoint_f': 31.8, 'vis_km': 16.0, 'vis_miles': 9.0, 'uv': 4.3, 'gust_mph': 12.9, 'gust_kph': 20.7}}\", 'score': 0.9808345, 'raw_content': None}, {'url': 'https://weathershogun.com/weather/usa/mn/minneapolis/2358/april/2025-04-16', 'title': 'Wednesday, April 16, 2025. Minneapolis, MN - Weather Forecast', 'content': 'Minneapolis, Minnesota Weather: Wednesday, April 16, 2025. Cloudy weather, overcast skies with clouds. Day 64. Night 43. Precipitation 2 %.', 'score': 0.9379027, 'raw_content': None}], 'response_time': 1.5})]}}\n",
      "----\n",
      "{'agent': {'messages': [AIMessage(content='The current weather in Minneapolis is as follows:\\n\\n- **Temperature:** 14.4°C (57.9°F)\\n- **Condition:** Partly cloudy\\n- **Wind Speed:** 11.2 mph (18.0 kph) from the southeast\\n- **Humidity:** 30%\\n- **Pressure:** 1014 mb (29.93 in)\\n- **Visibility:** 16 km (9 miles)\\n- **Feels Like:** 13.1°C (55.5°F)\\n\\nYou can find more details [here](https://www.weatherapi.com/) or check another source [here](https://weathershogun.com/weather/usa/mn/minneapolis/2358/april/2025-04-16).', additional_kwargs={'refusal': None}, response_metadata={'token_usage': {'completion_tokens': 152, 'prompt_tokens': 648, 'total_tokens': 800, 'completion_tokens_details': {'accepted_prediction_tokens': 0, 'audio_tokens': 0, 'reasoning_tokens': 0, 'rejected_prediction_tokens': 0}, 'prompt_tokens_details': {'audio_tokens': 0, 'cached_tokens': 0}}, 'model_name': 'gpt-4o-mini-2024-07-18', 'system_fingerprint': 'fp_44added55e', 'id': 'chatcmpl-BN3wL8LmvhobZglwZAXJBilVPdSuW', 'finish_reason': 'stop', 'logprobs': None}, id='run-9ad2557b-d48c-4144-aee6-3328a3c4c521-0', usage_metadata={'input_tokens': 648, 'output_tokens': 152, 'total_tokens': 800, 'input_token_details': {'audio': 0, 'cache_read': 0}, 'output_token_details': {'audio': 0, 'reasoning': 0}})]}}\n",
      "----\n"
     ]
    }
   ],
   "source": [
    "from langchain_core.messages import HumanMessage\n",
    "\n",
    "# Stream the agent's reasoning and tool use in real time\n",
    "for chunk in agent_executor.stream(\n",
    "    {\"messages\": [HumanMessage(content=\"whats the weather in Minneapolis?\")]}\n",
    "):\n",
    "    print(chunk)  # Print each intermediate message (Thought, Action, Observation, Final Answer)\n",
    "    print(\"----\")  # Separator for clarity"
   ]
  },
  {
   "cell_type": "code",
   "execution_count": 39,
   "id": "a0d1b646-640a-4702-be93-e2f099e9c4e7",
   "metadata": {},
   "outputs": [
    {
     "name": "stdout",
     "output_type": "stream",
     "text": [
      "\n",
      " Starting tool:\n",
      "   Name: tavily_search_results_json\n",
      "   Input: {'query': 'current weather in Minneapolis'}\n",
      "\n",
      " Done with tool: tavily_search_results_json\n",
      "   Output: content='[{\"title\": \"Weather in Minneapolis\", \"url\": \"https://www.weatherapi.com/\", \"content\": \"{\\'location\\': {\\'name\\': \\'Minneapolis\\', \\'region\\': \\'Minnesota\\', \\'country\\': \\'United States of America\\', \\'lat\\': 44.98, \\'lon\\': -93.2636, \\'tz_id\\': \\'America/Chicago\\', \\'localtime_epoch\\': 1744836265, \\'localtime\\': \\'2025-04-16 15:44\\'}, \\'current\\': {\\'last_updated_epoch\\': 1744835400, \\'last_updated\\': \\'2025-04-16 15:30\\', \\'temp_c\\': 14.4, \\'temp_f\\': 57.9, \\'is_day\\': 1, \\'condition\\': {\\'text\\': \\'Partly cloudy\\', \\'icon\\': \\'//cdn.weatherapi.com/weather/64x64/day/116.png\\', \\'code\\': 1003}, \\'wind_mph\\': 11.2, \\'wind_kph\\': 18.0, \\'wind_degree\\': 141, \\'wind_dir\\': \\'SE\\', \\'pressure_mb\\': 1014.0, \\'pressure_in\\': 29.93, \\'precip_mm\\': 0.0, \\'precip_in\\': 0.0, \\'humidity\\': 30, \\'cloud\\': 75, \\'feelslike_c\\': 13.1, \\'feelslike_f\\': 55.5, \\'windchill_c\\': 9.2, \\'windchill_f\\': 48.6, \\'heatindex_c\\': 11.6, \\'heatindex_f\\': 52.9, \\'dewpoint_c\\': -0.1, \\'dewpoint_f\\': 31.8, \\'vis_km\\': 16.0, \\'vis_miles\\': 9.0, \\'uv\\': 4.3, \\'gust_mph\\': 12.9, \\'gust_kph\\': 20.7}}\", \"score\": 0.9808345}, {\"title\": \"Wednesday, April 16, 2025. Minneapolis, MN - Weather Forecast\", \"url\": \"https://weathershogun.com/weather/usa/mn/minneapolis/2358/april/2025-04-16\", \"content\": \"Minneapolis, Minnesota Weather: Wednesday, April 16, 2025. Cloudy weather, overcast skies with clouds. Day 64. Night 43. Precipitation 2 %.\", \"score\": 0.9379027}]' name='tavily_search_results_json' tool_call_id='call_ySs7BD6GjVhQndsgR9ZnLwwq' artifact={'query': 'current weather in Minneapolis', 'follow_up_questions': None, 'answer': None, 'images': [], 'results': [{'title': 'Weather in Minneapolis', 'url': 'https://www.weatherapi.com/', 'content': \"{'location': {'name': 'Minneapolis', 'region': 'Minnesota', 'country': 'United States of America', 'lat': 44.98, 'lon': -93.2636, 'tz_id': 'America/Chicago', 'localtime_epoch': 1744836265, 'localtime': '2025-04-16 15:44'}, 'current': {'last_updated_epoch': 1744835400, 'last_updated': '2025-04-16 15:30', 'temp_c': 14.4, 'temp_f': 57.9, 'is_day': 1, 'condition': {'text': 'Partly cloudy', 'icon': '//cdn.weatherapi.com/weather/64x64/day/116.png', 'code': 1003}, 'wind_mph': 11.2, 'wind_kph': 18.0, 'wind_degree': 141, 'wind_dir': 'SE', 'pressure_mb': 1014.0, 'pressure_in': 29.93, 'precip_mm': 0.0, 'precip_in': 0.0, 'humidity': 30, 'cloud': 75, 'feelslike_c': 13.1, 'feelslike_f': 55.5, 'windchill_c': 9.2, 'windchill_f': 48.6, 'heatindex_c': 11.6, 'heatindex_f': 52.9, 'dewpoint_c': -0.1, 'dewpoint_f': 31.8, 'vis_km': 16.0, 'vis_miles': 9.0, 'uv': 4.3, 'gust_mph': 12.9, 'gust_kph': 20.7}}\", 'score': 0.9808345, 'raw_content': None}, {'url': 'https://weathershogun.com/weather/usa/mn/minneapolis/2358/april/2025-04-16', 'title': 'Wednesday, April 16, 2025. Minneapolis, MN - Weather Forecast', 'content': 'Minneapolis, Minnesota Weather: Wednesday, April 16, 2025. Cloudy weather, overcast skies with clouds. Day 64. Night 43. Precipitation 2 %.', 'score': 0.9379027, 'raw_content': None}], 'response_time': 0.53}\n",
      "\n",
      "The| current| weather| in| Minneapolis|,| Minnesota| is| as| follows|:\n",
      "\n",
      "|-| **|Temperature|:**| |14|.|4|°C| (|57|.|9|°F|)\n",
      "|-| **|Condition|:**| Part|ly| cloudy|\n",
      "|-| **|Wind|:**| |11|.|2| mph| (|18|.|0| k|ph|)| from| the| southeast|\n",
      "|-| **|Humidity|:**| |30|%\n",
      "|-| **|Visibility|:**| |16| km| (|9| miles|)\n",
      "|-| **|Pressure|:**| |101|4| mb| (|29|.|93| in|)\n",
      "|-| **|Feels| Like|:**| |13|.|1|°C| (|55|.|5|°F|)\n",
      "\n",
      "|For| more| details|,| you| can| check| additional| sources|:\n",
      "|1|.| [|Weather| API|](|https|://|www|.weather|api|.com|/)\n",
      "|2|.| [|Weather| Sh|og|un|](|https|://|we|athers|hog|un|.com|/weather|/|usa|/m|n|/min|neapolis|/|235|8|/ap|ril|/|202|5|-|04|-|16|)|"
     ]
    }
   ],
   "source": [
    "import asyncio\n",
    "from langchain_core.messages import HumanMessage\n",
    "\n",
    "# This function will run the event stream asynchronously\n",
    "async def stream_agent_events():\n",
    "    # Start streaming events from the agent\n",
    "    async for event in agent_executor.astream_events(\n",
    "        {\"messages\": [HumanMessage(content=\"whats the weather in Minneapolis?\")]},\n",
    "        version=\"v1\",  # Version of the stream format\n",
    "    ):\n",
    "        kind = event[\"event\"]  # Event type (e.g. on_tool_start, on_chain_end)\n",
    "\n",
    "        if kind == \"on_chain_start\":\n",
    "            if event[\"name\"] == \"Agent\":\n",
    "                print(f\"\\n Starting agent: {event['name']}\")\n",
    "                print(f\"   Input: {event['data'].get('input')}\\n\")\n",
    "\n",
    "        elif kind == \"on_chat_model_stream\":\n",
    "            # Print each token as it is generated (like real-time typing)\n",
    "            content = event[\"data\"][\"chunk\"].content\n",
    "            if content:\n",
    "                print(content, end=\"|\")  # Add a pipe to simulate streaming\n",
    "\n",
    "        elif kind == \"on_tool_start\":\n",
    "            print(\"\\n Starting tool:\")\n",
    "            print(f\"   Name: {event['name']}\")\n",
    "            print(f\"   Input: {event['data'].get('input')}\\n\")\n",
    "\n",
    "        elif kind == \"on_tool_end\":\n",
    "            print(f\" Done with tool: {event['name']}\")\n",
    "            print(f\"   Output: {event['data'].get('output')}\\n\")\n",
    "\n",
    "        elif kind == \"on_chain_end\":\n",
    "            if event[\"name\"] == \"Agent\":\n",
    "                print(\"\\n Agent finished.\")\n",
    "                print(f\"   Output: {event['data'].get('output')['output']}\")\n",
    "                print(\"--\")\n",
    "\n",
    "# Call the function if you're in a notebook or script\n",
    "await stream_agent_events()"
   ]
  },
  {
   "cell_type": "code",
   "execution_count": 43,
   "id": "5b5f80a4-4651-421a-9698-ed16bac186c5",
   "metadata": {},
   "outputs": [
    {
     "name": "stdout",
     "output_type": "stream",
     "text": [
      "{'agent': {'messages': [AIMessage(content='Hello Dan! How can I assist you today?', additional_kwargs={'refusal': None}, response_metadata={'token_usage': {'completion_tokens': 12, 'prompt_tokens': 83, 'total_tokens': 95, 'completion_tokens_details': {'accepted_prediction_tokens': 0, 'audio_tokens': 0, 'reasoning_tokens': 0, 'rejected_prediction_tokens': 0}, 'prompt_tokens_details': {'audio_tokens': 0, 'cached_tokens': 0}}, 'model_name': 'gpt-4o-mini-2024-07-18', 'system_fingerprint': 'fp_44added55e', 'id': 'chatcmpl-BN43UEPd1FOJGjnjHsfyJfgpopPP7', 'finish_reason': 'stop', 'logprobs': None}, id='run-84a82c58-002c-451e-82dc-c0d6134f4d24-0', usage_metadata={'input_tokens': 83, 'output_tokens': 12, 'total_tokens': 95, 'input_token_details': {'audio': 0, 'cache_read': 0}, 'output_token_details': {'audio': 0, 'reasoning': 0}})]}}\n",
      "----\n"
     ]
    }
   ],
   "source": [
    "# Step 1: Import and initialize in-memory checkpointer\n",
    "from langgraph.checkpoint.memory import MemorySaver\n",
    "\n",
    "memory = MemorySaver()\n",
    "# This saves the chat history in memory (RAM).\n",
    "# Great for testing multi-turn conversations or user-specific threads.\n",
    "\n",
    "# Step 2: Re-create the agent, this time with memory enabled\n",
    "agent_executor = create_react_agent(\n",
    "    model,       # Your language model (e.g., GPT-4o-mini)\n",
    "    tools,       # List of tools the agent can use (e.g., Tavily search)\n",
    "    checkpointer=memory  # Enables memory with in-RAM persistence\n",
    ")\n",
    "\n",
    "# Step 3: Define a conversation thread ID\n",
    "config = {\"configurable\": {\"thread_id\": \"abc123\"}}\n",
    "# This keeps your conversation scoped — memory is tied to this ID.\n",
    "\n",
    "# Step 4: Start a new conversation\n",
    "for chunk in agent_executor.stream(\n",
    "    {\"messages\": [HumanMessage(content=\"hi im Dan!\")]},  # First user message\n",
    "    config  # Scoped memory config\n",
    "):\n",
    "    print(chunk)\n",
    "    print(\"----\")"
   ]
  },
  {
   "cell_type": "code",
   "execution_count": 47,
   "id": "6d239316-6540-4482-ac7d-1a422b3760ae",
   "metadata": {},
   "outputs": [
    {
     "name": "stdout",
     "output_type": "stream",
     "text": [
      "{'agent': {'messages': [AIMessage(content='Your name is still Dan! How can I help you today?', additional_kwargs={'refusal': None}, response_metadata={'token_usage': {'completion_tokens': 15, 'prompt_tokens': 124, 'total_tokens': 139, 'completion_tokens_details': {'accepted_prediction_tokens': 0, 'audio_tokens': 0, 'reasoning_tokens': 0, 'rejected_prediction_tokens': 0}, 'prompt_tokens_details': {'audio_tokens': 0, 'cached_tokens': 0}}, 'model_name': 'gpt-4o-mini-2024-07-18', 'system_fingerprint': 'fp_44added55e', 'id': 'chatcmpl-BN45gMk6XtHw14QO5fgePIJIp44H5', 'finish_reason': 'stop', 'logprobs': None}, id='run-ff75e1b8-0f4f-422e-ac1e-5279f4b5dbb4-0', usage_metadata={'input_tokens': 124, 'output_tokens': 15, 'total_tokens': 139, 'input_token_details': {'audio': 0, 'cache_read': 0}, 'output_token_details': {'audio': 0, 'reasoning': 0}})]}}\n",
      "----\n"
     ]
    }
   ],
   "source": [
    "# Stream the agent's response to a follow-up message\n",
    "# This message asks the assistant to recall the user's name\n",
    "# Because we're using the same `thread_id` in `config`, memory is preserved\n",
    "\n",
    "for chunk in agent_executor.stream(\n",
    "    {\"messages\": [HumanMessage(content=\"whats my name?\")]},  # The follow-up prompt\n",
    "    config,  # Same thread_id as before, so memory of \"hi im Dan!\" is accessible\n",
    "):\n",
    "    # Streamed output will include intermediate reasoning steps and final answer\n",
    "    print(chunk)\n",
    "    print(\"----\")"
   ]
  },
  {
   "cell_type": "code",
   "execution_count": 49,
   "id": "42f197ba-d391-467a-b926-7524a949c682",
   "metadata": {},
   "outputs": [
    {
     "name": "stdout",
     "output_type": "stream",
     "text": [
      "{'agent': {'messages': [AIMessage(content='I don’t have access to personal information unless you provide it to me. Can you please tell me your name?', additional_kwargs={'refusal': None}, response_metadata={'token_usage': {'completion_tokens': 25, 'prompt_tokens': 84, 'total_tokens': 109, 'completion_tokens_details': {'accepted_prediction_tokens': 0, 'audio_tokens': 0, 'reasoning_tokens': 0, 'rejected_prediction_tokens': 0}, 'prompt_tokens_details': {'audio_tokens': 0, 'cached_tokens': 0}}, 'model_name': 'gpt-4o-mini-2024-07-18', 'system_fingerprint': 'fp_44added55e', 'id': 'chatcmpl-BN45rI4gzIcNUVKSoO47zOpggVEWI', 'finish_reason': 'stop', 'logprobs': None}, id='run-15626dce-bff6-4f2b-b393-6503ce29da0e-0', usage_metadata={'input_tokens': 84, 'output_tokens': 25, 'total_tokens': 109, 'input_token_details': {'audio': 0, 'cache_read': 0}, 'output_token_details': {'audio': 0, 'reasoning': 0}})]}}\n",
      "----\n"
     ]
    }
   ],
   "source": [
    "#  Start a brand new conversation by changing the thread_id\n",
    "# This simulates a fresh session where the assistant does not remember previous messages\n",
    "\n",
    "config = {\"configurable\": {\"thread_id\": \"xyz123\"}}  # New conversation thread\n",
    "\n",
    "# Ask the same question as before, but without prior context\n",
    "for chunk in agent_executor.stream(\n",
    "    {\"messages\": [HumanMessage(content=\"whats my name?\")]},  # No name has been given in this thread\n",
    "    config,\n",
    "):\n",
    "    print(chunk)  # Should respond with something like \"I'm not sure\" or \"You haven't told me your name yet\"\n",
    "    print(\"----\")"
   ]
  },
  {
   "cell_type": "code",
   "execution_count": null,
   "id": "d4c6a170-e70d-4416-9b1c-613b1f726968",
   "metadata": {},
   "outputs": [],
   "source": []
  }
 ],
 "metadata": {
  "kernelspec": {
   "display_name": "Python [conda env:base] *",
   "language": "python",
   "name": "conda-base-py"
  },
  "language_info": {
   "codemirror_mode": {
    "name": "ipython",
    "version": 3
   },
   "file_extension": ".py",
   "mimetype": "text/x-python",
   "name": "python",
   "nbconvert_exporter": "python",
   "pygments_lexer": "ipython3",
   "version": "3.12.2"
  }
 },
 "nbformat": 4,
 "nbformat_minor": 5
}
