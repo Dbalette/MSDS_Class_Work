{
 "cells": [
  {
   "cell_type": "code",
   "execution_count": 1,
   "id": "8834527d-27c8-4cea-ba21-49f5d4f85bd8",
   "metadata": {},
   "outputs": [
    {
     "name": "stdin",
     "output_type": "stream",
     "text": [
      "Enter your OpenAI API key:  ········\n",
      "Enter your LangSmith API key (or press Enter to skip):  ········\n",
      "Enter your Tavily API key (or press Enter to skip):  ········\n"
     ]
    }
   ],
   "source": [
    "# --- Secure API Key Setup ---\n",
    "import os\n",
    "import getpass\n",
    "\n",
    "# Required: OpenAI API Key\n",
    "os.environ[\"OPENAI_API_KEY\"] = getpass.getpass(\"Enter your OpenAI API key: \")\n",
    "\n",
    "# Optional: Enable LangChain tracing via LangSmith (for debugging / observability)\n",
    "os.environ[\"LANGCHAIN_TRACING_V2\"] = \"true\"\n",
    "os.environ[\"LANGCHAIN_API_KEY\"] = getpass.getpass(\"Enter your LangSmith API key (or press Enter to skip): \")\n",
    "\n",
    "# Optional: Tavily key (useful if you decide to do web search augmentation later)\n",
    "os.environ[\"TAVILY_API_KEY\"] = getpass.getpass(\"Enter your Tavily API key (or press Enter to skip): \")"
   ]
  },
  {
   "cell_type": "code",
   "execution_count": 3,
   "id": "e8ab5ab6-018d-42e9-884d-01a2c9355f5a",
   "metadata": {},
   "outputs": [],
   "source": [
    "from langchain_openai import ChatOpenAI\n",
    "\n",
    "# Initialize the chat model for response generation\n",
    "llm = ChatOpenAI(model=\"gpt-4o-mini\")"
   ]
  },
  {
   "cell_type": "code",
   "execution_count": 5,
   "id": "8ae9277a-ac1f-49a2-b088-778debafb901",
   "metadata": {},
   "outputs": [],
   "source": [
    "from langchain_openai import OpenAIEmbeddings\n",
    "\n",
    "# Initialize the OpenAI embeddings model\n",
    "# This will be used to embed your document chunks and user queries\n",
    "embeddings = OpenAIEmbeddings()"
   ]
  },
  {
   "cell_type": "code",
   "execution_count": 7,
   "id": "b9cb5e9a-ce49-413f-b181-37369db67078",
   "metadata": {},
   "outputs": [],
   "source": [
    "from langchain_core.vectorstores import InMemoryVectorStore\n",
    "\n",
    "# Initialize an in-memory vector store using the OpenAI embeddings model\n",
    "# This store will hold your embedded document chunks for retrieval\n",
    "vector_store = InMemoryVectorStore(embeddings)"
   ]
  },
  {
   "cell_type": "code",
   "execution_count": 13,
   "id": "8e3d7f63-ffc7-4ef5-be7f-8010aeb557bb",
   "metadata": {},
   "outputs": [],
   "source": [
    "%%capture --no-stderr\n",
    "%pip install --upgrade --quiet langgraph langchain-community beautifulsoup4"
   ]
  },
  {
   "cell_type": "code",
   "execution_count": 17,
   "id": "f32f6108-1ec3-4063-bc21-c3862b7b2bca",
   "metadata": {},
   "outputs": [
    {
     "name": "stderr",
     "output_type": "stream",
     "text": [
      "USER_AGENT environment variable not set, consider setting it to identify your requests.\n"
     ]
    }
   ],
   "source": [
    "import bs4  # Used to filter and parse HTML\n",
    "from langchain import hub  # For pulling prebuilt prompts later\n",
    "from langchain_community.document_loaders import WebBaseLoader  # Loads website content\n",
    "from langchain_core.documents import Document  # LangChain document format\n",
    "from langchain_text_splitters import RecursiveCharacterTextSplitter  # Breaks text into chunks\n",
    "from typing_extensions import List, TypedDict  # For later use in state typing\n",
    "\n",
    "# --- Load the blog post from Lilian Weng’s site ---\n",
    "loader = WebBaseLoader(\n",
    "    web_paths=(\"https://lilianweng.github.io/posts/2023-06-23-agent/\",),  # URL to load\n",
    "    bs_kwargs=dict(\n",
    "        parse_only=bs4.SoupStrainer(  # Filter out only these HTML elements\n",
    "            class_=(\"post-content\", \"post-title\", \"post-header\")\n",
    "        )\n",
    "    ),\n",
    ")\n",
    "docs = loader.load()  # Load the web page into a list of Document objects\n",
    "\n",
    "# --- Split the document into manageable chunks ---\n",
    "# Chunks will be used for embedding and vector search\n",
    "text_splitter = RecursiveCharacterTextSplitter(\n",
    "    chunk_size=1000,        # Max characters per chunk\n",
    "    chunk_overlap=200       # Overlap between chunks to preserve context\n",
    ")\n",
    "all_splits = text_splitter.split_documents(docs)  # Final list of chunks"
   ]
  },
  {
   "cell_type": "code",
   "execution_count": 19,
   "id": "d53d6046-d059-4898-9b1f-04c47e8565c4",
   "metadata": {},
   "outputs": [],
   "source": [
    "# --- Add the split blog post chunks to your vector store ---\n",
    "# This indexes them so they can be retrieved during similarity search\n",
    "_ = vector_store.add_documents(documents=all_splits)"
   ]
  },
  {
   "cell_type": "code",
   "execution_count": 21,
   "id": "efde0446-c2dc-4889-a4ea-cbad5aa1a6b3",
   "metadata": {},
   "outputs": [],
   "source": [
    "from langgraph.graph import MessagesState, StateGraph\n",
    "\n",
    "# --- Initialize a LangGraph builder using MessagesState ---\n",
    "# This state automatically handles a sequence of messages\n",
    "# including user input, LLM responses, tool calls, and tool outputs\n",
    "graph_builder = StateGraph(MessagesState)"
   ]
  },
  {
   "cell_type": "code",
   "execution_count": 23,
   "id": "b9910ca3-00bf-4355-9cf2-c84ace2aefe8",
   "metadata": {},
   "outputs": [],
   "source": [
    "from langchain_core.tools import tool\n",
    "\n",
    "# --- Define a retrieval tool that the LLM can call during a conversation ---\n",
    "@tool(response_format=\"content_and_artifact\")  # Return both readable text and structured data\n",
    "def retrieve(query: str):\n",
    "    \"\"\"Retrieve information related to a query.\"\"\"\n",
    "    \n",
    "    # Perform semantic search over the indexed document chunks\n",
    "    retrieved_docs = vector_store.similarity_search(query, k=2)\n",
    "    \n",
    "    # Create a readable summary of results for the model to work with\n",
    "    serialized = \"\\n\\n\".join(\n",
    "        f\"Source: {doc.metadata}\\nContent: {doc.page_content}\"\n",
    "        for doc in retrieved_docs\n",
    "    )\n",
    "    \n",
    "    # Return both the summary and the actual documents\n",
    "    return serialized, retrieved_docs"
   ]
  },
  {
   "cell_type": "code",
   "execution_count": 25,
   "id": "ce98034f-248e-4229-ba71-08a4d20abc16",
   "metadata": {},
   "outputs": [],
   "source": [
    "from langchain_core.messages import SystemMessage  # Used to create system-level prompts\n",
    "from langgraph.prebuilt import ToolNode  # Handles tool execution and state tracking\n",
    "\n",
    "# --- Step 1: Generate a response or tool call using the LLM ---\n",
    "def query_or_respond(state: MessagesState):\n",
    "    \"\"\"Generate a tool call for retrieval OR directly respond to the user.\"\"\"\n",
    "    \n",
    "    # Bind the retrieval tool so the LLM can choose to call it\n",
    "    llm_with_tools = llm.bind_tools([retrieve])\n",
    "    \n",
    "    # Invoke the LLM on the message history — may return an answer OR a tool call\n",
    "    response = llm_with_tools.invoke(state[\"messages\"])\n",
    "    \n",
    "    # Return the new AIMessage and append it to the state\n",
    "    return {\"messages\": [response]}\n",
    "\n",
    "\n",
    "# --- Step 2: Execute the retrieval tool, if it was called ---\n",
    "# ToolNode automatically runs the tool and adds its output to the message state as a ToolMessage\n",
    "tools = ToolNode([retrieve])\n",
    "\n",
    "\n",
    "# --- Step 3: Generate a final answer using the retrieved content ---\n",
    "def generate(state: MessagesState):\n",
    "    \"\"\"Generate the final answer using context from ToolMessages.\"\"\"\n",
    "    \n",
    "    # Extract only the most recent ToolMessages (retrieved docs)\n",
    "    recent_tool_messages = []\n",
    "    for message in reversed(state[\"messages\"]):\n",
    "        if message.type == \"tool\":\n",
    "            recent_tool_messages.append(message)\n",
    "        else:\n",
    "            break\n",
    "    tool_messages = recent_tool_messages[::-1]  # Keep in original order\n",
    "\n",
    "    # Format ToolMessages into readable context for the LLM\n",
    "    docs_content = \"\\n\\n\".join(doc.content for doc in tool_messages)\n",
    "    \n",
    "    # Create a system prompt guiding the model to answer concisely using the retrieved context\n",
    "    system_message_content = (\n",
    "        \"You are an assistant for question-answering tasks. \"\n",
    "        \"Use the following pieces of retrieved context to answer the question. \"\n",
    "        \"If you don't know the answer, say that you don't know. \"\n",
    "        \"Use three sentences maximum and keep the answer concise.\\n\\n\"\n",
    "        f\"{docs_content}\"\n",
    "    )\n",
    "    \n",
    "    # Keep relevant message history (human, system, and AI without tool calls)\n",
    "    conversation_messages = [\n",
    "        message\n",
    "        for message in state[\"messages\"]\n",
    "        if message.type in (\"human\", \"system\")\n",
    "        or (message.type == \"ai\" and not message.tool_calls)\n",
    "    ]\n",
    "    \n",
    "    # Create the prompt for the LLM using system + user messages\n",
    "    prompt = [SystemMessage(system_message_content)] + conversation_messages\n",
    "\n",
    "    # Generate the final answer from the model\n",
    "    response = llm.invoke(prompt)\n",
    "    \n",
    "    # Return the message to append to chat history\n",
    "    return {\"messages\": [response]}"
   ]
  },
  {
   "cell_type": "code",
   "execution_count": 27,
   "id": "5dc8950a-5f1e-43f1-8365-aaacae97cd1d",
   "metadata": {},
   "outputs": [],
   "source": [
    "from langgraph.graph import END\n",
    "from langgraph.prebuilt import ToolNode, tools_condition\n",
    "\n",
    "# --- Add nodes to the graph ---\n",
    "# Each node corresponds to a stage in the RAG pipeline\n",
    "graph_builder.add_node(query_or_respond)  # Step 1: Model generates tool call or direct response\n",
    "graph_builder.add_node(tools)             # Step 2: If tool was called, run it (retrieval)\n",
    "graph_builder.add_node(generate)          # Step 3: Final answer generation using retrieved context\n",
    "\n",
    "# --- Define the starting point of the graph ---\n",
    "graph_builder.set_entry_point(\"query_or_respond\")\n",
    "\n",
    "# --- Conditional logic for tool execution ---\n",
    "# If the model calls a tool, go to \"tools\"\n",
    "# If not, the chain ends directly with the initial response\n",
    "graph_builder.add_conditional_edges(\n",
    "    \"query_or_respond\",\n",
    "    tools_condition,  # This built-in condition checks for tool calls in the AIMessage\n",
    "    {\n",
    "        END: END,      # No tool call? End the graph here.\n",
    "        \"tools\": \"tools\",  # Tool call detected? Run the tool.\n",
    "    },\n",
    ")\n",
    "\n",
    "# --- Final transition: after retrieval, generate the final answer, then end the graph ---\n",
    "graph_builder.add_edge(\"tools\", \"generate\")\n",
    "graph_builder.add_edge(\"generate\", END)\n",
    "\n",
    "# --- Compile the graph into a callable app ---\n",
    "graph = graph_builder.compile()"
   ]
  },
  {
   "cell_type": "code",
   "execution_count": 41,
   "id": "bbca9141-332b-4a40-896e-f782b4f9ca7e",
   "metadata": {},
   "outputs": [
    {
     "data": {
      "image/png": "[encoded data removed]",
      "text/plain": [
       "<IPython.core.display.Image object>"
      ]
     },
     "metadata": {},
     "output_type": "display_data"
    }
   ],
   "source": [
    "from IPython.display import Image, display\n",
    "\n",
    "# Render and display a visual diagram of your LangGraph structure\n",
    "# This is helpful to understand the flow between nodes and how conditions route the graph\n",
    "display(Image(graph.get_graph().draw_mermaid_png()))"
   ]
  },
  {
   "cell_type": "code",
   "execution_count": 43,
   "id": "0656c3dc-bdd2-4fb5-b7e6-7ca4dd93398a",
   "metadata": {},
   "outputs": [
    {
     "name": "stdout",
     "output_type": "stream",
     "text": [
      "================================\u001b[1m Human Message \u001b[0m=================================\n",
      "\n",
      "What is Task Decomposition?\n",
      "==================================\u001b[1m Ai Message \u001b[0m==================================\n",
      "Tool Calls:\n",
      "  retrieve (call_SzwI2vVImS6P7OUjomlLl4Um)\n",
      " Call ID: call_SzwI2vVImS6P7OUjomlLl4Um\n",
      "  Args:\n",
      "    query: Task Decomposition\n",
      "=================================\u001b[1m Tool Message \u001b[0m=================================\n",
      "Name: retrieve\n",
      "\n",
      "Source: {'source': 'https://lilianweng.github.io/posts/2023-06-23-agent/'}\n",
      "Content: Fig. 1. Overview of a LLM-powered autonomous agent system.\n",
      "Component One: Planning#\n",
      "A complicated task usually involves many steps. An agent needs to know what they are and plan ahead.\n",
      "Task Decomposition#\n",
      "Chain of thought (CoT; Wei et al. 2022) has become a standard prompting technique for enhancing model performance on complex tasks. The model is instructed to “think step by step” to utilize more test-time computation to decompose hard tasks into smaller and simpler steps. CoT transforms big tasks into multiple manageable tasks and shed lights into an interpretation of the model’s thinking process.\n",
      "\n",
      "Source: {'source': 'https://lilianweng.github.io/posts/2023-06-23-agent/'}\n",
      "Content: Tree of Thoughts (Yao et al. 2023) extends CoT by exploring multiple reasoning possibilities at each step. It first decomposes the problem into multiple thought steps and generates multiple thoughts per step, creating a tree structure. The search process can be BFS (breadth-first search) or DFS (depth-first search) with each state evaluated by a classifier (via a prompt) or majority vote.\n",
      "Task decomposition can be done (1) by LLM with simple prompting like \"Steps for XYZ.\\n1.\", \"What are the subgoals for achieving XYZ?\", (2) by using task-specific instructions; e.g. \"Write a story outline.\" for writing a novel, or (3) with human inputs.\n",
      "==================================\u001b[1m Ai Message \u001b[0m==================================\n",
      "\n",
      "Task decomposition is the process of breaking down a complicated task into smaller, more manageable steps. It often involves using techniques like Chain of Thought (CoT) to enhance model performance by guiding the model to think step by step. This method helps clarify the model’s reasoning and makes complex tasks easier to tackle.\n"
     ]
    }
   ],
   "source": [
    "# Define the user's input message\n",
    "input_message = \"What is Task Decomposition?\"\n",
    "\n",
    "# Stream the conversation step-by-step through the LangGraph\n",
    "# This will show each step in the workflow (tool call, retrieval, final answer, etc.)\n",
    "for step in graph.stream(\n",
    "    {\"messages\": [{\"role\": \"user\", \"content\": input_message}]},  # Initial input wrapped as message\n",
    "    stream_mode=\"values\",  # Only the message values (no metadata)\n",
    "):\n",
    "    # Display the final message from each step (pretty-printed for readability)\n",
    "    step[\"messages\"][-1].pretty_print()"
   ]
  },
  {
   "cell_type": "code",
   "execution_count": 45,
   "id": "da8f0664-3420-44b6-85c9-0121af0a304b",
   "metadata": {},
   "outputs": [],
   "source": [
    "from langgraph.checkpoint.memory import MemorySaver  # In-memory storage for chat state\n",
    "\n",
    "# Create a memory checkpointer (in-memory version)\n",
    "memory = MemorySaver()\n",
    "\n",
    "# Recompile the graph with memory support enabled\n",
    "graph = graph_builder.compile(checkpointer=memory)\n",
    "\n",
    "# Assign a unique thread ID for the conversation (helps track history)\n",
    "config = {\"configurable\": {\"thread_id\": \"abc123\"}}"
   ]
  },
  {
   "cell_type": "code",
   "execution_count": 47,
   "id": "938c1ce6-aa65-46ac-9ff8-9aaf3d012a64",
   "metadata": {},
   "outputs": [
    {
     "name": "stdout",
     "output_type": "stream",
     "text": [
      "================================\u001b[1m Human Message \u001b[0m=================================\n",
      "\n",
      "What is Task Decomposition?\n",
      "==================================\u001b[1m Ai Message \u001b[0m==================================\n",
      "Tool Calls:\n",
      "  retrieve (call_87IAkl9fpRN98kKr0dmfgKXo)\n",
      " Call ID: call_87IAkl9fpRN98kKr0dmfgKXo\n",
      "  Args:\n",
      "    query: Task Decomposition\n",
      "=================================\u001b[1m Tool Message \u001b[0m=================================\n",
      "Name: retrieve\n",
      "\n",
      "Source: {'source': 'https://lilianweng.github.io/posts/2023-06-23-agent/'}\n",
      "Content: Fig. 1. Overview of a LLM-powered autonomous agent system.\n",
      "Component One: Planning#\n",
      "A complicated task usually involves many steps. An agent needs to know what they are and plan ahead.\n",
      "Task Decomposition#\n",
      "Chain of thought (CoT; Wei et al. 2022) has become a standard prompting technique for enhancing model performance on complex tasks. The model is instructed to “think step by step” to utilize more test-time computation to decompose hard tasks into smaller and simpler steps. CoT transforms big tasks into multiple manageable tasks and shed lights into an interpretation of the model’s thinking process.\n",
      "\n",
      "Source: {'source': 'https://lilianweng.github.io/posts/2023-06-23-agent/'}\n",
      "Content: Tree of Thoughts (Yao et al. 2023) extends CoT by exploring multiple reasoning possibilities at each step. It first decomposes the problem into multiple thought steps and generates multiple thoughts per step, creating a tree structure. The search process can be BFS (breadth-first search) or DFS (depth-first search) with each state evaluated by a classifier (via a prompt) or majority vote.\n",
      "Task decomposition can be done (1) by LLM with simple prompting like \"Steps for XYZ.\\n1.\", \"What are the subgoals for achieving XYZ?\", (2) by using task-specific instructions; e.g. \"Write a story outline.\" for writing a novel, or (3) with human inputs.\n",
      "==================================\u001b[1m Ai Message \u001b[0m==================================\n",
      "\n",
      "Task Decomposition is the process of breaking down a complicated task into smaller, manageable steps. It often involves techniques like Chain of Thought (CoT), which encourages the model to think step by step, and can also be conducted through simple prompting or human inputs. This method enhances performance by transforming complex tasks into simpler ones, allowing for clearer reasoning and execution.\n"
     ]
    }
   ],
   "source": [
    "# User input (first message in the conversation)\n",
    "input_message = \"What is Task Decomposition?\"\n",
    "\n",
    "# Stream the graph step-by-step, now with memory enabled\n",
    "for step in graph.stream(\n",
    "    {\"messages\": [{\"role\": \"user\", \"content\": input_message}]},  # Initial message\n",
    "    stream_mode=\"values\",  # Only return message values (not full metadata)\n",
    "    config=config,  # Include conversation thread ID for memory\n",
    "):\n",
    "    # Print the final message at each step\n",
    "    step[\"messages\"][-1].pretty_print()"
   ]
  },
  {
   "cell_type": "code",
   "execution_count": 49,
   "id": "68534183-adcb-40aa-ac55-3f5c51577142",
   "metadata": {},
   "outputs": [
    {
     "name": "stdout",
     "output_type": "stream",
     "text": [
      "================================\u001b[1m Human Message \u001b[0m=================================\n",
      "\n",
      "Can you look up some common ways of doing it?\n",
      "==================================\u001b[1m Ai Message \u001b[0m==================================\n",
      "Tool Calls:\n",
      "  retrieve (call_B7wlc2GruujXT0ovp4ZvbRR3)\n",
      " Call ID: call_B7wlc2GruujXT0ovp4ZvbRR3\n",
      "  Args:\n",
      "    query: common methods of task decomposition\n",
      "=================================\u001b[1m Tool Message \u001b[0m=================================\n",
      "Name: retrieve\n",
      "\n",
      "Source: {'source': 'https://lilianweng.github.io/posts/2023-06-23-agent/'}\n",
      "Content: Tree of Thoughts (Yao et al. 2023) extends CoT by exploring multiple reasoning possibilities at each step. It first decomposes the problem into multiple thought steps and generates multiple thoughts per step, creating a tree structure. The search process can be BFS (breadth-first search) or DFS (depth-first search) with each state evaluated by a classifier (via a prompt) or majority vote.\n",
      "Task decomposition can be done (1) by LLM with simple prompting like \"Steps for XYZ.\\n1.\", \"What are the subgoals for achieving XYZ?\", (2) by using task-specific instructions; e.g. \"Write a story outline.\" for writing a novel, or (3) with human inputs.\n",
      "\n",
      "Source: {'source': 'https://lilianweng.github.io/posts/2023-06-23-agent/'}\n",
      "Content: Fig. 1. Overview of a LLM-powered autonomous agent system.\n",
      "Component One: Planning#\n",
      "A complicated task usually involves many steps. An agent needs to know what they are and plan ahead.\n",
      "Task Decomposition#\n",
      "Chain of thought (CoT; Wei et al. 2022) has become a standard prompting technique for enhancing model performance on complex tasks. The model is instructed to “think step by step” to utilize more test-time computation to decompose hard tasks into smaller and simpler steps. CoT transforms big tasks into multiple manageable tasks and shed lights into an interpretation of the model’s thinking process.\n",
      "==================================\u001b[1m Ai Message \u001b[0m==================================\n",
      "\n",
      "Common ways of performing Task Decomposition include: (1) using large language models (LLMs) with simple prompts like \"Steps for XYZ\" or \"What are the subgoals for achieving XYZ?\", (2) applying task-specific instructions, such as \"Write a story outline\" for creative tasks, and (3) incorporating human inputs to specify the necessary steps. These methods help to clarify and organize the thought process involved in complex tasks.\n"
     ]
    }
   ],
   "source": [
    "# Follow-up question, relying on memory from previous conversation turns\n",
    "input_message = \"Can you look up some common ways of doing it?\"\n",
    "\n",
    "# Stream the response from the graph, using the same thread_id\n",
    "for step in graph.stream(\n",
    "    {\"messages\": [{\"role\": \"user\", \"content\": input_message}]},  # Follow-up message\n",
    "    stream_mode=\"values\",  # Return message content only\n",
    "    config=config,  # Use the same conversation ID for memory\n",
    "):\n",
    "    # Show the final message generated at this step\n",
    "    step[\"messages\"][-1].pretty_print()"
   ]
  },
  {
   "cell_type": "code",
   "execution_count": 51,
   "id": "8b32687b-48db-4197-a6d5-f437dfe04eb1",
   "metadata": {},
   "outputs": [],
   "source": [
    "from langgraph.prebuilt import create_react_agent\n",
    "\n",
    "# Create a ReAct-style agent executor using your LLM and tools\n",
    "# This agent can call `retrieve` multiple times if needed\n",
    "# It uses the same memory so conversation history is preserved\n",
    "agent_executor = create_react_agent(llm, [retrieve], checkpointer=memory)"
   ]
  },
  {
   "cell_type": "code",
   "execution_count": 53,
   "id": "84e250fb-f1fd-426d-9525-90c9442da733",
   "metadata": {},
   "outputs": [
    {
     "data": {
      "image/png": "[encoded data removed]",
      "text/plain": [
       "<IPython.core.display.Image object>"
      ]
     },
     "metadata": {},
     "output_type": "display_data"
    }
   ],
   "source": [
    "from IPython.display import Image, display\n",
    "\n",
    "# Visualize the structure of the agent's execution graph\n",
    "# This helps you understand how the agent decides between thinking, tool use, and final response\n",
    "display(Image(agent_executor.get_graph().draw_mermaid_png()))\n"
   ]
  },
  {
   "cell_type": "code",
   "execution_count": 55,
   "id": "9c3b5f6f-6658-4e93-9fd5-6a481507cec5",
   "metadata": {},
   "outputs": [
    {
     "name": "stdout",
     "output_type": "stream",
     "text": [
      "================================\u001b[1m Human Message \u001b[0m=================================\n",
      "\n",
      "What is the standard method for Task Decomposition?\n",
      "\n",
      "Once you get the answer, look up common extensions of that method.\n",
      "==================================\u001b[1m Ai Message \u001b[0m==================================\n",
      "Tool Calls:\n",
      "  retrieve (call_ESiNv4Px6UnNxaYjV51Zxe6M)\n",
      " Call ID: call_ESiNv4Px6UnNxaYjV51Zxe6M\n",
      "  Args:\n",
      "    query: standard method for Task Decomposition\n",
      "=================================\u001b[1m Tool Message \u001b[0m=================================\n",
      "Name: retrieve\n",
      "\n",
      "Source: {'source': 'https://lilianweng.github.io/posts/2023-06-23-agent/'}\n",
      "Content: Tree of Thoughts (Yao et al. 2023) extends CoT by exploring multiple reasoning possibilities at each step. It first decomposes the problem into multiple thought steps and generates multiple thoughts per step, creating a tree structure. The search process can be BFS (breadth-first search) or DFS (depth-first search) with each state evaluated by a classifier (via a prompt) or majority vote.\n",
      "Task decomposition can be done (1) by LLM with simple prompting like \"Steps for XYZ.\\n1.\", \"What are the subgoals for achieving XYZ?\", (2) by using task-specific instructions; e.g. \"Write a story outline.\" for writing a novel, or (3) with human inputs.\n",
      "\n",
      "Source: {'source': 'https://lilianweng.github.io/posts/2023-06-23-agent/'}\n",
      "Content: Fig. 1. Overview of a LLM-powered autonomous agent system.\n",
      "Component One: Planning#\n",
      "A complicated task usually involves many steps. An agent needs to know what they are and plan ahead.\n",
      "Task Decomposition#\n",
      "Chain of thought (CoT; Wei et al. 2022) has become a standard prompting technique for enhancing model performance on complex tasks. The model is instructed to “think step by step” to utilize more test-time computation to decompose hard tasks into smaller and simpler steps. CoT transforms big tasks into multiple manageable tasks and shed lights into an interpretation of the model’s thinking process.\n",
      "==================================\u001b[1m Ai Message \u001b[0m==================================\n",
      "Tool Calls:\n",
      "  retrieve (call_QwKbiP6QZTUx5ZpRzZvWOm7R)\n",
      " Call ID: call_QwKbiP6QZTUx5ZpRzZvWOm7R\n",
      "  Args:\n",
      "    query: common extensions of Task Decomposition method\n",
      "=================================\u001b[1m Tool Message \u001b[0m=================================\n",
      "Name: retrieve\n",
      "\n",
      "Source: {'source': 'https://lilianweng.github.io/posts/2023-06-23-agent/'}\n",
      "Content: Tree of Thoughts (Yao et al. 2023) extends CoT by exploring multiple reasoning possibilities at each step. It first decomposes the problem into multiple thought steps and generates multiple thoughts per step, creating a tree structure. The search process can be BFS (breadth-first search) or DFS (depth-first search) with each state evaluated by a classifier (via a prompt) or majority vote.\n",
      "Task decomposition can be done (1) by LLM with simple prompting like \"Steps for XYZ.\\n1.\", \"What are the subgoals for achieving XYZ?\", (2) by using task-specific instructions; e.g. \"Write a story outline.\" for writing a novel, or (3) with human inputs.\n",
      "\n",
      "Source: {'source': 'https://lilianweng.github.io/posts/2023-06-23-agent/'}\n",
      "Content: Fig. 1. Overview of a LLM-powered autonomous agent system.\n",
      "Component One: Planning#\n",
      "A complicated task usually involves many steps. An agent needs to know what they are and plan ahead.\n",
      "Task Decomposition#\n",
      "Chain of thought (CoT; Wei et al. 2022) has become a standard prompting technique for enhancing model performance on complex tasks. The model is instructed to “think step by step” to utilize more test-time computation to decompose hard tasks into smaller and simpler steps. CoT transforms big tasks into multiple manageable tasks and shed lights into an interpretation of the model’s thinking process.\n",
      "==================================\u001b[1m Ai Message \u001b[0m==================================\n",
      "\n",
      "### Standard Method for Task Decomposition\n",
      "\n",
      "The standard method for task decomposition involves several approaches, with one prominent technique being Chain of Thought (CoT). This method allows models to break down complex tasks into manageable steps by prompting them to “think step by step.” This approach enhances the performance of models on complicated tasks, making it easier to interpret their reasoning process. Here are the main methods of task decomposition:\n",
      "\n",
      "1. **Prompting Techniques**:\n",
      "   - Basic prompts such as \"Steps for XYZ.\\n1.\" or \"What are the subgoals for achieving XYZ?\" can guide a model to decompose tasks.\n",
      "   - Task-specific instructions, like \"Write a story outline,\" can be used for particular types of tasks.\n",
      "\n",
      "2. **Human Inputs**: This method involves directing how a task may be broken down through human-defined parameters.\n",
      "\n",
      "### Common Extensions of Task Decomposition Method\n",
      "\n",
      "1. **Tree of Thoughts (ToT)**:\n",
      "   - Developed by Yao et al. in 2023, this method extends CoT by allowing multiple reasoning possibilities at each step. \n",
      "   - It creates a tree structure where each issue is broken down into multiple thought steps, allowing for diverse pathways and solutions.\n",
      "   - The exploration within this tree can utilize search strategies like breadth-first search (BFS) or depth-first search (DFS), assessing each state with classifiers or voting mechanisms.\n",
      "\n",
      "Overall, task decomposition is essential for managing complex tasks, and extensions like the Tree of Thoughts provide enhanced capabilities for exploring multiple reasoning avenues.\n"
     ]
    }
   ],
   "source": [
    "# Define a new thread ID to track this conversation separately\n",
    "config = {\"configurable\": {\"thread_id\": \"def234\"}}\n",
    "\n",
    "# Multi-step user question that encourages iteration\n",
    "input_message = (\n",
    "    \"What is the standard method for Task Decomposition?\\n\\n\"\n",
    "    \"Once you get the answer, look up common extensions of that method.\"\n",
    ")\n",
    "\n",
    "# Stream each step of the agent's reasoning and actions\n",
    "for event in agent_executor.stream(\n",
    "    {\"messages\": [{\"role\": \"user\", \"content\": input_message}]},  # Input message\n",
    "    stream_mode=\"values\",  # Show messages only\n",
    "    config=config,  # Maintain history with unique thread ID\n",
    "):\n",
    "    # Print the last message at each stage of the agent's execution\n",
    "    event[\"messages\"][-1].pretty_print()"
   ]
  },
  {
   "cell_type": "code",
   "execution_count": 57,
   "id": "57f347a4-3c15-4685-9bb0-5aaac9550a3b",
   "metadata": {},
   "outputs": [
    {
     "name": "stdout",
     "output_type": "stream",
     "text": [
      "================================\u001b[1m Human Message \u001b[0m=================================\n",
      "\n",
      "What is the standard method for Task Decomposition?\n",
      "\n",
      "Once you get the answer, look up common extensions of that method.\n",
      "==================================\u001b[1m Ai Message \u001b[0m==================================\n",
      "Tool Calls:\n",
      "  retrieve (call_h7srln4UCjQPxRrbw3e67Xuw)\n",
      " Call ID: call_h7srln4UCjQPxRrbw3e67Xuw\n",
      "  Args:\n",
      "    query: standard method for Task Decomposition\n",
      "=================================\u001b[1m Tool Message \u001b[0m=================================\n",
      "Name: retrieve\n",
      "\n",
      "Source: {'source': 'https://lilianweng.github.io/posts/2023-06-23-agent/'}\n",
      "Content: Tree of Thoughts (Yao et al. 2023) extends CoT by exploring multiple reasoning possibilities at each step. It first decomposes the problem into multiple thought steps and generates multiple thoughts per step, creating a tree structure. The search process can be BFS (breadth-first search) or DFS (depth-first search) with each state evaluated by a classifier (via a prompt) or majority vote.\n",
      "Task decomposition can be done (1) by LLM with simple prompting like \"Steps for XYZ.\\n1.\", \"What are the subgoals for achieving XYZ?\", (2) by using task-specific instructions; e.g. \"Write a story outline.\" for writing a novel, or (3) with human inputs.\n",
      "\n",
      "Source: {'source': 'https://lilianweng.github.io/posts/2023-06-23-agent/'}\n",
      "Content: Fig. 1. Overview of a LLM-powered autonomous agent system.\n",
      "Component One: Planning#\n",
      "A complicated task usually involves many steps. An agent needs to know what they are and plan ahead.\n",
      "Task Decomposition#\n",
      "Chain of thought (CoT; Wei et al. 2022) has become a standard prompting technique for enhancing model performance on complex tasks. The model is instructed to “think step by step” to utilize more test-time computation to decompose hard tasks into smaller and simpler steps. CoT transforms big tasks into multiple manageable tasks and shed lights into an interpretation of the model’s thinking process.\n",
      "==================================\u001b[1m Ai Message \u001b[0m==================================\n",
      "Tool Calls:\n",
      "  retrieve (call_LJrGomhkNUw4Rx2mR5n53oCs)\n",
      " Call ID: call_LJrGomhkNUw4Rx2mR5n53oCs\n",
      "  Args:\n",
      "    query: common extensions of Task Decomposition method\n",
      "=================================\u001b[1m Tool Message \u001b[0m=================================\n",
      "Name: retrieve\n",
      "\n",
      "Source: {'source': 'https://lilianweng.github.io/posts/2023-06-23-agent/'}\n",
      "Content: Tree of Thoughts (Yao et al. 2023) extends CoT by exploring multiple reasoning possibilities at each step. It first decomposes the problem into multiple thought steps and generates multiple thoughts per step, creating a tree structure. The search process can be BFS (breadth-first search) or DFS (depth-first search) with each state evaluated by a classifier (via a prompt) or majority vote.\n",
      "Task decomposition can be done (1) by LLM with simple prompting like \"Steps for XYZ.\\n1.\", \"What are the subgoals for achieving XYZ?\", (2) by using task-specific instructions; e.g. \"Write a story outline.\" for writing a novel, or (3) with human inputs.\n",
      "\n",
      "Source: {'source': 'https://lilianweng.github.io/posts/2023-06-23-agent/'}\n",
      "Content: Fig. 1. Overview of a LLM-powered autonomous agent system.\n",
      "Component One: Planning#\n",
      "A complicated task usually involves many steps. An agent needs to know what they are and plan ahead.\n",
      "Task Decomposition#\n",
      "Chain of thought (CoT; Wei et al. 2022) has become a standard prompting technique for enhancing model performance on complex tasks. The model is instructed to “think step by step” to utilize more test-time computation to decompose hard tasks into smaller and simpler steps. CoT transforms big tasks into multiple manageable tasks and shed lights into an interpretation of the model’s thinking process.\n",
      "==================================\u001b[1m Ai Message \u001b[0m==================================\n",
      "\n",
      "### Standard Method for Task Decomposition\n",
      "\n",
      "The standard method for task decomposition is primarily based on the **Chain of Thought (CoT)** technique. This method allows for breaking down complex tasks into simpler, manageable steps through prompting that encourages models to “think step by step.” This approach not only aids in enhancing model performance but also offers clarity into the decision-making process. The key elements of this method include:\n",
      "\n",
      "1. **Step-by-Step Reasoning**: Tasks are structured into smaller components, making them easier to tackle.\n",
      "2. **Prompts**: Simple prompts or task-specific instructions guide the decomposition:\n",
      "   - General prompts like \"Steps for XYZ.\\n1.\"\n",
      "   - Task-focused prompts like \"Write a story outline\" for narrative constructions.\n",
      "3. **Human Inputs**: Engaging human insight can also guide the decomposition process effectively.\n",
      "\n",
      "### Common Extensions of Task Decomposition Method\n",
      "\n",
      "1. **Tree of Thoughts (ToT)**:\n",
      "   - This extension, introduced by Yao et al. in 2023, enhances the CoT method by allowing exploration of multiple reasoning possibilities at each step.\n",
      "   - It organizes thoughts into a tree structure, where every problem is decomposed into multiple thought steps, allowing for branching paths and diverse problem-solving.\n",
      "   - This approach can utilize strategies like breadth-first search (BFS) or depth-first search (DFS) to evaluate different pathways through classifiers or voting mechanisms.\n",
      "\n",
      "These methodologies and extensions significantly improve the ability to address and manage complex tasks by breaking them into comprehensible parts.\n"
     ]
    }
   ],
   "source": [
    "# Define a new thread ID to track this conversation separately\n",
    "config = {\"configurable\": {\"thread_id\": \"def234\"}}\n",
    "\n",
    "# Multi-step user question that encourages iteration\n",
    "input_message = (\n",
    "    \"What is the standard method for Task Decomposition?\\n\\n\"\n",
    "    \"Once you get the answer, look up common extensions of that method.\"\n",
    ")\n",
    "\n",
    "# Stream each step of the agent's reasoning and actions\n",
    "for event in agent_executor.stream(\n",
    "    {\"messages\": [{\"role\": \"user\", \"content\": input_message}]},  # Input message\n",
    "    stream_mode=\"values\",  # Show messages only\n",
    "    config=config,  # Maintain history with unique thread ID\n",
    "):\n",
    "    # Print the last message at each stage of the agent's execution\n",
    "    event[\"messages\"][-1].pretty_print()"
   ]
  },
  {
   "cell_type": "code",
   "execution_count": null,
   "id": "0d9bc0ba-12e9-41cd-b8d5-fc5f27787be5",
   "metadata": {},
   "outputs": [],
   "source": []
  }
 ],
 "metadata": {
  "kernelspec": {
   "display_name": "Python [conda env:base] *",
   "language": "python",
   "name": "conda-base-py"
  },
  "language_info": {
   "codemirror_mode": {
    "name": "ipython",
    "version": 3
   },
   "file_extension": ".py",
   "mimetype": "text/x-python",
   "name": "python",
   "nbconvert_exporter": "python",
   "pygments_lexer": "ipython3",
   "version": "3.12.2"
  }
 },
 "nbformat": 4,
 "nbformat_minor": 5
}
